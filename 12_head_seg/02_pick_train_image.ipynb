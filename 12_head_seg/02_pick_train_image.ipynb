{
 "cells": [
  {
   "cell_type": "code",
   "execution_count": 1,
   "metadata": {},
   "outputs": [],
   "source": [
    "from config import *"
   ]
  },
  {
   "cell_type": "code",
   "execution_count": 6,
   "metadata": {},
   "outputs": [
    {
     "name": "stdout",
     "output_type": "stream",
     "text": [
      "project_data_folder_path:  Z:\\hwang_Pro\\data\\2022_tanashi_broccoli\n",
      "working_space_path:  Z:\\hwang_Pro\\data\\2022_tanashi_broccoli\\12_head_segment\n",
      "annotation_path:  Z:\\hwang_Pro\\data\\2022_tanashi_broccoli\\12_head_segment\\annotations\\tbd\n"
     ]
    }
   ],
   "source": [
    "project_data_folder_path = Path(project_data_folder)\n",
    "working_space_path = project_data_folder_path.joinpath(working_spacename)\n",
    "\n",
    "annotation_path = working_space_path.joinpath('annotations', 'tbd')\n",
    "\n",
    "annotation_path.mkdir(exist_ok=True)\n",
    "\n",
    "print('project_data_folder_path: ', project_data_folder_path)\n",
    "print('working_space_path: ', working_space_path)\n",
    "print('annotation_path: ', annotation_path)"
   ]
  },
  {
   "attachments": {},
   "cell_type": "markdown",
   "metadata": {},
   "source": [
    "## Json File Generation"
   ]
  },
  {
   "cell_type": "code",
   "execution_count": 23,
   "metadata": {},
   "outputs": [],
   "source": [
    "file_name_list = []\n",
    "resolve_path_list = []\n",
    "relative_path_list = []\n",
    "date_list = []\n",
    "suffix_list = []\n"
   ]
  },
  {
   "cell_type": "code",
   "execution_count": 28,
   "metadata": {},
   "outputs": [],
   "source": [
    "for file in working_space_path.rglob(\"*\"):\n",
    "    if file.suffix.lower() in supported_suffix:\n",
    "        # print(os.path.relpath(file, annotation_path))\n",
    "        suffix_list.append(file.suffix)\n",
    "        file_name_list.append(file.stem)\n",
    "        resolve_path_list.append(file.resolve())\n",
    "        relative_path_list.append(os.path.relpath(file, annotation_path))\n",
    "        date_list.append(file.parent.stem.split('-')[-1])"
   ]
  },
  {
   "cell_type": "code",
   "execution_count": 29,
   "metadata": {},
   "outputs": [],
   "source": [
    "status_list = ['blank'] * len(date_list)"
   ]
  },
  {
   "cell_type": "code",
   "execution_count": 30,
   "metadata": {},
   "outputs": [],
   "source": [
    "working_space_dict = {'date': date_list, \n",
    "                      'file_name': file_name_list, \n",
    "                      'resolve_path': resolve_path_list,\n",
    "                      'relative_path': relative_path_list,\n",
    "                      'status': status_list}"
   ]
  },
  {
   "cell_type": "code",
   "execution_count": 31,
   "metadata": {},
   "outputs": [],
   "source": [
    "working_space_df = pd.DataFrame(working_space_dict, index=None)"
   ]
  },
  {
   "cell_type": "code",
   "execution_count": 32,
   "metadata": {},
   "outputs": [],
   "source": [
    "working_space_df.to_csv('json_index.csv', index=False)"
   ]
  },
  {
   "attachments": {},
   "cell_type": "markdown",
   "metadata": {},
   "source": [
    "## Random select some images"
   ]
  },
  {
   "attachments": {},
   "cell_type": "markdown",
   "metadata": {},
   "source": [
    "### Read Json File"
   ]
  },
  {
   "cell_type": "code",
   "execution_count": 2,
   "metadata": {},
   "outputs": [
    {
     "data": {
      "text/html": [
       "<div>\n",
       "<style scoped>\n",
       "    .dataframe tbody tr th:only-of-type {\n",
       "        vertical-align: middle;\n",
       "    }\n",
       "\n",
       "    .dataframe tbody tr th {\n",
       "        vertical-align: top;\n",
       "    }\n",
       "\n",
       "    .dataframe thead th {\n",
       "        text-align: right;\n",
       "    }\n",
       "</style>\n",
       "<table border=\"1\" class=\"dataframe\">\n",
       "  <thead>\n",
       "    <tr style=\"text-align: right;\">\n",
       "      <th></th>\n",
       "      <th>date</th>\n",
       "      <th>file_name</th>\n",
       "      <th>resolve_path</th>\n",
       "      <th>relative_path</th>\n",
       "      <th>status</th>\n",
       "    </tr>\n",
       "  </thead>\n",
       "  <tbody>\n",
       "    <tr>\n",
       "      <th>0</th>\n",
       "      <td>20220321_0</td>\n",
       "      <td>1_DJI_0001</td>\n",
       "      <td>\\\\192.168.253.181\\dataNprocess\\hwang_Pro\\data\\...</td>\n",
       "      <td>..\\..\\broccoli_autumn21-20220321_0\\1_DJI_0001.png</td>\n",
       "      <td>blank</td>\n",
       "    </tr>\n",
       "    <tr>\n",
       "      <th>1</th>\n",
       "      <td>20220321_0</td>\n",
       "      <td>2_DJI_0001</td>\n",
       "      <td>\\\\192.168.253.181\\dataNprocess\\hwang_Pro\\data\\...</td>\n",
       "      <td>..\\..\\broccoli_autumn21-20220321_0\\2_DJI_0001.png</td>\n",
       "      <td>blank</td>\n",
       "    </tr>\n",
       "    <tr>\n",
       "      <th>2</th>\n",
       "      <td>20220321_0</td>\n",
       "      <td>3_DJI_0999</td>\n",
       "      <td>\\\\192.168.253.181\\dataNprocess\\hwang_Pro\\data\\...</td>\n",
       "      <td>..\\..\\broccoli_autumn21-20220321_0\\3_DJI_0999.png</td>\n",
       "      <td>blank</td>\n",
       "    </tr>\n",
       "    <tr>\n",
       "      <th>3</th>\n",
       "      <td>20220321_0</td>\n",
       "      <td>4_DJI_0998</td>\n",
       "      <td>\\\\192.168.253.181\\dataNprocess\\hwang_Pro\\data\\...</td>\n",
       "      <td>..\\..\\broccoli_autumn21-20220321_0\\4_DJI_0998.png</td>\n",
       "      <td>blank</td>\n",
       "    </tr>\n",
       "    <tr>\n",
       "      <th>4</th>\n",
       "      <td>20220321_0</td>\n",
       "      <td>5_DJI_0998</td>\n",
       "      <td>\\\\192.168.253.181\\dataNprocess\\hwang_Pro\\data\\...</td>\n",
       "      <td>..\\..\\broccoli_autumn21-20220321_0\\5_DJI_0998.png</td>\n",
       "      <td>blank</td>\n",
       "    </tr>\n",
       "  </tbody>\n",
       "</table>\n",
       "</div>"
      ],
      "text/plain": [
       "         date   file_name                                       resolve_path  \\\n",
       "0  20220321_0  1_DJI_0001  \\\\192.168.253.181\\dataNprocess\\hwang_Pro\\data\\...   \n",
       "1  20220321_0  2_DJI_0001  \\\\192.168.253.181\\dataNprocess\\hwang_Pro\\data\\...   \n",
       "2  20220321_0  3_DJI_0999  \\\\192.168.253.181\\dataNprocess\\hwang_Pro\\data\\...   \n",
       "3  20220321_0  4_DJI_0998  \\\\192.168.253.181\\dataNprocess\\hwang_Pro\\data\\...   \n",
       "4  20220321_0  5_DJI_0998  \\\\192.168.253.181\\dataNprocess\\hwang_Pro\\data\\...   \n",
       "\n",
       "                                       relative_path status  \n",
       "0  ..\\..\\broccoli_autumn21-20220321_0\\1_DJI_0001.png  blank  \n",
       "1  ..\\..\\broccoli_autumn21-20220321_0\\2_DJI_0001.png  blank  \n",
       "2  ..\\..\\broccoli_autumn21-20220321_0\\3_DJI_0999.png  blank  \n",
       "3  ..\\..\\broccoli_autumn21-20220321_0\\4_DJI_0998.png  blank  \n",
       "4  ..\\..\\broccoli_autumn21-20220321_0\\5_DJI_0998.png  blank  "
      ]
     },
     "execution_count": 2,
     "metadata": {},
     "output_type": "execute_result"
    }
   ],
   "source": [
    "df = pd.read_csv('./json_index.csv', index_col=None)\n",
    "df.head()"
   ]
  },
  {
   "attachments": {},
   "cell_type": "markdown",
   "metadata": {},
   "source": [
    "### Random select n samples for each data"
   ]
  },
  {
   "cell_type": "code",
   "execution_count": 3,
   "metadata": {},
   "outputs": [
    {
     "data": {
      "text/html": [
       "<div>\n",
       "<style scoped>\n",
       "    .dataframe tbody tr th:only-of-type {\n",
       "        vertical-align: middle;\n",
       "    }\n",
       "\n",
       "    .dataframe tbody tr th {\n",
       "        vertical-align: top;\n",
       "    }\n",
       "\n",
       "    .dataframe thead th {\n",
       "        text-align: right;\n",
       "    }\n",
       "</style>\n",
       "<table border=\"1\" class=\"dataframe\">\n",
       "  <thead>\n",
       "    <tr style=\"text-align: right;\">\n",
       "      <th></th>\n",
       "      <th>date</th>\n",
       "      <th>file_name</th>\n",
       "      <th>resolve_path</th>\n",
       "      <th>relative_path</th>\n",
       "      <th>status</th>\n",
       "    </tr>\n",
       "  </thead>\n",
       "  <tbody>\n",
       "    <tr>\n",
       "      <th>0</th>\n",
       "      <td>20220321_0</td>\n",
       "      <td>1_DJI_0001</td>\n",
       "      <td>\\\\192.168.253.181\\dataNprocess\\hwang_Pro\\data\\...</td>\n",
       "      <td>..\\..\\broccoli_autumn21-20220321_0\\1_DJI_0001.png</td>\n",
       "      <td>blank</td>\n",
       "    </tr>\n",
       "    <tr>\n",
       "      <th>1</th>\n",
       "      <td>20220321_0</td>\n",
       "      <td>2_DJI_0001</td>\n",
       "      <td>\\\\192.168.253.181\\dataNprocess\\hwang_Pro\\data\\...</td>\n",
       "      <td>..\\..\\broccoli_autumn21-20220321_0\\2_DJI_0001.png</td>\n",
       "      <td>blank</td>\n",
       "    </tr>\n",
       "    <tr>\n",
       "      <th>2</th>\n",
       "      <td>20220321_0</td>\n",
       "      <td>3_DJI_0999</td>\n",
       "      <td>\\\\192.168.253.181\\dataNprocess\\hwang_Pro\\data\\...</td>\n",
       "      <td>..\\..\\broccoli_autumn21-20220321_0\\3_DJI_0999.png</td>\n",
       "      <td>blank</td>\n",
       "    </tr>\n",
       "    <tr>\n",
       "      <th>3</th>\n",
       "      <td>20220321_0</td>\n",
       "      <td>4_DJI_0998</td>\n",
       "      <td>\\\\192.168.253.181\\dataNprocess\\hwang_Pro\\data\\...</td>\n",
       "      <td>..\\..\\broccoli_autumn21-20220321_0\\4_DJI_0998.png</td>\n",
       "      <td>blank</td>\n",
       "    </tr>\n",
       "    <tr>\n",
       "      <th>4</th>\n",
       "      <td>20220321_0</td>\n",
       "      <td>5_DJI_0998</td>\n",
       "      <td>\\\\192.168.253.181\\dataNprocess\\hwang_Pro\\data\\...</td>\n",
       "      <td>..\\..\\broccoli_autumn21-20220321_0\\5_DJI_0998.png</td>\n",
       "      <td>blank</td>\n",
       "    </tr>\n",
       "  </tbody>\n",
       "</table>\n",
       "</div>"
      ],
      "text/plain": [
       "         date   file_name                                       resolve_path  \\\n",
       "0  20220321_0  1_DJI_0001  \\\\192.168.253.181\\dataNprocess\\hwang_Pro\\data\\...   \n",
       "1  20220321_0  2_DJI_0001  \\\\192.168.253.181\\dataNprocess\\hwang_Pro\\data\\...   \n",
       "2  20220321_0  3_DJI_0999  \\\\192.168.253.181\\dataNprocess\\hwang_Pro\\data\\...   \n",
       "3  20220321_0  4_DJI_0998  \\\\192.168.253.181\\dataNprocess\\hwang_Pro\\data\\...   \n",
       "4  20220321_0  5_DJI_0998  \\\\192.168.253.181\\dataNprocess\\hwang_Pro\\data\\...   \n",
       "\n",
       "                                       relative_path status  \n",
       "0  ..\\..\\broccoli_autumn21-20220321_0\\1_DJI_0001.png  blank  \n",
       "1  ..\\..\\broccoli_autumn21-20220321_0\\2_DJI_0001.png  blank  \n",
       "2  ..\\..\\broccoli_autumn21-20220321_0\\3_DJI_0999.png  blank  \n",
       "3  ..\\..\\broccoli_autumn21-20220321_0\\4_DJI_0998.png  blank  \n",
       "4  ..\\..\\broccoli_autumn21-20220321_0\\5_DJI_0998.png  blank  "
      ]
     },
     "execution_count": 3,
     "metadata": {},
     "output_type": "execute_result"
    }
   ],
   "source": [
    "filtered = df[df['status']=='blank']\n",
    "filtered.head()"
   ]
  },
  {
   "cell_type": "code",
   "execution_count": 4,
   "metadata": {},
   "outputs": [
    {
     "data": {
      "text/html": [
       "<div>\n",
       "<style scoped>\n",
       "    .dataframe tbody tr th:only-of-type {\n",
       "        vertical-align: middle;\n",
       "    }\n",
       "\n",
       "    .dataframe tbody tr th {\n",
       "        vertical-align: top;\n",
       "    }\n",
       "\n",
       "    .dataframe thead th {\n",
       "        text-align: right;\n",
       "    }\n",
       "</style>\n",
       "<table border=\"1\" class=\"dataframe\">\n",
       "  <thead>\n",
       "    <tr style=\"text-align: right;\">\n",
       "      <th></th>\n",
       "      <th>date</th>\n",
       "      <th>file_name</th>\n",
       "      <th>resolve_path</th>\n",
       "      <th>relative_path</th>\n",
       "      <th>status</th>\n",
       "    </tr>\n",
       "  </thead>\n",
       "  <tbody>\n",
       "    <tr>\n",
       "      <th>307</th>\n",
       "      <td>20220321_0</td>\n",
       "      <td>364_DJI_0813</td>\n",
       "      <td>\\\\192.168.253.181\\dataNprocess\\hwang_Pro\\data\\...</td>\n",
       "      <td>..\\..\\broccoli_autumn21-20220321_0\\364_DJI_081...</td>\n",
       "      <td>blank</td>\n",
       "    </tr>\n",
       "    <tr>\n",
       "      <th>343</th>\n",
       "      <td>20220321_0</td>\n",
       "      <td>408_DJI_0798</td>\n",
       "      <td>\\\\192.168.253.181\\dataNprocess\\hwang_Pro\\data\\...</td>\n",
       "      <td>..\\..\\broccoli_autumn21-20220321_0\\408_DJI_079...</td>\n",
       "      <td>blank</td>\n",
       "    </tr>\n",
       "    <tr>\n",
       "      <th>811</th>\n",
       "      <td>20220325_0</td>\n",
       "      <td>364_DJI_0473</td>\n",
       "      <td>\\\\192.168.253.181\\dataNprocess\\hwang_Pro\\data\\...</td>\n",
       "      <td>..\\..\\broccoli_autumn21-20220325_0\\364_DJI_047...</td>\n",
       "      <td>blank</td>\n",
       "    </tr>\n",
       "    <tr>\n",
       "      <th>847</th>\n",
       "      <td>20220325_0</td>\n",
       "      <td>408_DJI_0458</td>\n",
       "      <td>\\\\192.168.253.181\\dataNprocess\\hwang_Pro\\data\\...</td>\n",
       "      <td>..\\..\\broccoli_autumn21-20220325_0\\408_DJI_045...</td>\n",
       "      <td>blank</td>\n",
       "    </tr>\n",
       "    <tr>\n",
       "      <th>1315</th>\n",
       "      <td>20220329_0</td>\n",
       "      <td>364_DJI_0481</td>\n",
       "      <td>\\\\192.168.253.181\\dataNprocess\\hwang_Pro\\data\\...</td>\n",
       "      <td>..\\..\\broccoli_autumn21-20220329_0\\364_DJI_048...</td>\n",
       "      <td>blank</td>\n",
       "    </tr>\n",
       "    <tr>\n",
       "      <th>1351</th>\n",
       "      <td>20220329_0</td>\n",
       "      <td>408_DJI_0466</td>\n",
       "      <td>\\\\192.168.253.181\\dataNprocess\\hwang_Pro\\data\\...</td>\n",
       "      <td>..\\..\\broccoli_autumn21-20220329_0\\408_DJI_046...</td>\n",
       "      <td>blank</td>\n",
       "    </tr>\n",
       "    <tr>\n",
       "      <th>1819</th>\n",
       "      <td>20220331_0</td>\n",
       "      <td>364_DJI_0151</td>\n",
       "      <td>\\\\192.168.253.181\\dataNprocess\\hwang_Pro\\data\\...</td>\n",
       "      <td>..\\..\\broccoli_autumn21-20220331_0\\364_DJI_015...</td>\n",
       "      <td>blank</td>\n",
       "    </tr>\n",
       "    <tr>\n",
       "      <th>1855</th>\n",
       "      <td>20220331_0</td>\n",
       "      <td>408_DJI_0136</td>\n",
       "      <td>\\\\192.168.253.181\\dataNprocess\\hwang_Pro\\data\\...</td>\n",
       "      <td>..\\..\\broccoli_autumn21-20220331_0\\408_DJI_013...</td>\n",
       "      <td>blank</td>\n",
       "    </tr>\n",
       "    <tr>\n",
       "      <th>2323</th>\n",
       "      <td>20220405_0</td>\n",
       "      <td>364_DJI_0158</td>\n",
       "      <td>\\\\192.168.253.181\\dataNprocess\\hwang_Pro\\data\\...</td>\n",
       "      <td>..\\..\\broccoli_autumn21-20220405_0\\364_DJI_015...</td>\n",
       "      <td>blank</td>\n",
       "    </tr>\n",
       "    <tr>\n",
       "      <th>2359</th>\n",
       "      <td>20220405_0</td>\n",
       "      <td>408_DJI_0142</td>\n",
       "      <td>\\\\192.168.253.181\\dataNprocess\\hwang_Pro\\data\\...</td>\n",
       "      <td>..\\..\\broccoli_autumn21-20220405_0\\408_DJI_014...</td>\n",
       "      <td>blank</td>\n",
       "    </tr>\n",
       "  </tbody>\n",
       "</table>\n",
       "</div>"
      ],
      "text/plain": [
       "            date     file_name  \\\n",
       "307   20220321_0  364_DJI_0813   \n",
       "343   20220321_0  408_DJI_0798   \n",
       "811   20220325_0  364_DJI_0473   \n",
       "847   20220325_0  408_DJI_0458   \n",
       "1315  20220329_0  364_DJI_0481   \n",
       "1351  20220329_0  408_DJI_0466   \n",
       "1819  20220331_0  364_DJI_0151   \n",
       "1855  20220331_0  408_DJI_0136   \n",
       "2323  20220405_0  364_DJI_0158   \n",
       "2359  20220405_0  408_DJI_0142   \n",
       "\n",
       "                                           resolve_path  \\\n",
       "307   \\\\192.168.253.181\\dataNprocess\\hwang_Pro\\data\\...   \n",
       "343   \\\\192.168.253.181\\dataNprocess\\hwang_Pro\\data\\...   \n",
       "811   \\\\192.168.253.181\\dataNprocess\\hwang_Pro\\data\\...   \n",
       "847   \\\\192.168.253.181\\dataNprocess\\hwang_Pro\\data\\...   \n",
       "1315  \\\\192.168.253.181\\dataNprocess\\hwang_Pro\\data\\...   \n",
       "1351  \\\\192.168.253.181\\dataNprocess\\hwang_Pro\\data\\...   \n",
       "1819  \\\\192.168.253.181\\dataNprocess\\hwang_Pro\\data\\...   \n",
       "1855  \\\\192.168.253.181\\dataNprocess\\hwang_Pro\\data\\...   \n",
       "2323  \\\\192.168.253.181\\dataNprocess\\hwang_Pro\\data\\...   \n",
       "2359  \\\\192.168.253.181\\dataNprocess\\hwang_Pro\\data\\...   \n",
       "\n",
       "                                          relative_path status  \n",
       "307   ..\\..\\broccoli_autumn21-20220321_0\\364_DJI_081...  blank  \n",
       "343   ..\\..\\broccoli_autumn21-20220321_0\\408_DJI_079...  blank  \n",
       "811   ..\\..\\broccoli_autumn21-20220325_0\\364_DJI_047...  blank  \n",
       "847   ..\\..\\broccoli_autumn21-20220325_0\\408_DJI_045...  blank  \n",
       "1315  ..\\..\\broccoli_autumn21-20220329_0\\364_DJI_048...  blank  \n",
       "1351  ..\\..\\broccoli_autumn21-20220329_0\\408_DJI_046...  blank  \n",
       "1819  ..\\..\\broccoli_autumn21-20220331_0\\364_DJI_015...  blank  \n",
       "1855  ..\\..\\broccoli_autumn21-20220331_0\\408_DJI_013...  blank  \n",
       "2323  ..\\..\\broccoli_autumn21-20220405_0\\364_DJI_015...  blank  \n",
       "2359  ..\\..\\broccoli_autumn21-20220405_0\\408_DJI_014...  blank  "
      ]
     },
     "execution_count": 4,
     "metadata": {},
     "output_type": "execute_result"
    }
   ],
   "source": [
    "grouped = filtered.groupby('date')\n",
    "random_seleted_df = pd.concat([group.sample(n=2, random_state=1) for _, group in grouped])\n",
    "random_seleted_df"
   ]
  },
  {
   "attachments": {},
   "cell_type": "markdown",
   "metadata": {},
   "source": [
    "### Cretate empyt labelme json file"
   ]
  },
  {
   "cell_type": "code",
   "execution_count": 15,
   "metadata": {},
   "outputs": [
    {
     "name": "stdout",
     "output_type": "stream",
     "text": [
      "..\\..\\broccoli_autumn21-20220321_0\\364_DJI_0813.png\n",
      "..\\..\\broccoli_autumn21-20220321_0\\408_DJI_0798.png\n",
      "..\\..\\broccoli_autumn21-20220325_0\\364_DJI_0473.png\n",
      "..\\..\\broccoli_autumn21-20220325_0\\408_DJI_0458.png\n",
      "..\\..\\broccoli_autumn21-20220329_0\\364_DJI_0481.png\n",
      "..\\..\\broccoli_autumn21-20220329_0\\408_DJI_0466.png\n",
      "..\\..\\broccoli_autumn21-20220331_0\\364_DJI_0151.png\n",
      "..\\..\\broccoli_autumn21-20220331_0\\408_DJI_0136.png\n",
      "..\\..\\broccoli_autumn21-20220405_0\\364_DJI_0158.png\n",
      "..\\..\\broccoli_autumn21-20220405_0\\408_DJI_0142.png\n"
     ]
    }
   ],
   "source": [
    "import json\n",
    "from shutil import copyfile\n",
    "\n",
    "for idx, item in random_seleted_df.iterrows():\n",
    "    print(item.relative_path)\n",
    "    labelme = {\n",
    "        'version': \"5.2.0\",\n",
    "        'flags': {},\n",
    "        'shapes': [],\n",
    "        'imagePath': item.relative_path,\n",
    "        'imageData': None,\n",
    "        'imageHeight': None,\n",
    "        'imageWidth': None\n",
    "    }\n",
    "\n",
    "    # create json file and save it to ./annotations/tbd\n",
    "    # labelme_json_name = f'tbd_v0_{item.date}_{item.file_name}.json'\n",
    "    labelme_json_name = f'{item.file_name}.json'\n",
    "    tbd_label_jsonfile_path = annotation_path.joinpath(labelme_json_name)\n",
    "   \n",
    "    with tbd_label_jsonfile_path.open('w+') as f:\n",
    "        f.write(json.dumps(labelme, indent=1))"
   ]
  },
  {
   "attachments": {},
   "cell_type": "markdown",
   "metadata": {},
   "source": [
    "### Start Labelme_modified to label some data "
   ]
  },
  {
   "cell_type": "code",
   "execution_count": 16,
   "metadata": {},
   "outputs": [
    {
     "name": "stdout",
     "output_type": "stream",
     "text": [
      "python ../labelme/__main__.py Z:\\hwang_Pro\\data\\2022_tanashi_broccoli\\12_head_segment\\annotations\\tbd --nodata\n"
     ]
    }
   ],
   "source": [
    "cmd_str = f\"python ../labelme/__main__.py {annotation_path} --nodata\"\n",
    "print(cmd_str)"
   ]
  },
  {
   "cell_type": "code",
   "execution_count": 18,
   "metadata": {},
   "outputs": [
    {
     "data": {
      "text/plain": [
       "0"
      ]
     },
     "execution_count": 18,
     "metadata": {},
     "output_type": "execute_result"
    }
   ],
   "source": [
    "import os\n",
    "os.system(cmd_str)"
   ]
  },
  {
   "attachments": {},
   "cell_type": "markdown",
   "metadata": {},
   "source": [
    "### Change labeled image status"
   ]
  },
  {
   "cell_type": "code",
   "execution_count": 20,
   "metadata": {},
   "outputs": [
    {
     "data": {
      "text/plain": [
       "['364_DJI_0813',\n",
       " '408_DJI_0798',\n",
       " '364_DJI_0473',\n",
       " '408_DJI_0458',\n",
       " '364_DJI_0481',\n",
       " '408_DJI_0466',\n",
       " '364_DJI_0151',\n",
       " '408_DJI_0136',\n",
       " '364_DJI_0158',\n",
       " '408_DJI_0142']"
      ]
     },
     "execution_count": 20,
     "metadata": {},
     "output_type": "execute_result"
    }
   ],
   "source": [
    "random_seleted_file_names = random_seleted_df.file_name.to_list()\n",
    "random_seleted_file_names"
   ]
  },
  {
   "cell_type": "code",
   "execution_count": 21,
   "metadata": {},
   "outputs": [],
   "source": [
    "df.loc[df['file_name'].isin(random_seleted_file_names), ['status']] = 'pl' # partially labeled"
   ]
  },
  {
   "cell_type": "code",
   "execution_count": 25,
   "metadata": {},
   "outputs": [
    {
     "data": {
      "text/html": [
       "<div>\n",
       "<style scoped>\n",
       "    .dataframe tbody tr th:only-of-type {\n",
       "        vertical-align: middle;\n",
       "    }\n",
       "\n",
       "    .dataframe tbody tr th {\n",
       "        vertical-align: top;\n",
       "    }\n",
       "\n",
       "    .dataframe thead th {\n",
       "        text-align: right;\n",
       "    }\n",
       "</style>\n",
       "<table border=\"1\" class=\"dataframe\">\n",
       "  <thead>\n",
       "    <tr style=\"text-align: right;\">\n",
       "      <th></th>\n",
       "      <th>date</th>\n",
       "      <th>file_name</th>\n",
       "      <th>resolve_path</th>\n",
       "      <th>relative_path</th>\n",
       "      <th>status</th>\n",
       "    </tr>\n",
       "  </thead>\n",
       "  <tbody>\n",
       "    <tr>\n",
       "      <th>0</th>\n",
       "      <td>20220321_0</td>\n",
       "      <td>1_DJI_0001</td>\n",
       "      <td>\\\\192.168.253.181\\dataNprocess\\hwang_Pro\\data\\...</td>\n",
       "      <td>..\\..\\broccoli_autumn21-20220321_0\\1_DJI_0001.png</td>\n",
       "      <td>blank</td>\n",
       "    </tr>\n",
       "    <tr>\n",
       "      <th>1</th>\n",
       "      <td>20220321_0</td>\n",
       "      <td>2_DJI_0001</td>\n",
       "      <td>\\\\192.168.253.181\\dataNprocess\\hwang_Pro\\data\\...</td>\n",
       "      <td>..\\..\\broccoli_autumn21-20220321_0\\2_DJI_0001.png</td>\n",
       "      <td>blank</td>\n",
       "    </tr>\n",
       "    <tr>\n",
       "      <th>2</th>\n",
       "      <td>20220321_0</td>\n",
       "      <td>3_DJI_0999</td>\n",
       "      <td>\\\\192.168.253.181\\dataNprocess\\hwang_Pro\\data\\...</td>\n",
       "      <td>..\\..\\broccoli_autumn21-20220321_0\\3_DJI_0999.png</td>\n",
       "      <td>blank</td>\n",
       "    </tr>\n",
       "    <tr>\n",
       "      <th>3</th>\n",
       "      <td>20220321_0</td>\n",
       "      <td>4_DJI_0998</td>\n",
       "      <td>\\\\192.168.253.181\\dataNprocess\\hwang_Pro\\data\\...</td>\n",
       "      <td>..\\..\\broccoli_autumn21-20220321_0\\4_DJI_0998.png</td>\n",
       "      <td>blank</td>\n",
       "    </tr>\n",
       "    <tr>\n",
       "      <th>4</th>\n",
       "      <td>20220321_0</td>\n",
       "      <td>5_DJI_0998</td>\n",
       "      <td>\\\\192.168.253.181\\dataNprocess\\hwang_Pro\\data\\...</td>\n",
       "      <td>..\\..\\broccoli_autumn21-20220321_0\\5_DJI_0998.png</td>\n",
       "      <td>blank</td>\n",
       "    </tr>\n",
       "    <tr>\n",
       "      <th>...</th>\n",
       "      <td>...</td>\n",
       "      <td>...</td>\n",
       "      <td>...</td>\n",
       "      <td>...</td>\n",
       "      <td>...</td>\n",
       "    </tr>\n",
       "    <tr>\n",
       "      <th>2515</th>\n",
       "      <td>20220405_0</td>\n",
       "      <td>592_DJI_0060</td>\n",
       "      <td>\\\\192.168.253.181\\dataNprocess\\hwang_Pro\\data\\...</td>\n",
       "      <td>..\\..\\broccoli_autumn21-20220405_0\\592_DJI_006...</td>\n",
       "      <td>blank</td>\n",
       "    </tr>\n",
       "    <tr>\n",
       "      <th>2516</th>\n",
       "      <td>20220405_0</td>\n",
       "      <td>593_DJI_0061</td>\n",
       "      <td>\\\\192.168.253.181\\dataNprocess\\hwang_Pro\\data\\...</td>\n",
       "      <td>..\\..\\broccoli_autumn21-20220405_0\\593_DJI_006...</td>\n",
       "      <td>blank</td>\n",
       "    </tr>\n",
       "    <tr>\n",
       "      <th>2517</th>\n",
       "      <td>20220405_0</td>\n",
       "      <td>594_DJI_0061</td>\n",
       "      <td>\\\\192.168.253.181\\dataNprocess\\hwang_Pro\\data\\...</td>\n",
       "      <td>..\\..\\broccoli_autumn21-20220405_0\\594_DJI_006...</td>\n",
       "      <td>blank</td>\n",
       "    </tr>\n",
       "    <tr>\n",
       "      <th>2518</th>\n",
       "      <td>20220405_0</td>\n",
       "      <td>595_DJI_0062</td>\n",
       "      <td>\\\\192.168.253.181\\dataNprocess\\hwang_Pro\\data\\...</td>\n",
       "      <td>..\\..\\broccoli_autumn21-20220405_0\\595_DJI_006...</td>\n",
       "      <td>blank</td>\n",
       "    </tr>\n",
       "    <tr>\n",
       "      <th>2519</th>\n",
       "      <td>20220405_0</td>\n",
       "      <td>596_DJI_0038</td>\n",
       "      <td>\\\\192.168.253.181\\dataNprocess\\hwang_Pro\\data\\...</td>\n",
       "      <td>..\\..\\broccoli_autumn21-20220405_0\\596_DJI_003...</td>\n",
       "      <td>blank</td>\n",
       "    </tr>\n",
       "  </tbody>\n",
       "</table>\n",
       "<p>2520 rows × 5 columns</p>\n",
       "</div>"
      ],
      "text/plain": [
       "            date     file_name  \\\n",
       "0     20220321_0    1_DJI_0001   \n",
       "1     20220321_0    2_DJI_0001   \n",
       "2     20220321_0    3_DJI_0999   \n",
       "3     20220321_0    4_DJI_0998   \n",
       "4     20220321_0    5_DJI_0998   \n",
       "...          ...           ...   \n",
       "2515  20220405_0  592_DJI_0060   \n",
       "2516  20220405_0  593_DJI_0061   \n",
       "2517  20220405_0  594_DJI_0061   \n",
       "2518  20220405_0  595_DJI_0062   \n",
       "2519  20220405_0  596_DJI_0038   \n",
       "\n",
       "                                           resolve_path  \\\n",
       "0     \\\\192.168.253.181\\dataNprocess\\hwang_Pro\\data\\...   \n",
       "1     \\\\192.168.253.181\\dataNprocess\\hwang_Pro\\data\\...   \n",
       "2     \\\\192.168.253.181\\dataNprocess\\hwang_Pro\\data\\...   \n",
       "3     \\\\192.168.253.181\\dataNprocess\\hwang_Pro\\data\\...   \n",
       "4     \\\\192.168.253.181\\dataNprocess\\hwang_Pro\\data\\...   \n",
       "...                                                 ...   \n",
       "2515  \\\\192.168.253.181\\dataNprocess\\hwang_Pro\\data\\...   \n",
       "2516  \\\\192.168.253.181\\dataNprocess\\hwang_Pro\\data\\...   \n",
       "2517  \\\\192.168.253.181\\dataNprocess\\hwang_Pro\\data\\...   \n",
       "2518  \\\\192.168.253.181\\dataNprocess\\hwang_Pro\\data\\...   \n",
       "2519  \\\\192.168.253.181\\dataNprocess\\hwang_Pro\\data\\...   \n",
       "\n",
       "                                          relative_path status  \n",
       "0     ..\\..\\broccoli_autumn21-20220321_0\\1_DJI_0001.png  blank  \n",
       "1     ..\\..\\broccoli_autumn21-20220321_0\\2_DJI_0001.png  blank  \n",
       "2     ..\\..\\broccoli_autumn21-20220321_0\\3_DJI_0999.png  blank  \n",
       "3     ..\\..\\broccoli_autumn21-20220321_0\\4_DJI_0998.png  blank  \n",
       "4     ..\\..\\broccoli_autumn21-20220321_0\\5_DJI_0998.png  blank  \n",
       "...                                                 ...    ...  \n",
       "2515  ..\\..\\broccoli_autumn21-20220405_0\\592_DJI_006...  blank  \n",
       "2516  ..\\..\\broccoli_autumn21-20220405_0\\593_DJI_006...  blank  \n",
       "2517  ..\\..\\broccoli_autumn21-20220405_0\\594_DJI_006...  blank  \n",
       "2518  ..\\..\\broccoli_autumn21-20220405_0\\595_DJI_006...  blank  \n",
       "2519  ..\\..\\broccoli_autumn21-20220405_0\\596_DJI_003...  blank  \n",
       "\n",
       "[2520 rows x 5 columns]"
      ]
     },
     "execution_count": 25,
     "metadata": {},
     "output_type": "execute_result"
    }
   ],
   "source": [
    "df"
   ]
  },
  {
   "cell_type": "code",
   "execution_count": 26,
   "metadata": {},
   "outputs": [],
   "source": [
    "df.to_csv('json_index.csv', index=False)"
   ]
  }
 ],
 "metadata": {
  "kernelspec": {
   "display_name": "uavb2",
   "language": "python",
   "name": "python3"
  },
  "language_info": {
   "codemirror_mode": {
    "name": "ipython",
    "version": 3
   },
   "file_extension": ".py",
   "mimetype": "text/x-python",
   "name": "python",
   "nbconvert_exporter": "python",
   "pygments_lexer": "ipython3",
   "version": "3.8.0"
  },
  "orig_nbformat": 4
 },
 "nbformat": 4,
 "nbformat_minor": 2
}
