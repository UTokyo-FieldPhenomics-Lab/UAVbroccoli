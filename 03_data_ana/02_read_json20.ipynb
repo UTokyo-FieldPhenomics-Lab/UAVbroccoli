{
 "cells": [
  {
   "cell_type": "code",
   "execution_count": 1,
   "id": "2aa61d38",
   "metadata": {},
   "outputs": [
    {
     "name": "stdout",
     "output_type": "stream",
     "text": [
      "from easyric.caas_lite import TiffSpliter\n",
      "from easyric.objects import Pix4D\n",
      "from easyric.io import shp, geotiff, plot\n",
      "from easyric.calculate import geo2raw, geo2tiff\n",
      "\n",
      "import os\n",
      "import shapefile\n",
      "import numpy as np\n",
      "import matplotlib.pyplot as plt\n",
      "import pandas as pd\n",
      "import shapely\n",
      "import tifffile\n",
      "\n"
     ]
    }
   ],
   "source": [
    "from config import *"
   ]
  },
  {
   "cell_type": "code",
   "execution_count": 2,
   "id": "f9079cf8",
   "metadata": {},
   "outputs": [],
   "source": [
    "import re\n",
    "import json\n",
    "from scipy.spatial import KDTree\n",
    "from easyric import caas_lite\n",
    "import tifffile as tf\n",
    "from skimage.transform import ProjectiveTransform"
   ]
  },
  {
   "cell_type": "code",
   "execution_count": 14,
   "id": "bab12b03",
   "metadata": {},
   "outputs": [],
   "source": [
    "import random\n",
    "from tqdm.notebook import tqdm"
   ]
  },
  {
   "cell_type": "code",
   "execution_count": 4,
   "id": "716abd92",
   "metadata": {},
   "outputs": [
    {
     "name": "stdout",
     "output_type": "stream",
     "text": [
      "[io][shp][fields] Shp fields: {'id': 0, 'left': 1, 'top': 2, 'right': 3, 'bottom': 4}\n",
      "[io][shp][proj] find ESRI projection file Y:\\hwang_Pro\\data\\2020_tanashi_broccoli\\02_GIS\\rotate_grids\\split_grid_2.5m.prj, and successfully obtain projection cartesian\n",
      "[io][shp][name] Plot 336 loaded | 336/336        \r"
     ]
    },
    {
     "data": {
      "text/plain": [
       "dict_keys(['1', '2', '3', '4', '5', '6', '7', '8', '9', '10', '11', '12', '13', '14', '15', '16', '17', '18', '19', '20', '21', '22', '23', '24', '25', '26', '27', '28', '29', '30', '31', '32', '33', '34', '35', '36', '37', '38', '39', '40', '41', '42', '43', '44', '45', '46', '47', '48', '49', '50', '51', '52', '53', '54', '55', '56', '57', '58', '59', '60', '61', '62', '63', '64', '65', '66', '67', '68', '69', '70', '71', '72', '73', '74', '75', '76', '77', '78', '79', '80', '81', '82', '83', '84', '85', '86', '87', '88', '89', '90', '91', '92', '93', '94', '95', '96', '97', '98', '99', '100', '101', '102', '103', '104', '105', '106', '107', '108', '109', '110', '111', '112', '113', '114', '115', '116', '117', '118', '119', '120', '121', '122', '123', '124', '125', '126', '127', '128', '129', '130', '131', '132', '133', '134', '135', '136', '137', '138', '139', '140', '141', '142', '143', '144', '145', '146', '147', '148', '149', '150', '151', '152', '153', '154', '155', '156', '157', '158', '159', '160', '161', '162', '163', '164', '165', '166', '167', '168', '169', '170', '171', '172', '173', '174', '175', '176', '177', '178', '179', '180', '181', '182', '183', '184', '185', '186', '187', '188', '189', '190', '191', '192', '193', '194', '195', '196', '197', '198', '199', '200', '201', '202', '203', '204', '205', '206', '207', '208', '209', '210', '211', '212', '213', '214', '215', '216', '217', '218', '219', '220', '221', '222', '223', '224', '225', '226', '227', '228', '229', '230', '231', '232', '233', '234', '235', '236', '237', '238', '239', '240', '241', '242', '243', '244', '245', '246', '247', '248', '249', '250', '251', '252', '253', '254', '255', '256', '257', '258', '259', '260', '261', '262', '263', '264', '265', '266', '267', '268', '269', '270', '271', '272', '273', '274', '275', '276', '277', '278', '279', '280', '281', '282', '283', '284', '285', '286', '287', '288', '289', '290', '291', '292', '293', '294', '295', '296', '297', '298', '299', '300', '301', '302', '303', '304', '305', '306', '307', '308', '309', '310', '311', '312', '313', '314', '315', '316', '317', '318', '319', '320', '321', '322', '323', '324', '325', '326', '327', '328', '329', '330', '331', '332', '333', '334', '335', '336'])"
      ]
     },
     "execution_count": 4,
     "metadata": {},
     "output_type": "execute_result"
    }
   ],
   "source": [
    "shp_file = r\"Y:\\hwang_Pro\\data\\2020_tanashi_broccoli\\02_GIS\\rotate_grids\\split_grid_2.5m.shp\"\n",
    "#shp_file = r\"Y:\\hwang_Pro\\data\\2021_tanashi_broccoli\\02_GIS\\split_grid.shp\"\n",
    "\n",
    "process_area = shp.read_shp2d(shp_file, name_field=\"id\")\n",
    "process_area.keys()"
   ]
  },
  {
   "cell_type": "code",
   "execution_count": 5,
   "id": "c7d5035f",
   "metadata": {},
   "outputs": [
    {
     "name": "stdout",
     "output_type": "stream",
     "text": [
      "[io][shp][fields] Shp fields: {'name': 0}\n",
      "[io][shp][proj] could not find ESRI projection file Y:/hwang_Pro/data/2020_tanashi_broccoli/10_locate_by_cv/color_label_0417_mavic/keep_points_manual.prj, could not operate auto-convention, Please convert projection system manually.\n",
      "[io][shp][name] Plot 8083 loaded | 7537/7537         \r"
     ]
    }
   ],
   "source": [
    "root = f\"Y:/hwang_Pro/data/2020_tanashi_broccoli/10_locate_by_cv/color_label_0417_mavic/keep_points_manual.shp\"\n",
    "points = shp.read_shp2d(root, name_field=\"name\")"
   ]
  },
  {
   "cell_type": "code",
   "execution_count": 6,
   "id": "23a741f7",
   "metadata": {},
   "outputs": [],
   "source": [
    "id_list = []\n",
    "points_np = np.zeros((0,2))\n",
    "for k, p in points.items():\n",
    "    id_list.append(int(k))\n",
    "    points_np = np.vstack([points_np, p])"
   ]
  },
  {
   "cell_type": "code",
   "execution_count": 7,
   "id": "bc9fd99b",
   "metadata": {},
   "outputs": [],
   "source": [
    "kdtree = KDTree(points_np)"
   ]
  },
  {
   "cell_type": "markdown",
   "id": "dc5525a5",
   "metadata": {},
   "source": [
    "# Prepare pix4d project data"
   ]
  },
  {
   "cell_type": "code",
   "execution_count": 12,
   "id": "9deadf0e",
   "metadata": {},
   "outputs": [
    {
     "name": "stdout",
     "output_type": "stream",
     "text": [
      "[Init][Pix4D] No ply given, however find 'broccoli_tanashi_5_20200520_P4M_10m_group1_densified_point_cloud.ply' at current project folder\n",
      "[Init][Pix4D] No dom given, however find 'broccoli_tanashi_5_20200520_P4M_10m_transparent_mosaic_group1.tif' at current project folder\n",
      "[Init][Pix4D] No dsm given, however find 'broccoli_tanashi_5_20200520_P4M_10m_dsm.tif' at current project folder\n",
      "[io][geotiff][GeoCorrd] Comprehense [* 34737 geo_ascii_params (30s) b'WGS 84 / UTM zone 54N|WGS 84|'] to geotiff coordinate tag [WGS 84 / UTM zone 54N]\n",
      "[io][geotiff][GeoCorrd] Comprehense [* 34737 geo_ascii_params (30s) b'WGS 84 / UTM zone 54N|WGS 84|'] to geotiff coordinate tag [WGS 84 / UTM zone 54N]\n",
      "[Init][Pix4D] No ply given, however find 'broccoli_tanashi_5_20200522_P4M_10m_after_group1_densified_point_cloud.ply' at current project folder\n",
      "[Init][Pix4D] No dom given, however find 'broccoli_tanashi_5_20200522_P4M_10m_after_transparent_mosaic_group1.tif' at current project folder\n",
      "[Init][Pix4D] No dsm given, however find 'broccoli_tanashi_5_20200522_P4M_10m_after_dsm.tif' at current project folder\n",
      "[io][geotiff][GeoCorrd] Comprehense [* 34737 geo_ascii_params (30s) b'WGS 84 / UTM zone 54N|WGS 84|'] to geotiff coordinate tag [WGS 84 / UTM zone 54N]\n",
      "[io][geotiff][GeoCorrd] Comprehense [* 34737 geo_ascii_params (30s) b'WGS 84 / UTM zone 54N|WGS 84|'] to geotiff coordinate tag [WGS 84 / UTM zone 54N]\n",
      "[Init][Pix4D] No ply given, however find 'broccoli_tanashi_5_20200525_P4M_10m_group1_densified_point_cloud.ply' at current project folder\n",
      "[Init][Pix4D] No dom given, however find 'broccoli_tanashi_5_20200525_P4M_10m_transparent_mosaic_group1.tif' at current project folder\n",
      "[Init][Pix4D] No dsm given, however find 'broccoli_tanashi_5_20200525_P4M_10m_dsm.tif' at current project folder\n",
      "[io][geotiff][GeoCorrd] Comprehense [* 34737 geo_ascii_params (30s) b'WGS 84 / UTM zone 54N|WGS 84|'] to geotiff coordinate tag [WGS 84 / UTM zone 54N]\n",
      "[io][geotiff][GeoCorrd] Comprehense [* 34737 geo_ascii_params (30s) b'WGS 84 / UTM zone 54N|WGS 84|'] to geotiff coordinate tag [WGS 84 / UTM zone 54N]\n",
      "[Init][Pix4D] No ply given, however find 'broccoli_tanashi_5_20200526_P4M_10m_after_group1_densified_point_cloud.ply' at current project folder\n",
      "[Init][Pix4D] No dom given, however find 'broccoli_tanashi_5_20200526_P4M_10m_after_transparent_mosaic_group1.tif' at current project folder\n",
      "[Init][Pix4D] No dsm given, however find 'broccoli_tanashi_5_20200526_P4M_10m_after_dsm.tif' at current project folder\n",
      "[io][geotiff][GeoCorrd] Comprehense [* 34737 geo_ascii_params (30s) b'WGS 84 / UTM zone 54N|WGS 84|'] to geotiff coordinate tag [WGS 84 / UTM zone 54N]\n",
      "[io][geotiff][GeoCorrd] Comprehense [* 34737 geo_ascii_params (30s) b'WGS 84 / UTM zone 54N|WGS 84|'] to geotiff coordinate tag [WGS 84 / UTM zone 54N]\n",
      "[Init][Pix4D] No ply given, however find 'broccoli_tanashi_5_20200528_P4M_10m_before_group1_densified_point_cloud.ply' at current project folder\n",
      "[Init][Pix4D] No dom given, however find 'broccoli_tanashi_5_20200528_P4M_10m_before_transparent_mosaic_group1.tif' at current project folder\n",
      "[Init][Pix4D] No dsm given, however find 'broccoli_tanashi_5_20200528_P4M_10m_before_dsm.tif' at current project folder\n",
      "[io][geotiff][GeoCorrd] Comprehense [* 34737 geo_ascii_params (30s) b'WGS 84 / UTM zone 54N|WGS 84|'] to geotiff coordinate tag [WGS 84 / UTM zone 54N]\n",
      "[io][geotiff][GeoCorrd] Comprehense [* 34737 geo_ascii_params (30s) b'WGS 84 / UTM zone 54N|WGS 84|'] to geotiff coordinate tag [WGS 84 / UTM zone 54N]\n"
     ]
    }
   ],
   "source": [
    "todo_pool = [\"0520_p\", \"0522_p\", \"0525_p\", \"0526_p\", \"0528_p\"]\n",
    "date_dict = {}\n",
    "for tp in todo_pool:\n",
    "    p2 = Paths(tp)\n",
    "    p4d = Pix4D(project_path=p2.pix4d_project, \n",
    "                raw_img_path=p2.raw_img, \n",
    "                project_name=p2.project_name,\n",
    "                param_folder=p2.pix4d_param)\n",
    "    \n",
    "    before_project = pd.read_csv(f\"{p2.root}/13_roi_on_raw/{p2.project_name}.csv\")\n",
    "    \n",
    "    date_dict[f\"20{tp[0:4]}\"] = {\"p2\":p2, \"p4d\":p4d, \"bp\":before_project}"
   ]
  },
  {
   "cell_type": "code",
   "execution_count": 9,
   "id": "02a20479",
   "metadata": {},
   "outputs": [],
   "source": [
    "def read_json(json_path):\n",
    "    container = []\n",
    "    with open(json_path, \"r\", encoding=\"utf-8\") as f:\n",
    "        js = json.loads(f.read())\n",
    "        for item in js[\"shapes\"]:\n",
    "            points = np.asarray(item[\"points\"])\n",
    "            points = np.append(points, points[0,:][None,:], axis=0)\n",
    "            container.append(points)\n",
    "    return container\n",
    "\n",
    "\n",
    "def json_name(date, roi_id, file_name):\n",
    "    return f\"labeled_v0_{date}_{roi_id}_{file_name[:-4]}.json\"\n",
    "\n",
    "\n",
    "def mk_rm_line(bound_np, rm_bound_id):\n",
    "    bound_np = bound_np[:-1, :]\n",
    "    \n",
    "    return shapely.geometry.LineString(bound_np[rm_bound_id-1:rm_bound_id+2,:])\n",
    "\n",
    "\n",
    "def get_grid_roi_info(df_csv, id, image_name):\n",
    "    filtered = df_csv[(df_csv.id == id) & (df_csv.image == image_name)]\n",
    "    roi_str = filtered.roi.values[0]\n",
    "    roi_str = roi_str.replace(\"\\n \", \",\")\n",
    "    roi_str = re.sub(\"\\s+\", \",\", roi_str)\n",
    "    roi_np = np.asarray(eval(roi_str))\n",
    "    off_x = filtered.offset_x.values[0]\n",
    "    off_y = filtered.offset_y.values[0]\n",
    "    \n",
    "    return roi_np, off_x, off_y\n",
    "\n",
    "def find_polygon_center(poly):\n",
    "    xmin, ymin  = poly.min(axis=0)\n",
    "    xmax, ymax  = poly.max(axis=0)\n",
    "    \n",
    "    xctr = (xmin + xmax) / 2\n",
    "    yctr = (ymin + ymax) / 2\n",
    "    \n",
    "    return np.asarray([xctr, yctr])"
   ]
  },
  {
   "cell_type": "code",
   "execution_count": 10,
   "id": "a9b68fc6",
   "metadata": {},
   "outputs": [],
   "source": [
    "json_folder = r\"Y:\\hwang_Pro\\data\\2020_tanashi_broccoli\\13_roi_on_raw\\pred\"\n",
    "json_files = os.listdir(json_folder)"
   ]
  },
  {
   "cell_type": "code",
   "execution_count": 13,
   "id": "3f90df29",
   "metadata": {},
   "outputs": [
    {
     "name": "stderr",
     "output_type": "stream",
     "text": [
      "  5%|████▎                                                                           | 91/1680 [03:11<26:39,  1.01s/it]"
     ]
    },
    {
     "name": "stdout",
     "output_type": "stream",
     "text": [
      "Broccoli 1957 detect distence 0.20937959722390304 is over 0.2\n"
     ]
    },
    {
     "name": "stderr",
     "output_type": "stream",
     "text": [
      "  8%|██████                                                                         | 130/1680 [03:51<28:14,  1.09s/it]"
     ]
    },
    {
     "name": "stdout",
     "output_type": "stream",
     "text": [
      "Broccoli 2951 detect distence 0.20883738136010466 is over 0.2\n"
     ]
    },
    {
     "name": "stderr",
     "output_type": "stream",
     "text": [
      " 16%|████████████▊                                                                  | 272/1680 [06:23<21:38,  1.08it/s]"
     ]
    },
    {
     "name": "stdout",
     "output_type": "stream",
     "text": [
      "Broccoli 6252 detect distence 0.20851241743098117 is over 0.2\n"
     ]
    },
    {
     "name": "stderr",
     "output_type": "stream",
     "text": [
      " 35%|███████████████████████████▋                                                   | 589/1680 [11:20<12:41,  1.43it/s]"
     ]
    },
    {
     "name": "stdout",
     "output_type": "stream",
     "text": [
      "Broccoli 5674 detect distence 0.21379570013119573 is over 0.2\n"
     ]
    },
    {
     "name": "stderr",
     "output_type": "stream",
     "text": [
      " 36%|████████████████████████████▍                                                  | 604/1680 [11:31<12:06,  1.48it/s]"
     ]
    },
    {
     "name": "stdout",
     "output_type": "stream",
     "text": [
      "Broccoli 5772 detect distence 0.21184998360540783 is over 0.2\n"
     ]
    },
    {
     "name": "stderr",
     "output_type": "stream",
     "text": [
      " 40%|███████████████████████████████▎                                               | 667/1680 [12:13<10:09,  1.66it/s]"
     ]
    },
    {
     "name": "stdout",
     "output_type": "stream",
     "text": [
      "Broccoli 7366 detect distence 0.24503831041757276 is over 0.2\n"
     ]
    },
    {
     "name": "stderr",
     "output_type": "stream",
     "text": [
      " 41%|████████████████████████████████▎                                              | 687/1680 [13:03<46:35,  2.82s/it]"
     ]
    },
    {
     "name": "stdout",
     "output_type": "stream",
     "text": [
      "Broccoli 129 detect distence 0.20481153797070414 is over 0.2\n"
     ]
    },
    {
     "name": "stderr",
     "output_type": "stream",
     "text": [
      " 42%|████████████████████████████████▉                                              | 701/1680 [13:28<13:44,  1.19it/s]"
     ]
    },
    {
     "name": "stdout",
     "output_type": "stream",
     "text": [
      "Broccoli 786 detect distence 0.2581533151203782 is over 0.2\n"
     ]
    },
    {
     "name": "stderr",
     "output_type": "stream",
     "text": [
      " 71%|███████████████████████████████████████████████████████▎                      | 1192/1680 [20:23<05:38,  1.44it/s]"
     ]
    },
    {
     "name": "stdout",
     "output_type": "stream",
     "text": [
      "Broccoli 3910 detect distence 0.23746795972452073 is over 0.2\n"
     ]
    },
    {
     "name": "stderr",
     "output_type": "stream",
     "text": [
      " 77%|████████████████████████████████████████████████████████████▏                 | 1296/1680 [21:41<04:27,  1.43it/s]"
     ]
    },
    {
     "name": "stdout",
     "output_type": "stream",
     "text": [
      "Broccoli 6219 detect distence 0.22192485618737448 is over 0.2\n"
     ]
    },
    {
     "name": "stderr",
     "output_type": "stream",
     "text": [
      " 78%|████████████████████████████████████████████████████████████▋                 | 1307/1680 [21:51<05:30,  1.13it/s]"
     ]
    },
    {
     "name": "stdout",
     "output_type": "stream",
     "text": [
      "Broccoli 7030 detect distence 0.2040934825902491 is over 0.2\n"
     ]
    },
    {
     "name": "stderr",
     "output_type": "stream",
     "text": [
      " 91%|██████████████████████████████████████████████████████████████████████▉       | 1527/1680 [25:48<01:44,  1.47it/s]"
     ]
    },
    {
     "name": "stdout",
     "output_type": "stream",
     "text": [
      "Broccoli 3910 detect distence 0.23420383394858296 is over 0.2\n"
     ]
    },
    {
     "name": "stderr",
     "output_type": "stream",
     "text": [
      "100%|██████████████████████████████████████████████████████████████████████████████| 1680/1680 [27:50<00:00,  1.01it/s]\n"
     ]
    },
    {
     "data": {
      "text/plain": [
       "<Figure size 1152x1152 with 0 Axes>"
      ]
     },
     "metadata": {},
     "output_type": "display_data"
    }
   ],
   "source": [
    "total_result = {}\n",
    "div_thresh = 0.20 # m\n",
    "\n",
    "for js_file in tqdm(json_files):\n",
    "    js_path = os.path.join(json_folder, js_file)\n",
    "    \n",
    "    _, date, plot_id, _, photo = js_file[:-5].split(\"_\")\n",
    "    date = date[2:]\n",
    "    photo = f\"DJI_{photo}.JPG\"\n",
    "    \n",
    "    p2 = date_dict[date][\"p2\"]\n",
    "    p4d = date_dict[date][\"p4d\"]\n",
    "    before_project = date_dict[date][\"bp\"]\n",
    "    \n",
    "    if date not in total_result.keys():\n",
    "        total_result[date] = {}\n",
    "    \n",
    "    roi_np, off_x, off_y = get_grid_roi_info(before_project, int(plot_id), photo)\n",
    "    detect_poly = read_json(js_path)\n",
    "    \n",
    "    # correct json offsets\n",
    "    detect_poly_correct = []\n",
    "    for roi in detect_poly:\n",
    "        # correct by distortion\n",
    "        roi_off = roi + np.asarray([off_x, off_y])\n",
    "        detect_poly_correct.append(roi_off)\n",
    "    \n",
    "    # filter in broccolis\n",
    "    grid_poly = shapely.geometry.Polygon(roi_np)\n",
    "    rm_line = mk_rm_line(roi_np, 2)\n",
    "    \n",
    "    shapely_detect_in = []\n",
    "    shapely_detect_out = []\n",
    "    for i, roi in enumerate(detect_poly_correct):\n",
    "        roi_spy = shapely.geometry.Polygon(roi)\n",
    "        if roi_spy.intersects(rm_line):\n",
    "            shapely_detect_out.append(i)\n",
    "        else:\n",
    "            if roi_spy.intersects(grid_poly):\n",
    "                shapely_detect_in.append(i)\n",
    "            else:\n",
    "                shapely_detect_out.append(i)\n",
    "                \n",
    "    # reverse to dom coords\n",
    "    pt = ProjectiveTransform()\n",
    "    pt.estimate(process_area[plot_id] - p4d.offset.np[0:2], roi_np)\n",
    "    \n",
    "    ## crop dom to small parts \n",
    "    new_coord = geotiff.geo2pixel(process_area[plot_id], geo_head=p4d.dom_header)\n",
    "    cropped, np_off, offset = geotiff.crop_by_coord(p4d.dom_file, new_coord, buffer=20)\n",
    "    plt.imshow(cropped)\n",
    "    \n",
    "    new = new_coord - offset\n",
    "    plt.plot(*new.T, 'b--')\n",
    "    \n",
    "    save_img = False\n",
    "    for idx in shapely_detect_in:\n",
    "        inv_np = pt.inverse(detect_poly_correct[idx])\n",
    "        \n",
    "        inv_np_geo = inv_np + p4d.offset.np[0:2]\n",
    "        \n",
    "        \n",
    "        dist, id_list_idx = kdtree.query(find_polygon_center(inv_np_geo))\n",
    "        broccoli_id = id_list[id_list_idx]\n",
    "        \n",
    "        if dist > div_thresh:\n",
    "            color = \"g\"\n",
    "            print(f\"Broccoli {broccoli_id} detect distence {dist} is over {div_thresh}\")\n",
    "            save_img = True\n",
    "        else:\n",
    "            color = \"r\"\n",
    "            \n",
    "        if broccoli_id in total_result[date].keys():\n",
    "            total_result[date][broccoli_id].append(inv_np_geo)\n",
    "        else:\n",
    "            total_result[date][broccoli_id] = [inv_np_geo]\n",
    "                \n",
    "        # plot\n",
    "        inv_np_dom = geotiff.geo2pixel(inv_np_geo, geo_head=p4d.dom_header) - offset\n",
    "        plt.plot(*inv_np_dom.T, f\"{color}-\")\n",
    "        plt.gcf().set_size_inches((16, 16))\n",
    "        \n",
    "    # decide which to save\n",
    "    if random.randint(0, 10) == 5 or save_img:\n",
    "        plt.savefig(f\"Y:/hwang_Pro/data/2020_tanashi_broccoli/20_results/01_project_on_dom/{save_img}_{date}_{plot_id}.png\")\n",
    "    plt.clf()"
   ]
  },
  {
   "cell_type": "code",
   "execution_count": 18,
   "id": "013b9cd5",
   "metadata": {},
   "outputs": [],
   "source": [
    "import pickle\n",
    "\n",
    "with open('out/total_result20.pickle', 'wb') as handle:\n",
    "    pickle.dump(total_result, handle, protocol=pickle.HIGHEST_PROTOCOL)\n",
    "\n",
    "#with open('out/total_result20.pickle', 'rb') as handle:\n",
    "#    b = pickle.load(handle)"
   ]
  },
  {
   "cell_type": "markdown",
   "id": "b1fce398",
   "metadata": {},
   "source": [
    "# region props"
   ]
  },
  {
   "cell_type": "code",
   "execution_count": 23,
   "id": "b3a31b1f",
   "metadata": {},
   "outputs": [],
   "source": [
    "from PIL import Image, ImageDraw\n",
    "from skimage.measure import label, regionprops, regionprops_table"
   ]
  },
  {
   "cell_type": "code",
   "execution_count": 100,
   "id": "f96b0e4f",
   "metadata": {},
   "outputs": [],
   "source": [
    "def draw_binary_image(poly_list):\n",
    "    poly_merge = np.vstack(poly_list)\n",
    "    \n",
    "    xmax, ymax = np.max(poly_merge, axis=0)\n",
    "    xmin, ymin = np.min(poly_merge, axis=0)\n",
    "    xlen = xmax - xmin\n",
    "    ylen = ymax - ymin\n",
    "\n",
    "    res = 0.001 # 1mm/ pix\n",
    "    \n",
    "    w = xlen / res\n",
    "    h = ylen / res\n",
    "\n",
    "    im = Image.new(mode='1', size=tuple(np.ceil([w, h]).astype(int)))\n",
    "    draw = ImageDraw.Draw(im)\n",
    "    \n",
    "    points = []\n",
    "    for p in poly_list:\n",
    "        point = (p - np.asarray([xmin, ymin])) / res\n",
    "        draw.polygon(point.reshape(len(point)*2).tolist(), fill='white', outline='white')\n",
    "        points.append(point)\n",
    "        \n",
    "    return np.asarray(im), points\n",
    "\n",
    "def remove_outlier_poly(poly_list, broccoli_id, points):\n",
    "    \n",
    "    center = points[str(broccoli_id)]\n",
    "    \n",
    "    dist_list = []\n",
    "    area_list = []\n",
    "    for poly in poly_list:\n",
    "        pc = find_polygon_center(poly)\n",
    "        dist = calc_dist(pc, center[0, :])\n",
    "        dist_list.append(dist)\n",
    "        \n",
    "        xmin, ymin = np.min(poly, axis=0)\n",
    "        poly_area = poly - np.asarray([xmin, ymin])\n",
    "        area = shapely.geometry.Polygon(poly_area * 100).area # cm2\n",
    "        area_list.append(area)\n",
    "        \n",
    "    dist_np = np.asarray(dist_list)\n",
    "    area_list = np.asarray(area_list)\n",
    "    \n",
    "    \"\"\"\n",
    "    dist_np_div = dist_np - dist_np.min()\n",
    "    \n",
    "    selected = dist_np_div < 0.15\n",
    "    \n",
    "    new_list = []\n",
    "    for i, b in enumerate(selected):\n",
    "        if b:\n",
    "            new_list.append(poly_list[i])\n",
    "            \n",
    "    return new_list\n",
    "    \"\"\"\n",
    "    return [poly_list[area_list.argmax()]]\n",
    "    \n",
    "    \n",
    "def calc_dist(p1, p2):\n",
    "    x1, y1 = p1\n",
    "    x2, y2 = p2\n",
    "    return np.sqrt((x1-x2)**2 + (y1-y2)**2)"
   ]
  },
  {
   "cell_type": "code",
   "execution_count": 19,
   "id": "117ca6fc",
   "metadata": {},
   "outputs": [],
   "source": [
    "import cv2"
   ]
  },
  {
   "cell_type": "code",
   "execution_count": 101,
   "id": "10f6fe64",
   "metadata": {},
   "outputs": [
    {
     "data": {
      "application/vnd.jupyter.widget-view+json": {
       "model_id": "cb19d85736524280b48a0fc4fa41c27b",
       "version_major": 2,
       "version_minor": 0
      },
      "text/plain": [
       "date:   0%|          | 0/5 [00:00<?, ?it/s]"
      ]
     },
     "metadata": {},
     "output_type": "display_data"
    },
    {
     "data": {
      "application/vnd.jupyter.widget-view+json": {
       "model_id": "99254b7a87bf44ba8662f221ca21b662",
       "version_major": 2,
       "version_minor": 0
      },
      "text/plain": [
       "id:   0%|          | 0/7276 [00:00<?, ?it/s]"
      ]
     },
     "metadata": {},
     "output_type": "display_data"
    },
    {
     "data": {
      "application/vnd.jupyter.widget-view+json": {
       "model_id": "87d35549734f40278efa64df0b97aab8",
       "version_major": 2,
       "version_minor": 0
      },
      "text/plain": [
       "id:   0%|          | 0/7157 [00:00<?, ?it/s]"
      ]
     },
     "metadata": {},
     "output_type": "display_data"
    },
    {
     "data": {
      "application/vnd.jupyter.widget-view+json": {
       "model_id": "a9f668faeb124a6ab0e7278189413fe1",
       "version_major": 2,
       "version_minor": 0
      },
      "text/plain": [
       "id:   0%|          | 0/7169 [00:00<?, ?it/s]"
      ]
     },
     "metadata": {},
     "output_type": "display_data"
    },
    {
     "data": {
      "application/vnd.jupyter.widget-view+json": {
       "model_id": "29de7019a5284f719fbe070e18f58fbe",
       "version_major": 2,
       "version_minor": 0
      },
      "text/plain": [
       "id:   0%|          | 0/7076 [00:00<?, ?it/s]"
      ]
     },
     "metadata": {},
     "output_type": "display_data"
    },
    {
     "data": {
      "application/vnd.jupyter.widget-view+json": {
       "model_id": "ed795675fbcb4c808d775d14283d7a46",
       "version_major": 2,
       "version_minor": 0
      },
      "text/plain": [
       "id:   0%|          | 0/7068 [00:00<?, ?it/s]"
      ]
     },
     "metadata": {},
     "output_type": "display_data"
    }
   ],
   "source": [
    "props_all = pd.DataFrame(columns=[\"date\", \"label\", \"area\", \"convex_area\", \"eccentricity\", \"equivalent_diameter\", \"major_axis_length\", \"minor_axis_length\", \"min_area_rect_max\", \"min_area_rect_min\", \"perimeter\", 'circularity'])\n",
    "\n",
    "for date, v in tqdm(total_result.items(), desc=\"date\"):\n",
    "    \n",
    "    for broccoli_id, poly_list in tqdm(v.items(), desc=\"id\"):\n",
    "        \n",
    "        poly_num = len(poly_list)\n",
    "        \n",
    "        if poly_num == 1:\n",
    "            binary_img, pix = draw_binary_image(poly_list)\n",
    "            rect = cv2.minAreaRect(pix[0].astype(np.int32))\n",
    "            label_img = label(binary_img)\n",
    "        else:\n",
    "            # draw plots\n",
    "            fig, ax = plt.subplots(1,2, dpi=300)\n",
    "            \n",
    "            p4d = date_dict[date][\"p4d\"]\n",
    "            \n",
    "            new_coord = geotiff.geo2pixel(np.vstack(poly_list), geo_head=p4d.dom_header)\n",
    "            cropped, np_off, offset = geotiff.crop_by_coord(p4d.dom_file, new_coord, buffer=20)\n",
    "            ax[0].imshow(cropped)\n",
    "            \n",
    "            for p in poly_list:\n",
    "                pix = geotiff.geo2pixel(p, geo_head=p4d.dom_header) - offset\n",
    "                ax[0].plot(*pix.T, 'r-', alpha=0.3)\n",
    "                \n",
    "            center = points[str(broccoli_id)]\n",
    "            center_pix = geotiff.geo2pixel(center, geo_head=p4d.dom_header) - offset\n",
    "            ax[0].plot(center_pix[0, 0], center_pix[0, 1], 'ro')\n",
    "            \n",
    "            # judge if noise -> clean poly_list\n",
    "            poly_list = remove_outlier_poly(poly_list, broccoli_id, points)\n",
    "            binary_img, pix = draw_binary_image(poly_list)\n",
    "            \n",
    "            rect = cv2.minAreaRect(pix[0].astype(np.int32))\n",
    "\n",
    "            for p in poly_list:\n",
    "                pixel_pos = geotiff.geo2pixel(p, geo_head=p4d.dom_header) - offset\n",
    "                ax[0].plot(*pixel_pos.T, 'r-', alpha=0.7)\n",
    "            \n",
    "            ax[1].imshow(binary_img, cmap=\"gray\")\n",
    "            ax[1].invert_yaxis()\n",
    "            \n",
    "            ax[1].plot(*pix[0].T, 'r--')\n",
    "\n",
    "            box = cv2.boxPoints(rect)\n",
    "            box = np.append(box, box[0,:][None,:], axis = 0)\n",
    "            ax[1].plot(*box.T)\n",
    "            \n",
    "            if len(pix) != 1:\n",
    "                print(pix, len(pix))\n",
    "                raise ValueError(\"Not equal to 1\")\n",
    "                \n",
    "            \n",
    "            label_img = label(binary_img)\n",
    "            regions = regionprops(label_img)\n",
    "            for props in regions:\n",
    "                y0, x0 = props.centroid\n",
    "\n",
    "                orientation = props.orientation\n",
    "                x1 = x0 + math.cos(orientation) * 0.5 * props.minor_axis_length\n",
    "                y1 = y0 - math.sin(orientation) * 0.5 * props.minor_axis_length\n",
    "                x2 = x0 - math.sin(orientation) * 0.5 * props.major_axis_length\n",
    "                y2 = y0 - math.cos(orientation) * 0.5 * props.major_axis_length\n",
    "\n",
    "\n",
    "                ax[1].plot((x0, x1), (y0, y1), '-r', linewidth=2.5)\n",
    "                ax[1].plot((x0, x2), (y0, y2), '-r', linewidth=2.5)\n",
    "                ax[1].plot(x0, y0, '.g', markersize=15)\n",
    "                \n",
    "            \n",
    "            plt.savefig(f\"Y:/hwang_Pro/data/2020_tanashi_broccoli/20_results/02_fix_wrong/{date}_{broccoli_id}.png\")\n",
    "            plt.close(fig)\n",
    "            \n",
    "        \n",
    "        props = pd.DataFrame(regionprops_table(label_img, properties=[\"area\", \"convex_area\", \"eccentricity\", \"equivalent_diameter\", \"major_axis_length\", \"minor_axis_length\", \"perimeter\"]))\n",
    "        props['circularity'] = 4 * props.area * np.pi / props.perimeter ** 2\n",
    "        props['date'] = f\"20{date}\"\n",
    "        props['label'] = broccoli_id\n",
    "        \n",
    "        props[\"min_area_rect_max\"] = max(rect[1][0], rect[1][1])\n",
    "        props[\"min_area_rect_min\"] = min(rect[1][0], rect[1][1])\n",
    "        props = props[[\"date\", \"label\", \"area\", \"convex_area\", \"eccentricity\", \"equivalent_diameter\", \"major_axis_length\", \"minor_axis_length\", \"min_area_rect_max\", \"min_area_rect_min\", \"perimeter\", 'circularity']]\n",
    "        \n",
    "        props_all.loc[len(props_all)] = props.iloc[0]"
   ]
  },
  {
   "cell_type": "code",
   "execution_count": 68,
   "id": "fc035bdb",
   "metadata": {},
   "outputs": [
    {
     "data": {
      "text/plain": [
       "array([[14,  1],\n",
       "       [11,  0],\n",
       "       [ 1,  4],\n",
       "       [ 0, 10],\n",
       "       [ 8, 45],\n",
       "       [13, 52],\n",
       "       [17, 54],\n",
       "       [32, 44],\n",
       "       [36, 33],\n",
       "       [31, 17],\n",
       "       [25, 15],\n",
       "       [14,  1],\n",
       "       [14,  1]])"
      ]
     },
     "execution_count": 68,
     "metadata": {},
     "output_type": "execute_result"
    }
   ],
   "source": [
    "pix[0].astype(np.int32)"
   ]
  },
  {
   "cell_type": "code",
   "execution_count": 69,
   "id": "bb206598",
   "metadata": {},
   "outputs": [],
   "source": [
    "regions = regionprops(label_img)"
   ]
  },
  {
   "cell_type": "code",
   "execution_count": 49,
   "id": "00167526",
   "metadata": {},
   "outputs": [],
   "source": [
    "import math"
   ]
  },
  {
   "cell_type": "code",
   "execution_count": 72,
   "id": "c23c8f16",
   "metadata": {},
   "outputs": [
    {
     "data": {
      "text/plain": [
       "array([[-4.5444837,  4.8576508],\n",
       "       [24.380781 , -4.1814957],\n",
       "       [40.288258 , 46.72242  ],\n",
       "       [11.362993 , 55.761566 ]], dtype=float32)"
      ]
     },
     "execution_count": 72,
     "metadata": {},
     "output_type": "execute_result"
    }
   ],
   "source": [
    "rect = cv2.minAreaRect(pix[0].astype(np.int32))\n",
    "box = cv2.boxPoints(rect)\n",
    "box"
   ]
  },
  {
   "cell_type": "code",
   "execution_count": 73,
   "id": "22a5f417",
   "metadata": {},
   "outputs": [
    {
     "data": {
      "image/png": "[encoded data removed]",
      "text/plain": [
       "<Figure size 432x288 with 1 Axes>"
      ]
     },
     "metadata": {
      "needs_background": "light"
     },
     "output_type": "display_data"
    }
   ],
   "source": [
    "plt.plot(*pix[0].astype(np.int32).T)\n",
    "\n",
    "box = cv2.boxPoints(rect)\n",
    "plt.plot(*box.T)\n",
    "plt.axis(\"equal\")\n",
    "\n",
    "for props in regions:\n",
    "    y0, x0 = props.centroid\n",
    "    \n",
    "    orientation = props.orientation\n",
    "    x1 = x0 + math.cos(orientation) * 0.5 * props.minor_axis_length\n",
    "    y1 = y0 - math.sin(orientation) * 0.5 * props.minor_axis_length\n",
    "    x2 = x0 - math.sin(orientation) * 0.5 * props.major_axis_length\n",
    "    y2 = y0 - math.cos(orientation) * 0.5 * props.major_axis_length\n",
    "    \n",
    "\n",
    "    plt.plot((x0, x1), (y0, y1), '-r', linewidth=2.5)\n",
    "    plt.plot((x0, x2), (y0, y2), '-r', linewidth=2.5)\n",
    "    plt.plot(x0, y0, '.g', markersize=15)"
   ]
  },
  {
   "cell_type": "code",
   "execution_count": 75,
   "id": "5e85c4c3",
   "metadata": {},
   "outputs": [
    {
     "name": "stdout",
     "output_type": "stream",
     "text": [
      "31.240005186735427 54.1295443882743\n"
     ]
    }
   ],
   "source": [
    "print(props.minor_axis_length, props.major_axis_length)"
   ]
  },
  {
   "cell_type": "code",
   "execution_count": 77,
   "id": "df078c19",
   "metadata": {},
   "outputs": [
    {
     "name": "stdout",
     "output_type": "stream",
     "text": [
      "(53.33156967163086, 30.304738998413086)\n"
     ]
    }
   ],
   "source": [
    "print(rect[1])"
   ]
  },
  {
   "cell_type": "code",
   "execution_count": 106,
   "id": "3473c03d",
   "metadata": {},
   "outputs": [
    {
     "data": {
      "text/html": [
       "<div>\n",
       "<style scoped>\n",
       "    .dataframe tbody tr th:only-of-type {\n",
       "        vertical-align: middle;\n",
       "    }\n",
       "\n",
       "    .dataframe tbody tr th {\n",
       "        vertical-align: top;\n",
       "    }\n",
       "\n",
       "    .dataframe thead th {\n",
       "        text-align: right;\n",
       "    }\n",
       "</style>\n",
       "<table border=\"1\" class=\"dataframe\">\n",
       "  <thead>\n",
       "    <tr style=\"text-align: right;\">\n",
       "      <th></th>\n",
       "      <th>date</th>\n",
       "      <th>label</th>\n",
       "      <th>area</th>\n",
       "      <th>convex_area</th>\n",
       "      <th>eccentricity</th>\n",
       "      <th>equivalent_diameter</th>\n",
       "      <th>major_axis_length</th>\n",
       "      <th>minor_axis_length</th>\n",
       "      <th>min_area_rect_max</th>\n",
       "      <th>min_area_rect_min</th>\n",
       "      <th>perimeter</th>\n",
       "      <th>circularity</th>\n",
       "    </tr>\n",
       "  </thead>\n",
       "  <tbody>\n",
       "    <tr>\n",
       "      <th>0</th>\n",
       "      <td>20200520</td>\n",
       "      <td>292</td>\n",
       "      <td>1276</td>\n",
       "      <td>1344</td>\n",
       "      <td>0.816649</td>\n",
       "      <td>40.306993</td>\n",
       "      <td>54.129544</td>\n",
       "      <td>31.240005</td>\n",
       "      <td>53.331570</td>\n",
       "      <td>30.304739</td>\n",
       "      <td>148.953319</td>\n",
       "      <td>0.722704</td>\n",
       "    </tr>\n",
       "    <tr>\n",
       "      <th>1</th>\n",
       "      <td>20200520</td>\n",
       "      <td>1</td>\n",
       "      <td>3606</td>\n",
       "      <td>3709</td>\n",
       "      <td>0.519565</td>\n",
       "      <td>67.759145</td>\n",
       "      <td>73.503186</td>\n",
       "      <td>62.803382</td>\n",
       "      <td>69.652748</td>\n",
       "      <td>65.997498</td>\n",
       "      <td>231.722871</td>\n",
       "      <td>0.843913</td>\n",
       "    </tr>\n",
       "    <tr>\n",
       "      <th>2</th>\n",
       "      <td>20200520</td>\n",
       "      <td>148</td>\n",
       "      <td>4273</td>\n",
       "      <td>4434</td>\n",
       "      <td>0.678919</td>\n",
       "      <td>73.760102</td>\n",
       "      <td>87.082156</td>\n",
       "      <td>63.936849</td>\n",
       "      <td>82.405136</td>\n",
       "      <td>66.740005</td>\n",
       "      <td>265.421356</td>\n",
       "      <td>0.762204</td>\n",
       "    </tr>\n",
       "    <tr>\n",
       "      <th>3</th>\n",
       "      <td>20200520</td>\n",
       "      <td>293</td>\n",
       "      <td>5143</td>\n",
       "      <td>5282</td>\n",
       "      <td>0.449899</td>\n",
       "      <td>80.921388</td>\n",
       "      <td>85.785056</td>\n",
       "      <td>76.612857</td>\n",
       "      <td>83.176819</td>\n",
       "      <td>76.316864</td>\n",
       "      <td>279.906638</td>\n",
       "      <td>0.824898</td>\n",
       "    </tr>\n",
       "    <tr>\n",
       "      <th>4</th>\n",
       "      <td>20200520</td>\n",
       "      <td>2</td>\n",
       "      <td>4276</td>\n",
       "      <td>4490</td>\n",
       "      <td>0.520682</td>\n",
       "      <td>73.785990</td>\n",
       "      <td>80.426928</td>\n",
       "      <td>68.664528</td>\n",
       "      <td>77.712067</td>\n",
       "      <td>69.247444</td>\n",
       "      <td>263.036580</td>\n",
       "      <td>0.776632</td>\n",
       "    </tr>\n",
       "    <tr>\n",
       "      <th>...</th>\n",
       "      <td>...</td>\n",
       "      <td>...</td>\n",
       "      <td>...</td>\n",
       "      <td>...</td>\n",
       "      <td>...</td>\n",
       "      <td>...</td>\n",
       "      <td>...</td>\n",
       "      <td>...</td>\n",
       "      <td>...</td>\n",
       "      <td>...</td>\n",
       "      <td>...</td>\n",
       "      <td>...</td>\n",
       "    </tr>\n",
       "    <tr>\n",
       "      <th>35741</th>\n",
       "      <td>20200528</td>\n",
       "      <td>7546</td>\n",
       "      <td>17715</td>\n",
       "      <td>18221</td>\n",
       "      <td>0.501960</td>\n",
       "      <td>150.184681</td>\n",
       "      <td>161.953955</td>\n",
       "      <td>140.072502</td>\n",
       "      <td>159.028656</td>\n",
       "      <td>141.719421</td>\n",
       "      <td>517.872150</td>\n",
       "      <td>0.830053</td>\n",
       "    </tr>\n",
       "    <tr>\n",
       "      <th>35742</th>\n",
       "      <td>20200528</td>\n",
       "      <td>7116</td>\n",
       "      <td>19232</td>\n",
       "      <td>21152</td>\n",
       "      <td>0.509643</td>\n",
       "      <td>156.483044</td>\n",
       "      <td>171.425192</td>\n",
       "      <td>147.491877</td>\n",
       "      <td>169.115128</td>\n",
       "      <td>156.980820</td>\n",
       "      <td>589.126984</td>\n",
       "      <td>0.696332</td>\n",
       "    </tr>\n",
       "    <tr>\n",
       "      <th>35743</th>\n",
       "      <td>20200528</td>\n",
       "      <td>7406</td>\n",
       "      <td>17105</td>\n",
       "      <td>18040</td>\n",
       "      <td>0.639508</td>\n",
       "      <td>147.576294</td>\n",
       "      <td>169.656371</td>\n",
       "      <td>130.429146</td>\n",
       "      <td>163.861603</td>\n",
       "      <td>131.679733</td>\n",
       "      <td>538.901587</td>\n",
       "      <td>0.740140</td>\n",
       "    </tr>\n",
       "    <tr>\n",
       "      <th>35744</th>\n",
       "      <td>20200528</td>\n",
       "      <td>7262</td>\n",
       "      <td>14412</td>\n",
       "      <td>15958</td>\n",
       "      <td>0.695328</td>\n",
       "      <td>135.461907</td>\n",
       "      <td>163.834892</td>\n",
       "      <td>117.746931</td>\n",
       "      <td>162.350967</td>\n",
       "      <td>119.264641</td>\n",
       "      <td>516.073160</td>\n",
       "      <td>0.680004</td>\n",
       "    </tr>\n",
       "    <tr>\n",
       "      <th>35745</th>\n",
       "      <td>20200528</td>\n",
       "      <td>7547</td>\n",
       "      <td>17302</td>\n",
       "      <td>18479</td>\n",
       "      <td>0.445594</td>\n",
       "      <td>148.423686</td>\n",
       "      <td>159.554996</td>\n",
       "      <td>142.839222</td>\n",
       "      <td>152.549820</td>\n",
       "      <td>143.705841</td>\n",
       "      <td>544.842712</td>\n",
       "      <td>0.732426</td>\n",
       "    </tr>\n",
       "  </tbody>\n",
       "</table>\n",
       "<p>35746 rows × 12 columns</p>\n",
       "</div>"
      ],
      "text/plain": [
       "           date label   area convex_area  eccentricity  equivalent_diameter  \\\n",
       "0      20200520   292   1276        1344      0.816649            40.306993   \n",
       "1      20200520     1   3606        3709      0.519565            67.759145   \n",
       "2      20200520   148   4273        4434      0.678919            73.760102   \n",
       "3      20200520   293   5143        5282      0.449899            80.921388   \n",
       "4      20200520     2   4276        4490      0.520682            73.785990   \n",
       "...         ...   ...    ...         ...           ...                  ...   \n",
       "35741  20200528  7546  17715       18221      0.501960           150.184681   \n",
       "35742  20200528  7116  19232       21152      0.509643           156.483044   \n",
       "35743  20200528  7406  17105       18040      0.639508           147.576294   \n",
       "35744  20200528  7262  14412       15958      0.695328           135.461907   \n",
       "35745  20200528  7547  17302       18479      0.445594           148.423686   \n",
       "\n",
       "       major_axis_length  minor_axis_length  min_area_rect_max  \\\n",
       "0              54.129544          31.240005          53.331570   \n",
       "1              73.503186          62.803382          69.652748   \n",
       "2              87.082156          63.936849          82.405136   \n",
       "3              85.785056          76.612857          83.176819   \n",
       "4              80.426928          68.664528          77.712067   \n",
       "...                  ...                ...                ...   \n",
       "35741         161.953955         140.072502         159.028656   \n",
       "35742         171.425192         147.491877         169.115128   \n",
       "35743         169.656371         130.429146         163.861603   \n",
       "35744         163.834892         117.746931         162.350967   \n",
       "35745         159.554996         142.839222         152.549820   \n",
       "\n",
       "       min_area_rect_min   perimeter  circularity  \n",
       "0              30.304739  148.953319     0.722704  \n",
       "1              65.997498  231.722871     0.843913  \n",
       "2              66.740005  265.421356     0.762204  \n",
       "3              76.316864  279.906638     0.824898  \n",
       "4              69.247444  263.036580     0.776632  \n",
       "...                  ...         ...          ...  \n",
       "35741         141.719421  517.872150     0.830053  \n",
       "35742         156.980820  589.126984     0.696332  \n",
       "35743         131.679733  538.901587     0.740140  \n",
       "35744         119.264641  516.073160     0.680004  \n",
       "35745         143.705841  544.842712     0.732426  \n",
       "\n",
       "[35746 rows x 12 columns]"
      ]
     },
     "execution_count": 106,
     "metadata": {},
     "output_type": "execute_result"
    }
   ],
   "source": [
    "props_all"
   ]
  },
  {
   "cell_type": "code",
   "execution_count": 110,
   "id": "eed887e9",
   "metadata": {},
   "outputs": [],
   "source": [
    "props_all = props_all.astype({\"date\": int})"
   ]
  },
  {
   "cell_type": "code",
   "execution_count": 112,
   "id": "7fc65643",
   "metadata": {},
   "outputs": [],
   "source": [
    "props_all.to_excel(\"out/2021_measured_fix.xlsx\")"
   ]
  },
  {
   "cell_type": "markdown",
   "id": "f444d779",
   "metadata": {},
   "source": [
    "# link to field_measure"
   ]
  },
  {
   "cell_type": "code",
   "execution_count": 104,
   "id": "690e58d2",
   "metadata": {},
   "outputs": [
    {
     "data": {
      "text/html": [
       "<div>\n",
       "<style scoped>\n",
       "    .dataframe tbody tr th:only-of-type {\n",
       "        vertical-align: middle;\n",
       "    }\n",
       "\n",
       "    .dataframe tbody tr th {\n",
       "        vertical-align: top;\n",
       "    }\n",
       "\n",
       "    .dataframe thead th {\n",
       "        text-align: right;\n",
       "    }\n",
       "</style>\n",
       "<table border=\"1\" class=\"dataframe\">\n",
       "  <thead>\n",
       "    <tr style=\"text-align: right;\">\n",
       "      <th></th>\n",
       "      <th>date</th>\n",
       "      <th>Ground_ID</th>\n",
       "      <th>UAV_ID</th>\n",
       "      <th>flower_size_max</th>\n",
       "    </tr>\n",
       "  </thead>\n",
       "  <tbody>\n",
       "    <tr>\n",
       "      <th>0</th>\n",
       "      <td>20200522</td>\n",
       "      <td>S20_01</td>\n",
       "      <td>2916</td>\n",
       "      <td>77</td>\n",
       "    </tr>\n",
       "    <tr>\n",
       "      <th>1</th>\n",
       "      <td>20200522</td>\n",
       "      <td>S20_02</td>\n",
       "      <td>2915</td>\n",
       "      <td>153</td>\n",
       "    </tr>\n",
       "    <tr>\n",
       "      <th>2</th>\n",
       "      <td>20200522</td>\n",
       "      <td>S20_03</td>\n",
       "      <td>2914</td>\n",
       "      <td>124</td>\n",
       "    </tr>\n",
       "    <tr>\n",
       "      <th>3</th>\n",
       "      <td>20200522</td>\n",
       "      <td>S20_04</td>\n",
       "      <td>2913</td>\n",
       "      <td>102</td>\n",
       "    </tr>\n",
       "    <tr>\n",
       "      <th>4</th>\n",
       "      <td>20200522</td>\n",
       "      <td>S20_05</td>\n",
       "      <td>2912</td>\n",
       "      <td>103</td>\n",
       "    </tr>\n",
       "    <tr>\n",
       "      <th>...</th>\n",
       "      <td>...</td>\n",
       "      <td>...</td>\n",
       "      <td>...</td>\n",
       "      <td>...</td>\n",
       "    </tr>\n",
       "    <tr>\n",
       "      <th>355</th>\n",
       "      <td>20200528</td>\n",
       "      <td>N25_26</td>\n",
       "      <td>3548</td>\n",
       "      <td>157</td>\n",
       "    </tr>\n",
       "    <tr>\n",
       "      <th>356</th>\n",
       "      <td>20200528</td>\n",
       "      <td>N25_27</td>\n",
       "      <td>3547</td>\n",
       "      <td>168</td>\n",
       "    </tr>\n",
       "    <tr>\n",
       "      <th>357</th>\n",
       "      <td>20200528</td>\n",
       "      <td>N25_28</td>\n",
       "      <td>3546</td>\n",
       "      <td>166</td>\n",
       "    </tr>\n",
       "    <tr>\n",
       "      <th>358</th>\n",
       "      <td>20200528</td>\n",
       "      <td>N25_29</td>\n",
       "      <td>3545</td>\n",
       "      <td>146</td>\n",
       "    </tr>\n",
       "    <tr>\n",
       "      <th>359</th>\n",
       "      <td>20200528</td>\n",
       "      <td>N25_30</td>\n",
       "      <td>3544</td>\n",
       "      <td>159</td>\n",
       "    </tr>\n",
       "  </tbody>\n",
       "</table>\n",
       "<p>360 rows × 4 columns</p>\n",
       "</div>"
      ],
      "text/plain": [
       "         date Ground_ID  UAV_ID  flower_size_max\n",
       "0    20200522    S20_01    2916               77\n",
       "1    20200522    S20_02    2915              153\n",
       "2    20200522    S20_03    2914              124\n",
       "3    20200522    S20_04    2913              102\n",
       "4    20200522    S20_05    2912              103\n",
       "..        ...       ...     ...              ...\n",
       "355  20200528    N25_26    3548              157\n",
       "356  20200528    N25_27    3547              168\n",
       "357  20200528    N25_28    3546              166\n",
       "358  20200528    N25_29    3545              146\n",
       "359  20200528    N25_30    3544              159\n",
       "\n",
       "[360 rows x 4 columns]"
      ]
     },
     "execution_count": 104,
     "metadata": {},
     "output_type": "execute_result"
    }
   ],
   "source": [
    "link_table = pd.read_csv(\"out/non_destructive20.csv\")\n",
    "link_table"
   ]
  },
  {
   "cell_type": "code",
   "execution_count": 111,
   "id": "d99ee672",
   "metadata": {},
   "outputs": [
    {
     "data": {
      "text/html": [
       "<div>\n",
       "<style scoped>\n",
       "    .dataframe tbody tr th:only-of-type {\n",
       "        vertical-align: middle;\n",
       "    }\n",
       "\n",
       "    .dataframe tbody tr th {\n",
       "        vertical-align: top;\n",
       "    }\n",
       "\n",
       "    .dataframe thead th {\n",
       "        text-align: right;\n",
       "    }\n",
       "</style>\n",
       "<table border=\"1\" class=\"dataframe\">\n",
       "  <thead>\n",
       "    <tr style=\"text-align: right;\">\n",
       "      <th></th>\n",
       "      <th>date</th>\n",
       "      <th>label</th>\n",
       "      <th>area</th>\n",
       "      <th>convex_area</th>\n",
       "      <th>eccentricity</th>\n",
       "      <th>equivalent_diameter</th>\n",
       "      <th>major_axis_length</th>\n",
       "      <th>minor_axis_length</th>\n",
       "      <th>min_area_rect_max</th>\n",
       "      <th>min_area_rect_min</th>\n",
       "      <th>perimeter</th>\n",
       "      <th>circularity</th>\n",
       "      <th>Ground_ID</th>\n",
       "      <th>UAV_ID</th>\n",
       "      <th>flower_size_max</th>\n",
       "    </tr>\n",
       "  </thead>\n",
       "  <tbody>\n",
       "    <tr>\n",
       "      <th>0</th>\n",
       "      <td>20200522</td>\n",
       "      <td>2815</td>\n",
       "      <td>9040</td>\n",
       "      <td>9629</td>\n",
       "      <td>0.789613</td>\n",
       "      <td>107.285066</td>\n",
       "      <td>141.287568</td>\n",
       "      <td>86.694770</td>\n",
       "      <td>136.758377</td>\n",
       "      <td>91.151993</td>\n",
       "      <td>400.617316</td>\n",
       "      <td>0.707814</td>\n",
       "      <td>N20_30</td>\n",
       "      <td>2815</td>\n",
       "      <td>131</td>\n",
       "    </tr>\n",
       "    <tr>\n",
       "      <th>1</th>\n",
       "      <td>20200522</td>\n",
       "      <td>2816</td>\n",
       "      <td>12157</td>\n",
       "      <td>12694</td>\n",
       "      <td>0.632702</td>\n",
       "      <td>124.413718</td>\n",
       "      <td>142.835094</td>\n",
       "      <td>110.610777</td>\n",
       "      <td>138.253326</td>\n",
       "      <td>115.262581</td>\n",
       "      <td>440.717821</td>\n",
       "      <td>0.786530</td>\n",
       "      <td>N20_29</td>\n",
       "      <td>2816</td>\n",
       "      <td>130</td>\n",
       "    </tr>\n",
       "    <tr>\n",
       "      <th>2</th>\n",
       "      <td>20200522</td>\n",
       "      <td>2817</td>\n",
       "      <td>8064</td>\n",
       "      <td>9785</td>\n",
       "      <td>0.706411</td>\n",
       "      <td>101.328198</td>\n",
       "      <td>133.284799</td>\n",
       "      <td>94.339247</td>\n",
       "      <td>128.514725</td>\n",
       "      <td>97.051231</td>\n",
       "      <td>429.759451</td>\n",
       "      <td>0.548668</td>\n",
       "      <td>N20_28</td>\n",
       "      <td>2817</td>\n",
       "      <td>109</td>\n",
       "    </tr>\n",
       "    <tr>\n",
       "      <th>3</th>\n",
       "      <td>20200522</td>\n",
       "      <td>2818</td>\n",
       "      <td>11077</td>\n",
       "      <td>12338</td>\n",
       "      <td>0.726258</td>\n",
       "      <td>118.758892</td>\n",
       "      <td>147.070639</td>\n",
       "      <td>101.099568</td>\n",
       "      <td>141.267517</td>\n",
       "      <td>102.744728</td>\n",
       "      <td>469.303607</td>\n",
       "      <td>0.632010</td>\n",
       "      <td>N20_27</td>\n",
       "      <td>2818</td>\n",
       "      <td>143</td>\n",
       "    </tr>\n",
       "    <tr>\n",
       "      <th>4</th>\n",
       "      <td>20200522</td>\n",
       "      <td>2827</td>\n",
       "      <td>11978</td>\n",
       "      <td>12648</td>\n",
       "      <td>0.728131</td>\n",
       "      <td>123.494386</td>\n",
       "      <td>150.504740</td>\n",
       "      <td>103.161644</td>\n",
       "      <td>145.275421</td>\n",
       "      <td>105.871941</td>\n",
       "      <td>447.788889</td>\n",
       "      <td>0.750667</td>\n",
       "      <td>N20_18</td>\n",
       "      <td>2827</td>\n",
       "      <td>132</td>\n",
       "    </tr>\n",
       "    <tr>\n",
       "      <th>...</th>\n",
       "      <td>...</td>\n",
       "      <td>...</td>\n",
       "      <td>...</td>\n",
       "      <td>...</td>\n",
       "      <td>...</td>\n",
       "      <td>...</td>\n",
       "      <td>...</td>\n",
       "      <td>...</td>\n",
       "      <td>...</td>\n",
       "      <td>...</td>\n",
       "      <td>...</td>\n",
       "      <td>...</td>\n",
       "      <td>...</td>\n",
       "      <td>...</td>\n",
       "      <td>...</td>\n",
       "    </tr>\n",
       "    <tr>\n",
       "      <th>353</th>\n",
       "      <td>20200528</td>\n",
       "      <td>3642</td>\n",
       "      <td>22832</td>\n",
       "      <td>23632</td>\n",
       "      <td>0.496955</td>\n",
       "      <td>170.501042</td>\n",
       "      <td>183.758068</td>\n",
       "      <td>159.460846</td>\n",
       "      <td>178.484558</td>\n",
       "      <td>166.459473</td>\n",
       "      <td>597.712770</td>\n",
       "      <td>0.803098</td>\n",
       "      <td>S25_05</td>\n",
       "      <td>3642</td>\n",
       "      <td>171</td>\n",
       "    </tr>\n",
       "    <tr>\n",
       "      <th>354</th>\n",
       "      <td>20200528</td>\n",
       "      <td>3643</td>\n",
       "      <td>19597</td>\n",
       "      <td>20709</td>\n",
       "      <td>0.331038</td>\n",
       "      <td>157.960993</td>\n",
       "      <td>164.168401</td>\n",
       "      <td>154.912143</td>\n",
       "      <td>160.859299</td>\n",
       "      <td>159.415680</td>\n",
       "      <td>570.150324</td>\n",
       "      <td>0.757566</td>\n",
       "      <td>S25_04</td>\n",
       "      <td>3643</td>\n",
       "      <td>162</td>\n",
       "    </tr>\n",
       "    <tr>\n",
       "      <th>355</th>\n",
       "      <td>20200528</td>\n",
       "      <td>3644</td>\n",
       "      <td>13382</td>\n",
       "      <td>16270</td>\n",
       "      <td>0.873109</td>\n",
       "      <td>130.531573</td>\n",
       "      <td>200.760852</td>\n",
       "      <td>97.875911</td>\n",
       "      <td>189.000305</td>\n",
       "      <td>108.115051</td>\n",
       "      <td>566.156421</td>\n",
       "      <td>0.524636</td>\n",
       "      <td>S25_03</td>\n",
       "      <td>3644</td>\n",
       "      <td>173</td>\n",
       "    </tr>\n",
       "    <tr>\n",
       "      <th>356</th>\n",
       "      <td>20200528</td>\n",
       "      <td>3645</td>\n",
       "      <td>20596</td>\n",
       "      <td>22777</td>\n",
       "      <td>0.675346</td>\n",
       "      <td>161.937153</td>\n",
       "      <td>194.540305</td>\n",
       "      <td>143.473633</td>\n",
       "      <td>190.830292</td>\n",
       "      <td>153.818451</td>\n",
       "      <td>614.742207</td>\n",
       "      <td>0.684868</td>\n",
       "      <td>S25_02</td>\n",
       "      <td>3645</td>\n",
       "      <td>181</td>\n",
       "    </tr>\n",
       "    <tr>\n",
       "      <th>357</th>\n",
       "      <td>20200528</td>\n",
       "      <td>3646</td>\n",
       "      <td>7342</td>\n",
       "      <td>8839</td>\n",
       "      <td>0.855189</td>\n",
       "      <td>96.685701</td>\n",
       "      <td>143.405578</td>\n",
       "      <td>74.329470</td>\n",
       "      <td>149.373611</td>\n",
       "      <td>79.115646</td>\n",
       "      <td>416.416306</td>\n",
       "      <td>0.532070</td>\n",
       "      <td>S25_01</td>\n",
       "      <td>3646</td>\n",
       "      <td>150</td>\n",
       "    </tr>\n",
       "  </tbody>\n",
       "</table>\n",
       "<p>358 rows × 15 columns</p>\n",
       "</div>"
      ],
      "text/plain": [
       "         date label   area convex_area  eccentricity  equivalent_diameter  \\\n",
       "0    20200522  2815   9040        9629      0.789613           107.285066   \n",
       "1    20200522  2816  12157       12694      0.632702           124.413718   \n",
       "2    20200522  2817   8064        9785      0.706411           101.328198   \n",
       "3    20200522  2818  11077       12338      0.726258           118.758892   \n",
       "4    20200522  2827  11978       12648      0.728131           123.494386   \n",
       "..        ...   ...    ...         ...           ...                  ...   \n",
       "353  20200528  3642  22832       23632      0.496955           170.501042   \n",
       "354  20200528  3643  19597       20709      0.331038           157.960993   \n",
       "355  20200528  3644  13382       16270      0.873109           130.531573   \n",
       "356  20200528  3645  20596       22777      0.675346           161.937153   \n",
       "357  20200528  3646   7342        8839      0.855189            96.685701   \n",
       "\n",
       "     major_axis_length  minor_axis_length  min_area_rect_max  \\\n",
       "0           141.287568          86.694770         136.758377   \n",
       "1           142.835094         110.610777         138.253326   \n",
       "2           133.284799          94.339247         128.514725   \n",
       "3           147.070639         101.099568         141.267517   \n",
       "4           150.504740         103.161644         145.275421   \n",
       "..                 ...                ...                ...   \n",
       "353         183.758068         159.460846         178.484558   \n",
       "354         164.168401         154.912143         160.859299   \n",
       "355         200.760852          97.875911         189.000305   \n",
       "356         194.540305         143.473633         190.830292   \n",
       "357         143.405578          74.329470         149.373611   \n",
       "\n",
       "     min_area_rect_min   perimeter  circularity Ground_ID  UAV_ID  \\\n",
       "0            91.151993  400.617316     0.707814    N20_30    2815   \n",
       "1           115.262581  440.717821     0.786530    N20_29    2816   \n",
       "2            97.051231  429.759451     0.548668    N20_28    2817   \n",
       "3           102.744728  469.303607     0.632010    N20_27    2818   \n",
       "4           105.871941  447.788889     0.750667    N20_18    2827   \n",
       "..                 ...         ...          ...       ...     ...   \n",
       "353         166.459473  597.712770     0.803098    S25_05    3642   \n",
       "354         159.415680  570.150324     0.757566    S25_04    3643   \n",
       "355         108.115051  566.156421     0.524636    S25_03    3644   \n",
       "356         153.818451  614.742207     0.684868    S25_02    3645   \n",
       "357          79.115646  416.416306     0.532070    S25_01    3646   \n",
       "\n",
       "     flower_size_max  \n",
       "0                131  \n",
       "1                130  \n",
       "2                109  \n",
       "3                143  \n",
       "4                132  \n",
       "..               ...  \n",
       "353              171  \n",
       "354              162  \n",
       "355              173  \n",
       "356              181  \n",
       "357              150  \n",
       "\n",
       "[358 rows x 15 columns]"
      ]
     },
     "execution_count": 111,
     "metadata": {},
     "output_type": "execute_result"
    }
   ],
   "source": [
    "merged_pd = pd.merge(props_all, link_table, left_on=[\"date\", \"label\"], right_on=[\"date\", \"UAV_ID\"])\n",
    "merged_pd"
   ]
  },
  {
   "cell_type": "code",
   "execution_count": 108,
   "id": "12cec241",
   "metadata": {},
   "outputs": [
    {
     "data": {
      "text/plain": [
       "0        20200520\n",
       "1        20200520\n",
       "2        20200520\n",
       "3        20200520\n",
       "4        20200520\n",
       "           ...   \n",
       "35741    20200528\n",
       "35742    20200528\n",
       "35743    20200528\n",
       "35744    20200528\n",
       "35745    20200528\n",
       "Name: date, Length: 35746, dtype: object"
      ]
     },
     "execution_count": 108,
     "metadata": {},
     "output_type": "execute_result"
    }
   ],
   "source": [
    "props_all.date"
   ]
  },
  {
   "cell_type": "code",
   "execution_count": null,
   "id": "07a09493",
   "metadata": {},
   "outputs": [],
   "source": []
  }
 ],
 "metadata": {
  "kernelspec": {
   "display_name": "Python 3",
   "language": "python",
   "name": "python3"
  },
  "language_info": {
   "codemirror_mode": {
    "name": "ipython",
    "version": 3
   },
   "file_extension": ".py",
   "mimetype": "text/x-python",
   "name": "python",
   "nbconvert_exporter": "python",
   "pygments_lexer": "ipython3",
   "version": "3.8.8"
  }
 },
 "nbformat": 4,
 "nbformat_minor": 5
}
