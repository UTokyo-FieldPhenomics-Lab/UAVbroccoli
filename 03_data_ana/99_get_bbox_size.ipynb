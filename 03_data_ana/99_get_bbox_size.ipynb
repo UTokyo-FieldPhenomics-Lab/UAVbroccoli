{
 "cells": [
  {
   "cell_type": "code",
   "execution_count": 1,
   "metadata": {},
   "outputs": [],
   "source": [
    "import numpy as np\n",
    "import pandas as pd\n",
    "import shapefile"
   ]
  },
  {
   "cell_type": "code",
   "execution_count": 2,
   "metadata": {},
   "outputs": [],
   "source": [
    "shp_path = \"box_anno_0329.shp\""
   ]
  },
  {
   "cell_type": "code",
   "execution_count": 3,
   "metadata": {},
   "outputs": [],
   "source": [
    "shp = shapefile.Reader(shp_path)"
   ]
  },
  {
   "cell_type": "code",
   "execution_count": 4,
   "metadata": {},
   "outputs": [
    {
     "name": "stdout",
     "output_type": "stream",
     "text": [
      "960 0.12356920388168038 0.09038852685723497\n"
     ]
    }
   ],
   "source": [
    "for i, shape in enumerate(shp.shapes()):\n",
    "    coord_np = np.asarray(shape.points)\n",
    "\n",
    "    x0, y0 = coord_np[0,0], coord_np[0,1]\n",
    "    x1, y1 = coord_np[1,0], coord_np[1,1]\n",
    "    x2, y2 = coord_np[2,0], coord_np[2,1]\n",
    "\n",
    "    l1 = np.sqrt( (x0 - x1)**2 + (y0 - y1)**2 )\n",
    "    l2 = np.sqrt( (x1 - x2)**2 + (y1 - y2)**2 )\n",
    "\n",
    "    idx = shp.records()[i][0]\n",
    "    print(idx, l1, l2)\n",
    "    break"
   ]
  },
  {
   "cell_type": "code",
   "execution_count": 5,
   "metadata": {},
   "outputs": [],
   "source": [
    "out = pd.DataFrame(columns=[\"id\", \"long(cm)\", \"short(cm)\"])\n",
    "\n",
    "for i, shape in enumerate(shp.shapes()):\n",
    "    coord_np = np.asarray(shape.points)\n",
    "\n",
    "    x0, y0 = coord_np[0,0], coord_np[0,1]\n",
    "    x1, y1 = coord_np[1,0], coord_np[1,1]\n",
    "    x2, y2 = coord_np[2,0], coord_np[2,1]\n",
    "\n",
    "    l1 = np.sqrt( (x0 - x1)**2 + (y0 - y1)**2 )\n",
    "    l2 = np.sqrt( (x1 - x2)**2 + (y1 - y2)**2 )\n",
    "\n",
    "    idx = shp.records()[i][0]\n",
    "\n",
    "    out.loc[len(out), :] = [idx, max(l1, l2)*100, min(l1, l2)*100]"
   ]
  },
  {
   "cell_type": "code",
   "execution_count": 6,
   "metadata": {},
   "outputs": [
    {
     "data": {
      "text/html": [
       "<div>\n",
       "<style scoped>\n",
       "    .dataframe tbody tr th:only-of-type {\n",
       "        vertical-align: middle;\n",
       "    }\n",
       "\n",
       "    .dataframe tbody tr th {\n",
       "        vertical-align: top;\n",
       "    }\n",
       "\n",
       "    .dataframe thead th {\n",
       "        text-align: right;\n",
       "    }\n",
       "</style>\n",
       "<table border=\"1\" class=\"dataframe\">\n",
       "  <thead>\n",
       "    <tr style=\"text-align: right;\">\n",
       "      <th></th>\n",
       "      <th>id</th>\n",
       "      <th>long(cm)</th>\n",
       "      <th>short(cm)</th>\n",
       "    </tr>\n",
       "  </thead>\n",
       "  <tbody>\n",
       "    <tr>\n",
       "      <th>0</th>\n",
       "      <td>960</td>\n",
       "      <td>12.35692</td>\n",
       "      <td>9.038853</td>\n",
       "    </tr>\n",
       "    <tr>\n",
       "      <th>1</th>\n",
       "      <td>961</td>\n",
       "      <td>9.198583</td>\n",
       "      <td>7.884953</td>\n",
       "    </tr>\n",
       "    <tr>\n",
       "      <th>2</th>\n",
       "      <td>962</td>\n",
       "      <td>9.854054</td>\n",
       "      <td>8.390424</td>\n",
       "    </tr>\n",
       "    <tr>\n",
       "      <th>3</th>\n",
       "      <td>1096</td>\n",
       "      <td>12.178807</td>\n",
       "      <td>11.345344</td>\n",
       "    </tr>\n",
       "    <tr>\n",
       "      <th>4</th>\n",
       "      <td>1097</td>\n",
       "      <td>12.714393</td>\n",
       "      <td>11.752785</td>\n",
       "    </tr>\n",
       "    <tr>\n",
       "      <th>...</th>\n",
       "      <td>...</td>\n",
       "      <td>...</td>\n",
       "      <td>...</td>\n",
       "    </tr>\n",
       "    <tr>\n",
       "      <th>2853</th>\n",
       "      <td>9814</td>\n",
       "      <td>10.382274</td>\n",
       "      <td>10.130861</td>\n",
       "    </tr>\n",
       "    <tr>\n",
       "      <th>2854</th>\n",
       "      <td>9953</td>\n",
       "      <td>12.588504</td>\n",
       "      <td>11.904059</td>\n",
       "    </tr>\n",
       "    <tr>\n",
       "      <th>2855</th>\n",
       "      <td>9954</td>\n",
       "      <td>11.446384</td>\n",
       "      <td>11.024412</td>\n",
       "    </tr>\n",
       "    <tr>\n",
       "      <th>2856</th>\n",
       "      <td>10094</td>\n",
       "      <td>13.552437</td>\n",
       "      <td>13.046268</td>\n",
       "    </tr>\n",
       "    <tr>\n",
       "      <th>2857</th>\n",
       "      <td>10095</td>\n",
       "      <td>11.980825</td>\n",
       "      <td>11.672977</td>\n",
       "    </tr>\n",
       "  </tbody>\n",
       "</table>\n",
       "<p>2858 rows × 3 columns</p>\n",
       "</div>"
      ],
      "text/plain": [
       "         id   long(cm)  short(cm)\n",
       "0       960   12.35692   9.038853\n",
       "1       961   9.198583   7.884953\n",
       "2       962   9.854054   8.390424\n",
       "3      1096  12.178807  11.345344\n",
       "4      1097  12.714393  11.752785\n",
       "...     ...        ...        ...\n",
       "2853   9814  10.382274  10.130861\n",
       "2854   9953  12.588504  11.904059\n",
       "2855   9954  11.446384  11.024412\n",
       "2856  10094  13.552437  13.046268\n",
       "2857  10095  11.980825  11.672977\n",
       "\n",
       "[2858 rows x 3 columns]"
      ]
     },
     "execution_count": 6,
     "metadata": {},
     "output_type": "execute_result"
    }
   ],
   "source": [
    "out"
   ]
  },
  {
   "cell_type": "code",
   "execution_count": 7,
   "metadata": {},
   "outputs": [],
   "source": [
    "out.to_csv(\"box_anno_0319.csv\", index=False)"
   ]
  }
 ],
 "metadata": {
  "kernelspec": {
   "display_name": "Python 3.8.12 ('lab')",
   "language": "python",
   "name": "python3"
  },
  "language_info": {
   "codemirror_mode": {
    "name": "ipython",
    "version": 3
   },
   "file_extension": ".py",
   "mimetype": "text/x-python",
   "name": "python",
   "nbconvert_exporter": "python",
   "pygments_lexer": "ipython3",
   "version": "3.8.12"
  },
  "orig_nbformat": 4,
  "vscode": {
   "interpreter": {
    "hash": "c78d4320e70197666b5e7f0f1a31b60c33a6fed0b1d3db87aeec3823d16e22fd"
   }
  }
 },
 "nbformat": 4,
 "nbformat_minor": 2
}
