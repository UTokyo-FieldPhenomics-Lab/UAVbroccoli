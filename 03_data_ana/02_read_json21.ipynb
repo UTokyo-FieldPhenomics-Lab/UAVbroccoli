{
 "cells": [
  {
   "cell_type": "code",
   "execution_count": 1,
   "id": "419898b0",
   "metadata": {},
   "outputs": [
    {
     "name": "stdout",
     "output_type": "stream",
     "text": [
      "from easyric.caas_lite import TiffSpliter\n",
      "from easyric.objects import Pix4D\n",
      "from easyric.io import shp, geotiff, plot\n",
      "from easyric.calculate import geo2raw, geo2tiff\n",
      "\n",
      "import os\n",
      "import shapefile\n",
      "import numpy as np\n",
      "import matplotlib.pyplot as plt\n",
      "import pandas as pd\n",
      "import shapely\n",
      "import tifffile\n",
      "\n"
     ]
    }
   ],
   "source": [
    "from config import *"
   ]
  },
  {
   "cell_type": "code",
   "execution_count": 5,
   "id": "2dbabbd7",
   "metadata": {},
   "outputs": [],
   "source": [
    "import re\n",
    "import pickle\n",
    "import json\n",
    "from scipy.spatial import KDTree\n",
    "from easyric import caas_lite\n",
    "import tifffile as tf\n",
    "from skimage.transform import ProjectiveTransform"
   ]
  },
  {
   "cell_type": "code",
   "execution_count": 3,
   "id": "0dcaf666",
   "metadata": {},
   "outputs": [],
   "source": [
    "import random\n",
    "from tqdm.notebook import tqdm"
   ]
  },
  {
   "cell_type": "code",
   "execution_count": 4,
   "id": "93b6dbb6",
   "metadata": {},
   "outputs": [
    {
     "name": "stdout",
     "output_type": "stream",
     "text": [
      "[io][shp][fields] Shp fields: {'id': 0, 'left': 1, 'top': 2, 'right': 3, 'bottom': 4}\n",
      "[io][shp][proj] find ESRI projection file Y:\\hwang_Pro\\data\\2021_tanashi_broccoli\\02_GIS\\split_grid.prj, and successfully obtain projection cartesian\n",
      "[io][shp][name] Plot 175 loaded | 168/168        \r"
     ]
    },
    {
     "data": {
      "text/plain": [
       "dict_keys(['1', '2', '3', '4', '5', '6', '7', '8', '9', '10', '11', '12', '13', '14', '15', '16', '17', '18', '19', '20', '21', '23', '24', '25', '26', '27', '28', '29', '30', '31', '32', '33', '34', '35', '36', '37', '38', '39', '40', '41', '42', '43', '45', '46', '47', '48', '49', '50', '51', '52', '53', '54', '55', '56', '57', '58', '59', '60', '61', '62', '63', '64', '65', '67', '68', '69', '70', '71', '72', '73', '74', '75', '76', '77', '78', '79', '80', '81', '82', '83', '84', '85', '86', '87', '89', '90', '91', '92', '93', '94', '95', '96', '97', '98', '99', '100', '101', '102', '103', '104', '105', '106', '107', '108', '109', '111', '112', '113', '114', '115', '116', '117', '118', '119', '120', '121', '122', '123', '124', '125', '126', '127', '128', '129', '130', '131', '133', '134', '135', '136', '137', '138', '139', '140', '141', '142', '143', '144', '145', '146', '147', '148', '149', '150', '151', '152', '153', '155', '156', '157', '158', '159', '160', '161', '162', '163', '164', '165', '166', '167', '168', '169', '170', '171', '172', '173', '174', '175'])"
      ]
     },
     "execution_count": 4,
     "metadata": {},
     "output_type": "execute_result"
    }
   ],
   "source": [
    "#shp_file = r\"Y:\\hwang_Pro\\data\\2020_tanashi_broccoli\\02_GIS\\rotate_grids\\split_grid_2.5m.shp\"\n",
    "shp_file = r\"Y:\\hwang_Pro\\data\\2021_tanashi_broccoli\\02_GIS\\split_grid.shp\"\n",
    "\n",
    "process_area = shp.read_shp2d(shp_file, name_field=\"id\")\n",
    "process_area.keys()"
   ]
  },
  {
   "cell_type": "code",
   "execution_count": 5,
   "id": "ac56f12f",
   "metadata": {},
   "outputs": [
    {
     "data": {
      "text/plain": [
       "array([[ 368116.56276649, 3956027.70571439],\n",
       "       [ 368119.00813549, 3956028.22549361],\n",
       "       [ 368119.52791472, 3956025.78012461],\n",
       "       [ 368117.08254572, 3956025.26034538],\n",
       "       [ 368116.56276649, 3956027.70571439]])"
      ]
     },
     "execution_count": 5,
     "metadata": {},
     "output_type": "execute_result"
    }
   ],
   "source": [
    "process_area[\"106\"]"
   ]
  },
  {
   "cell_type": "code",
   "execution_count": 14,
   "id": "95ffe1bc",
   "metadata": {},
   "outputs": [
    {
     "name": "stdout",
     "output_type": "stream",
     "text": [
      "[io][shp][fields] Shp fields: {'name': 0}\n",
      "[io][shp][proj] could not find ESRI projection file Y:/hwang_Pro/data/2021_tanashi_broccoli/12_locate_by_yolo/sorted_id.prj, could not operate auto-convention, Please convert projection system manually.\n",
      "[io][shp][name] Plot 4005 loaded | 3620/3620        \r"
     ]
    }
   ],
   "source": [
    "root = f\"Y:/hwang_Pro/data/2021_tanashi_broccoli/12_locate_by_yolo/sorted_id.shp\"\n",
    "points = shp.read_shp2d(root, name_field=\"name\")"
   ]
  },
  {
   "cell_type": "code",
   "execution_count": 15,
   "id": "5e6f96c7",
   "metadata": {},
   "outputs": [],
   "source": [
    "id_list = []\n",
    "points_np = np.zeros((0,2))\n",
    "for k, p in points.items():\n",
    "    id_list.append(int(k))\n",
    "    points_np = np.vstack([points_np, p])"
   ]
  },
  {
   "cell_type": "code",
   "execution_count": 16,
   "id": "9a195837",
   "metadata": {},
   "outputs": [],
   "source": [
    "kdtree = KDTree(points_np)"
   ]
  },
  {
   "cell_type": "markdown",
   "id": "3937a3a5",
   "metadata": {},
   "source": [
    "# Prepare pix4d project data"
   ]
  },
  {
   "cell_type": "code",
   "execution_count": 12,
   "id": "731c520d",
   "metadata": {},
   "outputs": [
    {
     "name": "stdout",
     "output_type": "stream",
     "text": [
      "[io][geotiff][GeoCorrd] Comprehense [* 34737 geo_ascii_params (30s) b'WGS 84 / UTM zone 54N|WGS 84|'] to geotiff coordinate tag [WGS 84 / UTM zone 54N]\n",
      "[io][geotiff][GeoCorrd] Comprehense [* 34737 geo_ascii_params (30s) b'WGS 84 / UTM zone 54N|WGS 84|'] to geotiff coordinate tag [WGS 84 / UTM zone 54N]\n",
      "[io][geotiff][GeoCorrd] Comprehense [* 34737 geo_ascii_params (30s) b'WGS 84 / UTM zone 54N|WGS 84|'] to geotiff coordinate tag [WGS 84 / UTM zone 54N]\n",
      "[io][geotiff][GeoCorrd] Comprehense [* 34737 geo_ascii_params (30s) b'WGS 84 / UTM zone 54N|WGS 84|'] to geotiff coordinate tag [WGS 84 / UTM zone 54N]\n",
      "[io][geotiff][GeoCorrd] Comprehense [* 34737 geo_ascii_params (30s) b'WGS 84 / UTM zone 54N|WGS 84|'] to geotiff coordinate tag [WGS 84 / UTM zone 54N]\n",
      "[io][geotiff][GeoCorrd] Comprehense [* 34737 geo_ascii_params (30s) b'WGS 84 / UTM zone 54N|WGS 84|'] to geotiff coordinate tag [WGS 84 / UTM zone 54N]\n",
      "[io][geotiff][GeoCorrd] Comprehense [* 34737 geo_ascii_params (30s) b'WGS 84 / UTM zone 54N|WGS 84|'] to geotiff coordinate tag [WGS 84 / UTM zone 54N]\n",
      "[io][geotiff][GeoCorrd] Comprehense [* 34737 geo_ascii_params (30s) b'WGS 84 / UTM zone 54N|WGS 84|'] to geotiff coordinate tag [WGS 84 / UTM zone 54N]\n",
      "[io][geotiff][GeoCorrd] Comprehense [* 34737 geo_ascii_params (30s) b'WGS 84 / UTM zone 54N|WGS 84|'] to geotiff coordinate tag [WGS 84 / UTM zone 54N]\n",
      "[io][geotiff][GeoCorrd] Comprehense [* 34737 geo_ascii_params (30s) b'WGS 84 / UTM zone 54N|WGS 84|'] to geotiff coordinate tag [WGS 84 / UTM zone 54N]\n",
      "[io][geotiff][GeoCorrd] Comprehense [* 34737 geo_ascii_params (30s) b'WGS 84 / UTM zone 54N|WGS 84|'] to geotiff coordinate tag [WGS 84 / UTM zone 54N]\n",
      "[io][geotiff][GeoCorrd] Comprehense [* 34737 geo_ascii_params (30s) b'WGS 84 / UTM zone 54N|WGS 84|'] to geotiff coordinate tag [WGS 84 / UTM zone 54N]\n"
     ]
    }
   ],
   "source": [
    "todo_pool = [\"210512\", \"210514\", \"210515\", \"210519\", \"210520\", \"210526\"]\n",
    "date_dict = {}\n",
    "for tp in todo_pool:\n",
    "    p2 = Paths(tp, year=2021)\n",
    "    p4d = Pix4D(project_path=p2.pix4d_project, \n",
    "                raw_img_path=p2.raw_img, \n",
    "                project_name=p2.project_name,\n",
    "                param_folder=p2.pix4d_param)\n",
    "    \n",
    "    before_project = pd.read_csv(f\"{p2.root}/13_roi_on_raw/{p2.project_name}.csv\")\n",
    "    \n",
    "    date_dict[tp] = {\"p2\":p2, \"p4d\":p4d, \"bp\":before_project}"
   ]
  },
  {
   "cell_type": "code",
   "execution_count": 18,
   "id": "0b75d99f",
   "metadata": {},
   "outputs": [],
   "source": [
    "def read_json(json_path):\n",
    "    container = []\n",
    "    with open(json_path, \"r\", encoding=\"utf-8\") as f:\n",
    "        js = json.loads(f.read())\n",
    "        for item in js[\"shapes\"]:\n",
    "            points = np.asarray(item[\"points\"])\n",
    "            points = np.append(points, points[0,:][None,:], axis=0)\n",
    "            container.append(points)\n",
    "    return container\n",
    "\n",
    "\n",
    "def json_name(date, roi_id, file_name):\n",
    "    return f\"labeled_v0_{date}_{roi_id}_{file_name[:-4]}.json\"\n",
    "\n",
    "\n",
    "def mk_rm_line(bound_np, rm_bound_id):\n",
    "    bound_np = bound_np[:-1, :]\n",
    "    \n",
    "    return shapely.geometry.LineString(bound_np[rm_bound_id-1:rm_bound_id+2,:])\n",
    "\n",
    "\n",
    "def get_grid_roi_info(df_csv, id, image_name):\n",
    "    filtered = df_csv[(df_csv.id == id) & (df_csv.image == image_name)]\n",
    "    roi_str = filtered.roi.values[0]\n",
    "    roi_str = roi_str.replace(\"\\n \", \",\")\n",
    "    roi_str = re.sub(\"\\s+\", \",\", roi_str)\n",
    "    roi_np = np.asarray(eval(roi_str))\n",
    "    off_x = filtered.offset_x.values[0]\n",
    "    off_y = filtered.offset_y.values[0]\n",
    "    \n",
    "    return roi_np, off_x, off_y"
   ]
  },
  {
   "cell_type": "code",
   "execution_count": 19,
   "id": "9554a86b",
   "metadata": {},
   "outputs": [],
   "source": [
    "def find_polygon_center(poly):\n",
    "    xmin, ymin  = poly.min(axis=0)\n",
    "    xmax, ymax  = poly.max(axis=0)\n",
    "    \n",
    "    xctr = (xmin + xmax) / 2\n",
    "    yctr = (ymin + ymax) / 2\n",
    "    \n",
    "    return np.asarray([xctr, yctr])"
   ]
  },
  {
   "cell_type": "code",
   "execution_count": 12,
   "id": "5a02c091",
   "metadata": {},
   "outputs": [],
   "source": [
    "json_folder = r\"Y:\\hwang_Pro\\data\\2021_tanashi_broccoli\\13_roi_on_raw\\pred\"\n",
    "json_files = os.listdir(json_folder)"
   ]
  },
  {
   "cell_type": "code",
   "execution_count": 13,
   "id": "24dc48dd",
   "metadata": {},
   "outputs": [
    {
     "data": {
      "text/plain": [
       "['pred', '20210512', '1', 'DJI', '0329']"
      ]
     },
     "execution_count": 13,
     "metadata": {},
     "output_type": "execute_result"
    }
   ],
   "source": [
    "json_files[0][:-5].split(\"_\")"
   ]
  },
  {
   "cell_type": "code",
   "execution_count": 6,
   "id": "1acde871",
   "metadata": {},
   "outputs": [],
   "source": [
    "if os.path.exists(\"out/total_result21.pickle\"):\n",
    "    with open('out/total_result21.pickle', 'rb') as handle:\n",
    "        total_result = pickle.load(handle)\n",
    "        \n",
    "else:\n",
    "    total_result = {}\n",
    "    div_thresh = 0.20 # m\n",
    "\n",
    "    for js_file in tqdm(json_files):\n",
    "        js_path = os.path.join(json_folder, js_file)\n",
    "\n",
    "        _, date, plot_id, _, photo = js_file[:-5].split(\"_\")\n",
    "        date = date[2:]\n",
    "        photo = f\"DJI_{photo}.JPG\"\n",
    "\n",
    "        p2 = date_dict[date][\"p2\"]\n",
    "        p4d = date_dict[date][\"p4d\"]\n",
    "        before_project = date_dict[date][\"bp\"]\n",
    "\n",
    "        if date not in total_result.keys():\n",
    "            total_result[date] = {}\n",
    "\n",
    "        roi_np, off_x, off_y = get_grid_roi_info(before_project, int(plot_id), photo)\n",
    "        detect_poly = read_json(js_path)\n",
    "\n",
    "        # correct json offsets\n",
    "        detect_poly_correct = []\n",
    "        for roi in detect_poly:\n",
    "            # correct by distortion\n",
    "            roi_off = roi + np.asarray([off_x, off_y])\n",
    "            detect_poly_correct.append(roi_off)\n",
    "\n",
    "        # filter in broccolis\n",
    "        grid_poly = shapely.geometry.Polygon(roi_np)\n",
    "        rm_line = mk_rm_line(roi_np, 2)\n",
    "\n",
    "        shapely_detect_in = []\n",
    "        shapely_detect_out = []\n",
    "        for i, roi in enumerate(detect_poly_correct):\n",
    "            roi_spy = shapely.geometry.Polygon(roi)\n",
    "            if roi_spy.intersects(rm_line):\n",
    "                shapely_detect_out.append(i)\n",
    "            else:\n",
    "                if roi_spy.intersects(grid_poly):\n",
    "                    shapely_detect_in.append(i)\n",
    "                else:\n",
    "                    shapely_detect_out.append(i)\n",
    "\n",
    "        # reverse to dom coords\n",
    "        pt = ProjectiveTransform()\n",
    "        pt.estimate(process_area[plot_id] - p4d.offset.np[0:2], roi_np)\n",
    "\n",
    "        ## crop dom to small parts \n",
    "        new_coord = geotiff.geo2pixel(process_area[plot_id], geo_head=p4d.dom_header)\n",
    "        cropped, np_off, offset = geotiff.crop_by_coord(p4d.dom_file, new_coord, buffer=20)\n",
    "        plt.imshow(cropped)\n",
    "\n",
    "        new = new_coord - offset\n",
    "        plt.plot(*new.T, 'b--')\n",
    "\n",
    "        save_img = False\n",
    "        for idx in shapely_detect_in:\n",
    "            inv_np = pt.inverse(detect_poly_correct[idx])\n",
    "\n",
    "            inv_np_geo = inv_np + p4d.offset.np[0:2]\n",
    "\n",
    "\n",
    "            dist, id_list_idx = kdtree.query(find_polygon_center(inv_np_geo))\n",
    "            broccoli_id = id_list[id_list_idx]\n",
    "\n",
    "            if dist > div_thresh:\n",
    "                color = \"g\"\n",
    "                print(f\"Broccoli {broccoli_id} detect distence {dist} is over {div_thresh}\")\n",
    "                save_img = True\n",
    "            else:\n",
    "                color = \"r\"\n",
    "\n",
    "            if broccoli_id in total_result[date].keys():\n",
    "                total_result[date][broccoli_id].append(inv_np_geo)\n",
    "            else:\n",
    "                total_result[date][broccoli_id] = [inv_np_geo]\n",
    "\n",
    "            # plot\n",
    "            inv_np_dom = geotiff.geo2pixel(inv_np_geo, geo_head=p4d.dom_header) - offset\n",
    "            plt.plot(*inv_np_dom.T, f\"{color}-\")\n",
    "            plt.gcf().set_size_inches((16, 16))\n",
    "\n",
    "        # decide which to save\n",
    "        if random.randint(0, 10) == 5 or save_img:\n",
    "            plt.savefig(f\"Y:/hwang_Pro/data/2021_tanashi_broccoli/20_results/01_project_on_dom/{save_img}_{date}_{plot_id}.png\")\n",
    "        plt.clf()\n",
    "        \n",
    "    with open('out/total_result21.pickle', 'wb') as handle:\n",
    "        pickle.dump(total_result, handle, protocol=pickle.HIGHEST_PROTOCOL)"
   ]
  },
  {
   "cell_type": "markdown",
   "id": "a84c9e5b",
   "metadata": {},
   "source": [
    "# region props"
   ]
  },
  {
   "cell_type": "code",
   "execution_count": 10,
   "id": "e0112707",
   "metadata": {},
   "outputs": [],
   "source": [
    "from PIL import Image, ImageDraw\n",
    "from skimage.measure import label, regionprops, regionprops_table"
   ]
  },
  {
   "cell_type": "code",
   "execution_count": 8,
   "id": "498c3600",
   "metadata": {},
   "outputs": [],
   "source": [
    "import math\n",
    "import cv2"
   ]
  },
  {
   "cell_type": "code",
   "execution_count": 7,
   "id": "c4335286",
   "metadata": {},
   "outputs": [],
   "source": [
    "def draw_binary_image(poly_list):\n",
    "    poly_merge = np.vstack(poly_list)\n",
    "    \n",
    "    xmax, ymax = np.max(poly_merge, axis=0)\n",
    "    xmin, ymin = np.min(poly_merge, axis=0)\n",
    "    xlen = xmax - xmin\n",
    "    ylen = ymax - ymin\n",
    "\n",
    "    res = 0.001 # 1mm/ pix\n",
    "    \n",
    "    w = xlen / res\n",
    "    h = ylen / res\n",
    "\n",
    "    im = Image.new(mode='1', size=tuple(np.ceil([w, h]).astype(int)))\n",
    "    draw = ImageDraw.Draw(im)\n",
    "    \n",
    "    points = []\n",
    "    for p in poly_list:\n",
    "        point = (p - np.asarray([xmin, ymin])) / res\n",
    "        draw.polygon(point.reshape(len(point)*2).tolist(), fill='white', outline='white')\n",
    "        points.append(point)\n",
    "        \n",
    "    return np.asarray(im), points\n",
    "\n",
    "def remove_outlier_poly(poly_list, broccoli_id, points):\n",
    "    \n",
    "    center = points[str(broccoli_id)]\n",
    "    \n",
    "    dist_list = []\n",
    "    area_list = []\n",
    "    for poly in poly_list:\n",
    "        pc = find_polygon_center(poly)\n",
    "        dist = calc_dist(pc, center[0, :])\n",
    "        dist_list.append(dist)\n",
    "        \n",
    "        xmin, ymin = np.min(poly, axis=0)\n",
    "        poly_area = poly - np.asarray([xmin, ymin])\n",
    "        area = shapely.geometry.Polygon(poly_area * 100).area # cm2\n",
    "        area_list.append(area)\n",
    "        \n",
    "    dist_np = np.asarray(dist_list)\n",
    "    area_list = np.asarray(area_list)\n",
    "    \n",
    "    \"\"\"\n",
    "    dist_np_div = dist_np - dist_np.min()\n",
    "    \n",
    "    selected = dist_np_div < 0.15\n",
    "    \n",
    "    new_list = []\n",
    "    for i, b in enumerate(selected):\n",
    "        if b:\n",
    "            new_list.append(poly_list[i])\n",
    "            \n",
    "    return new_list\n",
    "    \"\"\"\n",
    "    return [poly_list[area_list.argmax()]]\n",
    "    \n",
    "    \n",
    "def calc_dist(p1, p2):\n",
    "    x1, y1 = p1\n",
    "    x2, y2 = p2\n",
    "    return np.sqrt((x1-x2)**2 + (y1-y2)**2)"
   ]
  },
  {
   "cell_type": "code",
   "execution_count": 178,
   "id": "ad3d106f",
   "metadata": {},
   "outputs": [
    {
     "data": {
      "application/vnd.jupyter.widget-view+json": {
       "model_id": "c379f348d9b146ada908b3d84071c543",
       "version_major": 2,
       "version_minor": 0
      },
      "text/plain": [
       "date:   0%|          | 0/6 [00:00<?, ?it/s]"
      ]
     },
     "metadata": {},
     "output_type": "display_data"
    },
    {
     "data": {
      "application/vnd.jupyter.widget-view+json": {
       "model_id": "24e1f20431ff4dee8e79ed2f3ed1875a",
       "version_major": 2,
       "version_minor": 0
      },
      "text/plain": [
       "id:   0%|          | 0/3293 [00:00<?, ?it/s]"
      ]
     },
     "metadata": {},
     "output_type": "display_data"
    },
    {
     "data": {
      "application/vnd.jupyter.widget-view+json": {
       "model_id": "b2ee6161e0cc43668627c6049acdbe51",
       "version_major": 2,
       "version_minor": 0
      },
      "text/plain": [
       "id:   0%|          | 0/3423 [00:00<?, ?it/s]"
      ]
     },
     "metadata": {},
     "output_type": "display_data"
    },
    {
     "data": {
      "application/vnd.jupyter.widget-view+json": {
       "model_id": "5b0cf8f6074e45e593499f4a42af03e5",
       "version_major": 2,
       "version_minor": 0
      },
      "text/plain": [
       "id:   0%|          | 0/3282 [00:00<?, ?it/s]"
      ]
     },
     "metadata": {},
     "output_type": "display_data"
    },
    {
     "data": {
      "application/vnd.jupyter.widget-view+json": {
       "model_id": "4a8612bd341e4053b2835225b79a5ce3",
       "version_major": 2,
       "version_minor": 0
      },
      "text/plain": [
       "id:   0%|          | 0/3195 [00:00<?, ?it/s]"
      ]
     },
     "metadata": {},
     "output_type": "display_data"
    },
    {
     "data": {
      "application/vnd.jupyter.widget-view+json": {
       "model_id": "29f941d5bc734d9fb965c55577d81606",
       "version_major": 2,
       "version_minor": 0
      },
      "text/plain": [
       "id:   0%|          | 0/3103 [00:00<?, ?it/s]"
      ]
     },
     "metadata": {},
     "output_type": "display_data"
    },
    {
     "data": {
      "application/vnd.jupyter.widget-view+json": {
       "model_id": "a6674c1bf30f48f496a587e919a6ca6b",
       "version_major": 2,
       "version_minor": 0
      },
      "text/plain": [
       "id:   0%|          | 0/2925 [00:00<?, ?it/s]"
      ]
     },
     "metadata": {},
     "output_type": "display_data"
    }
   ],
   "source": [
    "# old version\n",
    "\n",
    "props_all = pd.DataFrame(columns=[\"date\", \"label\", \"area\", \"convex_area\", \"eccentricity\", \"equivalent_diameter\", \"major_axis_length\", \"minor_axis_length\", \"perimeter\", 'circularity'])\n",
    "\n",
    "for date, v in tqdm(total_result.items(), desc=\"date\"):\n",
    "    \n",
    "    for broccoli_id, poly_list in tqdm(v.items(), desc=\"id\"):\n",
    "        \n",
    "        poly_num = len(poly_list)\n",
    "        \n",
    "        if poly_num == 1:\n",
    "            binary_img = draw_binary_image(poly_list)\n",
    "        else:\n",
    "            # draw plots\n",
    "            fig, ax = plt.subplots(1,2, dpi=300)\n",
    "            \n",
    "            p4d = date_dict[date][\"p4d\"]\n",
    "            \n",
    "            new_coord = geotiff.geo2pixel(np.vstack(poly_list), geo_head=p4d.dom_header)\n",
    "            cropped, np_off, offset = geotiff.crop_by_coord(p4d.dom_file, new_coord, buffer=20)\n",
    "            ax[0].imshow(cropped)\n",
    "            \n",
    "            for p in poly_list:\n",
    "                pix = geotiff.geo2pixel(p, geo_head=p4d.dom_header) - offset\n",
    "                ax[0].plot(*pix.T, 'r-', alpha=0.3)\n",
    "                \n",
    "            center = points[str(broccoli_id)]\n",
    "            center_pix = geotiff.geo2pixel(center, geo_head=p4d.dom_header) - offset\n",
    "            ax[0].plot(center_pix[0, 0], center_pix[0, 1], 'ro')\n",
    "            \n",
    "            # judge if noise -> clean poly_list\n",
    "            poly_list = remove_outlier_poly(poly_list, broccoli_id, points)\n",
    "            binary_img = draw_binary_image(poly_list)\n",
    "\n",
    "            for p in poly_list:\n",
    "                pix = geotiff.geo2pixel(p, geo_head=p4d.dom_header) - offset\n",
    "                ax[0].plot(*pix.T, 'r-', alpha=0.7)\n",
    "                \n",
    "            ax[1].imshow(binary_img, cmap=\"gray\")\n",
    "            ax[1].invert_yaxis()\n",
    "\n",
    "            plt.savefig(f\"Y:/hwang_Pro/data/2021_tanashi_broccoli/20_results/02_fix_wrong/{date}_{broccoli_id}.png\")\n",
    "            plt.close(fig)\n",
    "            \n",
    "        label_img = label(binary_img)\n",
    "        props = pd.DataFrame(regionprops_table(label_img, properties=[\"area\", \"convex_area\", \"eccentricity\", \"equivalent_diameter\", \"major_axis_length\", \"minor_axis_length\", \"perimeter\"]))\n",
    "        props['circularity'] = 4 * props.area * np.pi / props.perimeter ** 2\n",
    "        props['date'] = f\"20{date}\"\n",
    "        props['label'] = broccoli_id\n",
    "        props = props[[\"date\", \"label\", \"area\", \"convex_area\", \"eccentricity\", \"equivalent_diameter\", \"major_axis_length\", \"minor_axis_length\", \"perimeter\", 'circularity']]\n",
    "        \n",
    "        props_all.loc[len(props_all)] = props.iloc[0]"
   ]
  },
  {
   "cell_type": "code",
   "execution_count": 20,
   "id": "50aa6321",
   "metadata": {},
   "outputs": [
    {
     "data": {
      "application/vnd.jupyter.widget-view+json": {
       "model_id": "9caa606ff75446a6b8c7273b450d269f",
       "version_major": 2,
       "version_minor": 0
      },
      "text/plain": [
       "date:   0%|          | 0/6 [00:00<?, ?it/s]"
      ]
     },
     "metadata": {},
     "output_type": "display_data"
    },
    {
     "data": {
      "application/vnd.jupyter.widget-view+json": {
       "model_id": "619ef2e727d84b46ad7eae832a520b42",
       "version_major": 2,
       "version_minor": 0
      },
      "text/plain": [
       "id:   0%|          | 0/3293 [00:00<?, ?it/s]"
      ]
     },
     "metadata": {},
     "output_type": "display_data"
    },
    {
     "data": {
      "application/vnd.jupyter.widget-view+json": {
       "model_id": "fa41cbb9931941f09865fc7b1ed260e0",
       "version_major": 2,
       "version_minor": 0
      },
      "text/plain": [
       "id:   0%|          | 0/3423 [00:00<?, ?it/s]"
      ]
     },
     "metadata": {},
     "output_type": "display_data"
    },
    {
     "data": {
      "application/vnd.jupyter.widget-view+json": {
       "model_id": "e3aa4980b4e24ca78ab5b70338490bd7",
       "version_major": 2,
       "version_minor": 0
      },
      "text/plain": [
       "id:   0%|          | 0/3282 [00:00<?, ?it/s]"
      ]
     },
     "metadata": {},
     "output_type": "display_data"
    },
    {
     "data": {
      "application/vnd.jupyter.widget-view+json": {
       "model_id": "8e49867966454ca28ca8dc9cf058e9b3",
       "version_major": 2,
       "version_minor": 0
      },
      "text/plain": [
       "id:   0%|          | 0/3195 [00:00<?, ?it/s]"
      ]
     },
     "metadata": {},
     "output_type": "display_data"
    },
    {
     "data": {
      "application/vnd.jupyter.widget-view+json": {
       "model_id": "fb35c7e5c4664f69b6dbb3d1aed7bd42",
       "version_major": 2,
       "version_minor": 0
      },
      "text/plain": [
       "id:   0%|          | 0/3103 [00:00<?, ?it/s]"
      ]
     },
     "metadata": {},
     "output_type": "display_data"
    },
    {
     "data": {
      "application/vnd.jupyter.widget-view+json": {
       "model_id": "203a08fd0983412485c18301d3432d41",
       "version_major": 2,
       "version_minor": 0
      },
      "text/plain": [
       "id:   0%|          | 0/2925 [00:00<?, ?it/s]"
      ]
     },
     "metadata": {},
     "output_type": "display_data"
    }
   ],
   "source": [
    "props_all = pd.DataFrame(columns=[\"date\", \"label\", \"area\", \"convex_area\", \"eccentricity\", \"equivalent_diameter\", \"major_axis_length\", \"minor_axis_length\", \"min_area_rect_max\", \"min_area_rect_min\", \"perimeter\", 'circularity'])\n",
    "\n",
    "for date, v in tqdm(total_result.items(), desc=\"date\"):\n",
    "    \n",
    "    for broccoli_id, poly_list in tqdm(v.items(), desc=\"id\"):\n",
    "        \n",
    "        poly_num = len(poly_list)\n",
    "        \n",
    "        if poly_num == 1:\n",
    "            binary_img, pix = draw_binary_image(poly_list)\n",
    "            rect = cv2.minAreaRect(pix[0].astype(np.int32))\n",
    "            label_img = label(binary_img)\n",
    "        else:\n",
    "            # draw plots\n",
    "            fig, ax = plt.subplots(1,2, dpi=300)\n",
    "            \n",
    "            p4d = date_dict[date][\"p4d\"]\n",
    "            \n",
    "            new_coord = geotiff.geo2pixel(np.vstack(poly_list), geo_head=p4d.dom_header)\n",
    "            cropped, np_off, offset = geotiff.crop_by_coord(p4d.dom_file, new_coord, buffer=20)\n",
    "            ax[0].imshow(cropped)\n",
    "            \n",
    "            for p in poly_list:\n",
    "                pix = geotiff.geo2pixel(p, geo_head=p4d.dom_header) - offset\n",
    "                ax[0].plot(*pix.T, 'r-', alpha=0.3)\n",
    "                \n",
    "            center = points[str(broccoli_id)]\n",
    "            center_pix = geotiff.geo2pixel(center, geo_head=p4d.dom_header) - offset\n",
    "            ax[0].plot(center_pix[0, 0], center_pix[0, 1], 'ro')\n",
    "            \n",
    "            # judge if noise -> clean poly_list\n",
    "            poly_list = remove_outlier_poly(poly_list, broccoli_id, points)\n",
    "            binary_img, pix = draw_binary_image(poly_list)\n",
    "            \n",
    "            rect = cv2.minAreaRect(pix[0].astype(np.int32))\n",
    "\n",
    "            for p in poly_list:\n",
    "                pixel_pos = geotiff.geo2pixel(p, geo_head=p4d.dom_header) - offset\n",
    "                ax[0].plot(*pixel_pos.T, 'r-', alpha=0.7)\n",
    "            \n",
    "            ax[1].imshow(binary_img, cmap=\"gray\")\n",
    "            ax[1].invert_yaxis()\n",
    "            \n",
    "            ax[1].plot(*pix[0].T, 'r--')\n",
    "\n",
    "            box = cv2.boxPoints(rect)\n",
    "            box = np.append(box, box[0,:][None,:], axis = 0)\n",
    "            ax[1].plot(*box.T)\n",
    "            \n",
    "            if len(pix) != 1:\n",
    "                print(pix, len(pix))\n",
    "                raise ValueError(\"Not equal to 1\")\n",
    "                \n",
    "            \n",
    "            label_img = label(binary_img)\n",
    "            regions = regionprops(label_img)\n",
    "            for props in regions:\n",
    "                y0, x0 = props.centroid\n",
    "\n",
    "                orientation = props.orientation\n",
    "                x1 = x0 + math.cos(orientation) * 0.5 * props.minor_axis_length\n",
    "                y1 = y0 - math.sin(orientation) * 0.5 * props.minor_axis_length\n",
    "                x2 = x0 - math.sin(orientation) * 0.5 * props.major_axis_length\n",
    "                y2 = y0 - math.cos(orientation) * 0.5 * props.major_axis_length\n",
    "\n",
    "\n",
    "                ax[1].plot((x0, x1), (y0, y1), '-r', linewidth=2.5)\n",
    "                ax[1].plot((x0, x2), (y0, y2), '-r', linewidth=2.5)\n",
    "                ax[1].plot(x0, y0, '.g', markersize=15)\n",
    "                \n",
    "            \n",
    "            plt.savefig(f\"Y:/hwang_Pro/data/2021_tanashi_broccoli/20_results/02_fix_wrong/{date}_{broccoli_id}.png\")\n",
    "            plt.close(fig)\n",
    "            \n",
    "        \n",
    "        props = pd.DataFrame(regionprops_table(label_img, properties=[\"area\", \"convex_area\", \"eccentricity\", \"equivalent_diameter\", \"major_axis_length\", \"minor_axis_length\", \"perimeter\"]))\n",
    "        props['circularity'] = 4 * props.area * np.pi / props.perimeter ** 2\n",
    "        props['date'] = f\"20{date}\"\n",
    "        props['label'] = broccoli_id\n",
    "        \n",
    "        props[\"min_area_rect_max\"] = max(rect[1][0], rect[1][1])\n",
    "        props[\"min_area_rect_min\"] = min(rect[1][0], rect[1][1])\n",
    "        props = props[[\"date\", \"label\", \"area\", \"convex_area\", \"eccentricity\", \"equivalent_diameter\", \"major_axis_length\", \"minor_axis_length\", \"min_area_rect_max\", \"min_area_rect_min\", \"perimeter\", 'circularity']]\n",
    "        \n",
    "        props_all.loc[len(props_all)] = props.iloc[0]"
   ]
  },
  {
   "cell_type": "code",
   "execution_count": 21,
   "id": "f250e186",
   "metadata": {},
   "outputs": [
    {
     "data": {
      "text/plain": [
       "date                     20210526\n",
       "label                        3295\n",
       "area                        13749\n",
       "convex_area                 14717\n",
       "eccentricity             0.717303\n",
       "equivalent_diameter    132.309374\n",
       "major_axis_length      160.748992\n",
       "minor_axis_length      112.003669\n",
       "min_area_rect_max       161.86734\n",
       "min_area_rect_min      114.529305\n",
       "perimeter              504.043723\n",
       "circularity              0.680056\n",
       "Name: 0, dtype: object"
      ]
     },
     "execution_count": 21,
     "metadata": {},
     "output_type": "execute_result"
    }
   ],
   "source": [
    "props.iloc[0]"
   ]
  },
  {
   "cell_type": "code",
   "execution_count": 22,
   "id": "9004c5a6",
   "metadata": {},
   "outputs": [
    {
     "data": {
      "text/html": [
       "<div>\n",
       "<style scoped>\n",
       "    .dataframe tbody tr th:only-of-type {\n",
       "        vertical-align: middle;\n",
       "    }\n",
       "\n",
       "    .dataframe tbody tr th {\n",
       "        vertical-align: top;\n",
       "    }\n",
       "\n",
       "    .dataframe thead th {\n",
       "        text-align: right;\n",
       "    }\n",
       "</style>\n",
       "<table border=\"1\" class=\"dataframe\">\n",
       "  <thead>\n",
       "    <tr style=\"text-align: right;\">\n",
       "      <th></th>\n",
       "      <th>date</th>\n",
       "      <th>label</th>\n",
       "      <th>area</th>\n",
       "      <th>convex_area</th>\n",
       "      <th>eccentricity</th>\n",
       "      <th>equivalent_diameter</th>\n",
       "      <th>major_axis_length</th>\n",
       "      <th>minor_axis_length</th>\n",
       "      <th>min_area_rect_max</th>\n",
       "      <th>min_area_rect_min</th>\n",
       "      <th>perimeter</th>\n",
       "      <th>circularity</th>\n",
       "    </tr>\n",
       "  </thead>\n",
       "  <tbody>\n",
       "    <tr>\n",
       "      <th>0</th>\n",
       "      <td>20210512</td>\n",
       "      <td>285</td>\n",
       "      <td>2371</td>\n",
       "      <td>2529</td>\n",
       "      <td>0.485232</td>\n",
       "      <td>54.944071</td>\n",
       "      <td>59.213990</td>\n",
       "      <td>51.775862</td>\n",
       "      <td>55.720016</td>\n",
       "      <td>54.447224</td>\n",
       "      <td>197.438600</td>\n",
       "      <td>0.764324</td>\n",
       "    </tr>\n",
       "    <tr>\n",
       "      <th>1</th>\n",
       "      <td>20210512</td>\n",
       "      <td>287</td>\n",
       "      <td>2133</td>\n",
       "      <td>2470</td>\n",
       "      <td>0.537675</td>\n",
       "      <td>52.113529</td>\n",
       "      <td>58.738901</td>\n",
       "      <td>49.525839</td>\n",
       "      <td>58.420361</td>\n",
       "      <td>50.606167</td>\n",
       "      <td>207.515765</td>\n",
       "      <td>0.622441</td>\n",
       "    </tr>\n",
       "    <tr>\n",
       "      <th>2</th>\n",
       "      <td>20210512</td>\n",
       "      <td>290</td>\n",
       "      <td>3064</td>\n",
       "      <td>3156</td>\n",
       "      <td>0.436804</td>\n",
       "      <td>62.459635</td>\n",
       "      <td>66.183537</td>\n",
       "      <td>59.535859</td>\n",
       "      <td>63.639610</td>\n",
       "      <td>60.062481</td>\n",
       "      <td>215.823376</td>\n",
       "      <td>0.826612</td>\n",
       "    </tr>\n",
       "    <tr>\n",
       "      <th>3</th>\n",
       "      <td>20210512</td>\n",
       "      <td>143</td>\n",
       "      <td>2201</td>\n",
       "      <td>2310</td>\n",
       "      <td>0.507040</td>\n",
       "      <td>52.937701</td>\n",
       "      <td>57.594992</td>\n",
       "      <td>49.642407</td>\n",
       "      <td>54.708408</td>\n",
       "      <td>50.472454</td>\n",
       "      <td>186.610173</td>\n",
       "      <td>0.794254</td>\n",
       "    </tr>\n",
       "    <tr>\n",
       "      <th>4</th>\n",
       "      <td>20210512</td>\n",
       "      <td>144</td>\n",
       "      <td>2473</td>\n",
       "      <td>2582</td>\n",
       "      <td>0.654588</td>\n",
       "      <td>56.113469</td>\n",
       "      <td>65.209004</td>\n",
       "      <td>49.297071</td>\n",
       "      <td>63.243076</td>\n",
       "      <td>47.292389</td>\n",
       "      <td>200.852814</td>\n",
       "      <td>0.770332</td>\n",
       "    </tr>\n",
       "    <tr>\n",
       "      <th>...</th>\n",
       "      <td>...</td>\n",
       "      <td>...</td>\n",
       "      <td>...</td>\n",
       "      <td>...</td>\n",
       "      <td>...</td>\n",
       "      <td>...</td>\n",
       "      <td>...</td>\n",
       "      <td>...</td>\n",
       "      <td>...</td>\n",
       "      <td>...</td>\n",
       "      <td>...</td>\n",
       "      <td>...</td>\n",
       "    </tr>\n",
       "    <tr>\n",
       "      <th>19216</th>\n",
       "      <td>20210526</td>\n",
       "      <td>3292</td>\n",
       "      <td>35864</td>\n",
       "      <td>37599</td>\n",
       "      <td>0.525166</td>\n",
       "      <td>213.690110</td>\n",
       "      <td>233.923807</td>\n",
       "      <td>199.069049</td>\n",
       "      <td>229.692520</td>\n",
       "      <td>195.691391</td>\n",
       "      <td>773.050865</td>\n",
       "      <td>0.754141</td>\n",
       "    </tr>\n",
       "    <tr>\n",
       "      <th>19217</th>\n",
       "      <td>20210526</td>\n",
       "      <td>3289</td>\n",
       "      <td>12296</td>\n",
       "      <td>13003</td>\n",
       "      <td>0.612709</td>\n",
       "      <td>125.122953</td>\n",
       "      <td>143.472000</td>\n",
       "      <td>113.387209</td>\n",
       "      <td>133.205338</td>\n",
       "      <td>125.509468</td>\n",
       "      <td>456.132034</td>\n",
       "      <td>0.742664</td>\n",
       "    </tr>\n",
       "    <tr>\n",
       "      <th>19218</th>\n",
       "      <td>20210526</td>\n",
       "      <td>3290</td>\n",
       "      <td>5646</td>\n",
       "      <td>14470</td>\n",
       "      <td>0.921993</td>\n",
       "      <td>84.786263</td>\n",
       "      <td>240.935196</td>\n",
       "      <td>93.291666</td>\n",
       "      <td>223.077530</td>\n",
       "      <td>98.535194</td>\n",
       "      <td>625.428499</td>\n",
       "      <td>0.181383</td>\n",
       "    </tr>\n",
       "    <tr>\n",
       "      <th>19219</th>\n",
       "      <td>20210526</td>\n",
       "      <td>3291</td>\n",
       "      <td>21634</td>\n",
       "      <td>25898</td>\n",
       "      <td>0.875148</td>\n",
       "      <td>165.967660</td>\n",
       "      <td>251.979194</td>\n",
       "      <td>121.921665</td>\n",
       "      <td>235.728485</td>\n",
       "      <td>135.437225</td>\n",
       "      <td>681.026479</td>\n",
       "      <td>0.586163</td>\n",
       "    </tr>\n",
       "    <tr>\n",
       "      <th>19220</th>\n",
       "      <td>20210526</td>\n",
       "      <td>3295</td>\n",
       "      <td>13749</td>\n",
       "      <td>14717</td>\n",
       "      <td>0.717303</td>\n",
       "      <td>132.309374</td>\n",
       "      <td>160.748992</td>\n",
       "      <td>112.003669</td>\n",
       "      <td>161.867340</td>\n",
       "      <td>114.529305</td>\n",
       "      <td>504.043723</td>\n",
       "      <td>0.680056</td>\n",
       "    </tr>\n",
       "  </tbody>\n",
       "</table>\n",
       "<p>19221 rows × 12 columns</p>\n",
       "</div>"
      ],
      "text/plain": [
       "           date label   area convex_area  eccentricity  equivalent_diameter  \\\n",
       "0      20210512   285   2371        2529      0.485232            54.944071   \n",
       "1      20210512   287   2133        2470      0.537675            52.113529   \n",
       "2      20210512   290   3064        3156      0.436804            62.459635   \n",
       "3      20210512   143   2201        2310      0.507040            52.937701   \n",
       "4      20210512   144   2473        2582      0.654588            56.113469   \n",
       "...         ...   ...    ...         ...           ...                  ...   \n",
       "19216  20210526  3292  35864       37599      0.525166           213.690110   \n",
       "19217  20210526  3289  12296       13003      0.612709           125.122953   \n",
       "19218  20210526  3290   5646       14470      0.921993            84.786263   \n",
       "19219  20210526  3291  21634       25898      0.875148           165.967660   \n",
       "19220  20210526  3295  13749       14717      0.717303           132.309374   \n",
       "\n",
       "       major_axis_length  minor_axis_length  min_area_rect_max  \\\n",
       "0              59.213990          51.775862          55.720016   \n",
       "1              58.738901          49.525839          58.420361   \n",
       "2              66.183537          59.535859          63.639610   \n",
       "3              57.594992          49.642407          54.708408   \n",
       "4              65.209004          49.297071          63.243076   \n",
       "...                  ...                ...                ...   \n",
       "19216         233.923807         199.069049         229.692520   \n",
       "19217         143.472000         113.387209         133.205338   \n",
       "19218         240.935196          93.291666         223.077530   \n",
       "19219         251.979194         121.921665         235.728485   \n",
       "19220         160.748992         112.003669         161.867340   \n",
       "\n",
       "       min_area_rect_min   perimeter  circularity  \n",
       "0              54.447224  197.438600     0.764324  \n",
       "1              50.606167  207.515765     0.622441  \n",
       "2              60.062481  215.823376     0.826612  \n",
       "3              50.472454  186.610173     0.794254  \n",
       "4              47.292389  200.852814     0.770332  \n",
       "...                  ...         ...          ...  \n",
       "19216         195.691391  773.050865     0.754141  \n",
       "19217         125.509468  456.132034     0.742664  \n",
       "19218          98.535194  625.428499     0.181383  \n",
       "19219         135.437225  681.026479     0.586163  \n",
       "19220         114.529305  504.043723     0.680056  \n",
       "\n",
       "[19221 rows x 12 columns]"
      ]
     },
     "execution_count": 22,
     "metadata": {},
     "output_type": "execute_result"
    }
   ],
   "source": [
    "props_all"
   ]
  },
  {
   "cell_type": "code",
   "execution_count": 23,
   "id": "60c98b29",
   "metadata": {},
   "outputs": [],
   "source": [
    "props_all = props_all.astype({\"date\": int})"
   ]
  },
  {
   "cell_type": "code",
   "execution_count": 24,
   "id": "b3701152",
   "metadata": {},
   "outputs": [],
   "source": [
    "props_all.to_excel(\"out/2021_props_all.xlsx\", index=False)"
   ]
  },
  {
   "cell_type": "markdown",
   "id": "fcf9940d",
   "metadata": {},
   "source": [
    "# link to field_measure"
   ]
  },
  {
   "cell_type": "code",
   "execution_count": 25,
   "id": "3588f5c0",
   "metadata": {},
   "outputs": [
    {
     "data": {
      "text/html": [
       "<div>\n",
       "<style scoped>\n",
       "    .dataframe tbody tr th:only-of-type {\n",
       "        vertical-align: middle;\n",
       "    }\n",
       "\n",
       "    .dataframe tbody tr th {\n",
       "        vertical-align: top;\n",
       "    }\n",
       "\n",
       "    .dataframe thead th {\n",
       "        text-align: right;\n",
       "    }\n",
       "</style>\n",
       "<table border=\"1\" class=\"dataframe\">\n",
       "  <thead>\n",
       "    <tr style=\"text-align: right;\">\n",
       "      <th></th>\n",
       "      <th>field</th>\n",
       "      <th>img</th>\n",
       "      <th>pos</th>\n",
       "    </tr>\n",
       "  </thead>\n",
       "  <tbody>\n",
       "    <tr>\n",
       "      <th>0</th>\n",
       "      <td>26-1</td>\n",
       "      <td>1</td>\n",
       "      <td>West</td>\n",
       "    </tr>\n",
       "    <tr>\n",
       "      <th>1</th>\n",
       "      <td>26-2</td>\n",
       "      <td>2</td>\n",
       "      <td>West</td>\n",
       "    </tr>\n",
       "    <tr>\n",
       "      <th>2</th>\n",
       "      <td>26-3</td>\n",
       "      <td>3</td>\n",
       "      <td>West</td>\n",
       "    </tr>\n",
       "    <tr>\n",
       "      <th>3</th>\n",
       "      <td>26-4</td>\n",
       "      <td>4</td>\n",
       "      <td>West</td>\n",
       "    </tr>\n",
       "    <tr>\n",
       "      <th>4</th>\n",
       "      <td>26-5</td>\n",
       "      <td>5</td>\n",
       "      <td>West</td>\n",
       "    </tr>\n",
       "    <tr>\n",
       "      <th>...</th>\n",
       "      <td>...</td>\n",
       "      <td>...</td>\n",
       "      <td>...</td>\n",
       "    </tr>\n",
       "    <tr>\n",
       "      <th>3333</th>\n",
       "      <td>1-139</td>\n",
       "      <td>3618</td>\n",
       "      <td>East</td>\n",
       "    </tr>\n",
       "    <tr>\n",
       "      <th>3334</th>\n",
       "      <td>1-140</td>\n",
       "      <td>3619</td>\n",
       "      <td>East</td>\n",
       "    </tr>\n",
       "    <tr>\n",
       "      <th>3335</th>\n",
       "      <td>1-141</td>\n",
       "      <td>3620</td>\n",
       "      <td>East</td>\n",
       "    </tr>\n",
       "    <tr>\n",
       "      <th>3336</th>\n",
       "      <td>1-142</td>\n",
       "      <td>3621</td>\n",
       "      <td>East</td>\n",
       "    </tr>\n",
       "    <tr>\n",
       "      <th>3337</th>\n",
       "      <td>1-143</td>\n",
       "      <td>3622</td>\n",
       "      <td>East</td>\n",
       "    </tr>\n",
       "  </tbody>\n",
       "</table>\n",
       "<p>3338 rows × 3 columns</p>\n",
       "</div>"
      ],
      "text/plain": [
       "      field   img   pos\n",
       "0      26-1     1  West\n",
       "1      26-2     2  West\n",
       "2      26-3     3  West\n",
       "3      26-4     4  West\n",
       "4      26-5     5  West\n",
       "...     ...   ...   ...\n",
       "3333  1-139  3618  East\n",
       "3334  1-140  3619  East\n",
       "3335  1-141  3620  East\n",
       "3336  1-142  3621  East\n",
       "3337  1-143  3622  East\n",
       "\n",
       "[3338 rows x 3 columns]"
      ]
     },
     "execution_count": 25,
     "metadata": {},
     "output_type": "execute_result"
    }
   ],
   "source": [
    "link_table = pd.read_csv(\"out/link_table.csv\")\n",
    "link_table"
   ]
  },
  {
   "cell_type": "code",
   "execution_count": 27,
   "id": "3b1a04bf",
   "metadata": {},
   "outputs": [
    {
     "data": {
      "text/html": [
       "<div>\n",
       "<style scoped>\n",
       "    .dataframe tbody tr th:only-of-type {\n",
       "        vertical-align: middle;\n",
       "    }\n",
       "\n",
       "    .dataframe tbody tr th {\n",
       "        vertical-align: top;\n",
       "    }\n",
       "\n",
       "    .dataframe thead th {\n",
       "        text-align: right;\n",
       "    }\n",
       "</style>\n",
       "<table border=\"1\" class=\"dataframe\">\n",
       "  <thead>\n",
       "    <tr style=\"text-align: right;\">\n",
       "      <th></th>\n",
       "      <th>date</th>\n",
       "      <th>field</th>\n",
       "      <th>label</th>\n",
       "      <th>pos</th>\n",
       "      <th>area(mm2)</th>\n",
       "      <th>convex_area(mm2)</th>\n",
       "      <th>eccentricity</th>\n",
       "      <th>equivalent_diameter(mm)</th>\n",
       "      <th>major_axis_length(mm)</th>\n",
       "      <th>minor_axis_length(mm)</th>\n",
       "      <th>perimeter(mm)</th>\n",
       "      <th>circularity</th>\n",
       "    </tr>\n",
       "  </thead>\n",
       "  <tbody>\n",
       "    <tr>\n",
       "      <th>0</th>\n",
       "      <td>20210512</td>\n",
       "      <td>24-2</td>\n",
       "      <td>285</td>\n",
       "      <td>West</td>\n",
       "      <td>2371</td>\n",
       "      <td>2529</td>\n",
       "      <td>0.485232</td>\n",
       "      <td>54.944071</td>\n",
       "      <td>59.213990</td>\n",
       "      <td>51.775862</td>\n",
       "      <td>197.438600</td>\n",
       "      <td>0.764324</td>\n",
       "    </tr>\n",
       "    <tr>\n",
       "      <th>1</th>\n",
       "      <td>20210514</td>\n",
       "      <td>24-2</td>\n",
       "      <td>285</td>\n",
       "      <td>West</td>\n",
       "      <td>4424</td>\n",
       "      <td>4565</td>\n",
       "      <td>0.438728</td>\n",
       "      <td>75.052060</td>\n",
       "      <td>79.395531</td>\n",
       "      <td>71.346405</td>\n",
       "      <td>260.350288</td>\n",
       "      <td>0.820179</td>\n",
       "    </tr>\n",
       "    <tr>\n",
       "      <th>2</th>\n",
       "      <td>20210515</td>\n",
       "      <td>24-2</td>\n",
       "      <td>285</td>\n",
       "      <td>West</td>\n",
       "      <td>5680</td>\n",
       "      <td>5766</td>\n",
       "      <td>0.314625</td>\n",
       "      <td>85.041170</td>\n",
       "      <td>87.950560</td>\n",
       "      <td>83.484087</td>\n",
       "      <td>291.521861</td>\n",
       "      <td>0.839877</td>\n",
       "    </tr>\n",
       "    <tr>\n",
       "      <th>3</th>\n",
       "      <td>20210519</td>\n",
       "      <td>24-2</td>\n",
       "      <td>285</td>\n",
       "      <td>West</td>\n",
       "      <td>12854</td>\n",
       "      <td>13470</td>\n",
       "      <td>0.500925</td>\n",
       "      <td>127.930532</td>\n",
       "      <td>139.130930</td>\n",
       "      <td>120.416505</td>\n",
       "      <td>460.315801</td>\n",
       "      <td>0.762318</td>\n",
       "    </tr>\n",
       "    <tr>\n",
       "      <th>4</th>\n",
       "      <td>20210520</td>\n",
       "      <td>24-2</td>\n",
       "      <td>285</td>\n",
       "      <td>West</td>\n",
       "      <td>14110</td>\n",
       "      <td>14488</td>\n",
       "      <td>0.489623</td>\n",
       "      <td>134.035107</td>\n",
       "      <td>144.629077</td>\n",
       "      <td>126.107069</td>\n",
       "      <td>460.658946</td>\n",
       "      <td>0.835560</td>\n",
       "    </tr>\n",
       "    <tr>\n",
       "      <th>...</th>\n",
       "      <td>...</td>\n",
       "      <td>...</td>\n",
       "      <td>...</td>\n",
       "      <td>...</td>\n",
       "      <td>...</td>\n",
       "      <td>...</td>\n",
       "      <td>...</td>\n",
       "      <td>...</td>\n",
       "      <td>...</td>\n",
       "      <td>...</td>\n",
       "      <td>...</td>\n",
       "      <td>...</td>\n",
       "    </tr>\n",
       "    <tr>\n",
       "      <th>17697</th>\n",
       "      <td>20210526</td>\n",
       "      <td>15-125</td>\n",
       "      <td>1660</td>\n",
       "      <td>West</td>\n",
       "      <td>4380</td>\n",
       "      <td>4698</td>\n",
       "      <td>0.611704</td>\n",
       "      <td>74.677903</td>\n",
       "      <td>84.545288</td>\n",
       "      <td>66.882632</td>\n",
       "      <td>284.971609</td>\n",
       "      <td>0.677768</td>\n",
       "    </tr>\n",
       "    <tr>\n",
       "      <th>17698</th>\n",
       "      <td>20210526</td>\n",
       "      <td>12-66</td>\n",
       "      <td>2015</td>\n",
       "      <td>East</td>\n",
       "      <td>4128</td>\n",
       "      <td>4778</td>\n",
       "      <td>0.895483</td>\n",
       "      <td>72.497813</td>\n",
       "      <td>117.143445</td>\n",
       "      <td>52.140058</td>\n",
       "      <td>314.699531</td>\n",
       "      <td>0.523790</td>\n",
       "    </tr>\n",
       "    <tr>\n",
       "      <th>17699</th>\n",
       "      <td>20210526</td>\n",
       "      <td>4-21</td>\n",
       "      <td>3082</td>\n",
       "      <td>East</td>\n",
       "      <td>9414</td>\n",
       "      <td>10683</td>\n",
       "      <td>0.893977</td>\n",
       "      <td>109.481857</td>\n",
       "      <td>170.052081</td>\n",
       "      <td>76.202503</td>\n",
       "      <td>446.931024</td>\n",
       "      <td>0.592247</td>\n",
       "    </tr>\n",
       "    <tr>\n",
       "      <th>17700</th>\n",
       "      <td>20210526</td>\n",
       "      <td>1-33</td>\n",
       "      <td>3513</td>\n",
       "      <td>East</td>\n",
       "      <td>4057</td>\n",
       "      <td>5397</td>\n",
       "      <td>0.942323</td>\n",
       "      <td>71.871641</td>\n",
       "      <td>137.165555</td>\n",
       "      <td>45.910162</td>\n",
       "      <td>340.693434</td>\n",
       "      <td>0.439225</td>\n",
       "    </tr>\n",
       "    <tr>\n",
       "      <th>17701</th>\n",
       "      <td>20210526</td>\n",
       "      <td>1-65</td>\n",
       "      <td>3545</td>\n",
       "      <td>East</td>\n",
       "      <td>14622</td>\n",
       "      <td>23087</td>\n",
       "      <td>0.867281</td>\n",
       "      <td>136.445259</td>\n",
       "      <td>242.265049</td>\n",
       "      <td>120.604303</td>\n",
       "      <td>693.884343</td>\n",
       "      <td>0.381630</td>\n",
       "    </tr>\n",
       "  </tbody>\n",
       "</table>\n",
       "<p>17702 rows × 12 columns</p>\n",
       "</div>"
      ],
      "text/plain": [
       "           date   field label   pos area(mm2) convex_area(mm2)  eccentricity  \\\n",
       "0      20210512    24-2   285  West      2371             2529      0.485232   \n",
       "1      20210514    24-2   285  West      4424             4565      0.438728   \n",
       "2      20210515    24-2   285  West      5680             5766      0.314625   \n",
       "3      20210519    24-2   285  West     12854            13470      0.500925   \n",
       "4      20210520    24-2   285  West     14110            14488      0.489623   \n",
       "...         ...     ...   ...   ...       ...              ...           ...   \n",
       "17697  20210526  15-125  1660  West      4380             4698      0.611704   \n",
       "17698  20210526   12-66  2015  East      4128             4778      0.895483   \n",
       "17699  20210526    4-21  3082  East      9414            10683      0.893977   \n",
       "17700  20210526    1-33  3513  East      4057             5397      0.942323   \n",
       "17701  20210526    1-65  3545  East     14622            23087      0.867281   \n",
       "\n",
       "       equivalent_diameter(mm)  major_axis_length(mm)  minor_axis_length(mm)  \\\n",
       "0                    54.944071              59.213990              51.775862   \n",
       "1                    75.052060              79.395531              71.346405   \n",
       "2                    85.041170              87.950560              83.484087   \n",
       "3                   127.930532             139.130930             120.416505   \n",
       "4                   134.035107             144.629077             126.107069   \n",
       "...                        ...                    ...                    ...   \n",
       "17697                74.677903              84.545288              66.882632   \n",
       "17698                72.497813             117.143445              52.140058   \n",
       "17699               109.481857             170.052081              76.202503   \n",
       "17700                71.871641             137.165555              45.910162   \n",
       "17701               136.445259             242.265049             120.604303   \n",
       "\n",
       "       perimeter(mm)  circularity  \n",
       "0         197.438600     0.764324  \n",
       "1         260.350288     0.820179  \n",
       "2         291.521861     0.839877  \n",
       "3         460.315801     0.762318  \n",
       "4         460.658946     0.835560  \n",
       "...              ...          ...  \n",
       "17697     284.971609     0.677768  \n",
       "17698     314.699531     0.523790  \n",
       "17699     446.931024     0.592247  \n",
       "17700     340.693434     0.439225  \n",
       "17701     693.884343     0.381630  \n",
       "\n",
       "[17702 rows x 12 columns]"
      ]
     },
     "execution_count": 27,
     "metadata": {},
     "output_type": "execute_result"
    }
   ],
   "source": [
    "merged_pd = pd.merge(props_all, link_table, left_on=\"label\", right_on=\"img\")\n",
    "merged_pd = merged_pd[[\"date\", \"field\", \"label\", \"pos\",  \"area\", \"convex_area\", \"eccentricity\", \"equivalent_diameter\", \"major_axis_length\", \"minor_axis_length\", \"perimeter\", 'circularity']]\n",
    "merged_pd = merged_pd.rename(columns={\"area\": \"area(mm2)\", \n",
    "                                      \"convex_area\": \"convex_area(mm2)\", \n",
    "                                      \"equivalent_diameter\": \"equivalent_diameter(mm)\", \n",
    "                                      \"major_axis_length\": \"major_axis_length(mm)\",\n",
    "                                      \"minor_axis_length\": \"minor_axis_length(mm)\", \n",
    "                                      \"perimeter\": \"perimeter(mm)\"})\n",
    "merged_pd"
   ]
  },
  {
   "cell_type": "code",
   "execution_count": 28,
   "id": "23f022ff",
   "metadata": {},
   "outputs": [],
   "source": [
    "merged_pd.to_excel(\"out/2021_measured_fix.xlsx\", index=False)"
   ]
  },
  {
   "cell_type": "code",
   "execution_count": null,
   "id": "b734462c",
   "metadata": {},
   "outputs": [],
   "source": []
  }
 ],
 "metadata": {
  "kernelspec": {
   "display_name": "Python 3 (ipykernel)",
   "language": "python",
   "name": "python3"
  },
  "language_info": {
   "codemirror_mode": {
    "name": "ipython",
    "version": 3
   },
   "file_extension": ".py",
   "mimetype": "text/x-python",
   "name": "python",
   "nbconvert_exporter": "python",
   "pygments_lexer": "ipython3",
   "version": "3.8.2"
  }
 },
 "nbformat": 4,
 "nbformat_minor": 5
}
