{
 "cells": [
  {
   "cell_type": "code",
   "execution_count": 1,
   "id": "6a093a83",
   "metadata": {},
   "outputs": [
    {
     "name": "stdout",
     "output_type": "stream",
     "text": [
      "from easyric.caas_lite import TiffSpliter\n",
      "from easyric.objects import Pix4D\n",
      "from easyric.io import shp, geotiff, plot\n",
      "from easyric.calculate import geo2raw, geo2tiff\n",
      "\n",
      "import os\n",
      "import shapefile\n",
      "import numpy as np\n",
      "import matplotlib.pyplot as plt\n",
      "import pandas as pd\n",
      "import shapely\n",
      "import tifffile\n",
      "\n"
     ]
    }
   ],
   "source": [
    "from config import *"
   ]
  },
  {
   "cell_type": "code",
   "execution_count": 2,
   "id": "658651b6",
   "metadata": {},
   "outputs": [],
   "source": [
    "todo_pool20 = [\"0520_p\", \"0522_p\", \"0525_p\", \"0526_p\", \"0528_p\"]\n",
    "todo_pool21 = [\"210512\", \"210514\", \"210515\", \"210519\", \"210520\", \"210526\"]"
   ]
  },
  {
   "cell_type": "code",
   "execution_count": 7,
   "id": "b4fd4df0",
   "metadata": {},
   "outputs": [
    {
     "name": "stdout",
     "output_type": "stream",
     "text": [
      "[Init][Pix4D] No ply given, however find 'broccoli_tanashi_5_20200520_P4M_10m_group1_densified_point_cloud.ply' at current project folder\n",
      "[Init][Pix4D] No dom given, however find 'broccoli_tanashi_5_20200520_P4M_10m_transparent_mosaic_group1.tif' at current project folder\n",
      "[Init][Pix4D] No dsm given, however find 'broccoli_tanashi_5_20200520_P4M_10m_dsm.tif' at current project folder\n",
      "[io][geotiff][GeoCorrd] Comprehense [* 34737 geo_ascii_params (30s) b'WGS 84 / UTM zone 54N|WGS 84|'] to geotiff coordinate tag [WGS 84 / UTM zone 54N]\n",
      "[io][geotiff][GeoCorrd] Comprehense [* 34737 geo_ascii_params (30s) b'WGS 84 / UTM zone 54N|WGS 84|'] to geotiff coordinate tag [WGS 84 / UTM zone 54N]\n",
      "[Init][Pix4D] No ply given, however find 'broccoli_tanashi_5_20200522_P4M_10m_after_group1_densified_point_cloud.ply' at current project folder\n",
      "[Init][Pix4D] No dom given, however find 'broccoli_tanashi_5_20200522_P4M_10m_after_transparent_mosaic_group1.tif' at current project folder\n",
      "[Init][Pix4D] No dsm given, however find 'broccoli_tanashi_5_20200522_P4M_10m_after_dsm.tif' at current project folder\n",
      "[io][geotiff][GeoCorrd] Comprehense [* 34737 geo_ascii_params (30s) b'WGS 84 / UTM zone 54N|WGS 84|'] to geotiff coordinate tag [WGS 84 / UTM zone 54N]\n",
      "[io][geotiff][GeoCorrd] Comprehense [* 34737 geo_ascii_params (30s) b'WGS 84 / UTM zone 54N|WGS 84|'] to geotiff coordinate tag [WGS 84 / UTM zone 54N]\n",
      "[Init][Pix4D] No ply given, however find 'broccoli_tanashi_5_20200525_P4M_10m_group1_densified_point_cloud.ply' at current project folder\n",
      "[Init][Pix4D] No dom given, however find 'broccoli_tanashi_5_20200525_P4M_10m_transparent_mosaic_group1.tif' at current project folder\n",
      "[Init][Pix4D] No dsm given, however find 'broccoli_tanashi_5_20200525_P4M_10m_dsm.tif' at current project folder\n",
      "[io][geotiff][GeoCorrd] Comprehense [* 34737 geo_ascii_params (30s) b'WGS 84 / UTM zone 54N|WGS 84|'] to geotiff coordinate tag [WGS 84 / UTM zone 54N]\n",
      "[io][geotiff][GeoCorrd] Comprehense [* 34737 geo_ascii_params (30s) b'WGS 84 / UTM zone 54N|WGS 84|'] to geotiff coordinate tag [WGS 84 / UTM zone 54N]\n",
      "[Init][Pix4D] No ply given, however find 'broccoli_tanashi_5_20200526_P4M_10m_after_group1_densified_point_cloud.ply' at current project folder\n",
      "[Init][Pix4D] No dom given, however find 'broccoli_tanashi_5_20200526_P4M_10m_after_transparent_mosaic_group1.tif' at current project folder\n",
      "[Init][Pix4D] No dsm given, however find 'broccoli_tanashi_5_20200526_P4M_10m_after_dsm.tif' at current project folder\n",
      "[io][geotiff][GeoCorrd] Comprehense [* 34737 geo_ascii_params (30s) b'WGS 84 / UTM zone 54N|WGS 84|'] to geotiff coordinate tag [WGS 84 / UTM zone 54N]\n",
      "[io][geotiff][GeoCorrd] Comprehense [* 34737 geo_ascii_params (30s) b'WGS 84 / UTM zone 54N|WGS 84|'] to geotiff coordinate tag [WGS 84 / UTM zone 54N]\n",
      "[Init][Pix4D] No ply given, however find 'broccoli_tanashi_5_20200528_P4M_10m_before_group1_densified_point_cloud.ply' at current project folder\n",
      "[Init][Pix4D] No dom given, however find 'broccoli_tanashi_5_20200528_P4M_10m_before_transparent_mosaic_group1.tif' at current project folder\n",
      "[Init][Pix4D] No dsm given, however find 'broccoli_tanashi_5_20200528_P4M_10m_before_dsm.tif' at current project folder\n",
      "[io][geotiff][GeoCorrd] Comprehense [* 34737 geo_ascii_params (30s) b'WGS 84 / UTM zone 54N|WGS 84|'] to geotiff coordinate tag [WGS 84 / UTM zone 54N]\n",
      "[io][geotiff][GeoCorrd] Comprehense [* 34737 geo_ascii_params (30s) b'WGS 84 / UTM zone 54N|WGS 84|'] to geotiff coordinate tag [WGS 84 / UTM zone 54N]\n",
      "[io][geotiff][GeoCorrd] Comprehense [* 34737 geo_ascii_params (30s) b'WGS 84 / UTM zone 54N|WGS 84|'] to geotiff coordinate tag [WGS 84 / UTM zone 54N]\n",
      "[io][geotiff][GeoCorrd] Comprehense [* 34737 geo_ascii_params (30s) b'WGS 84 / UTM zone 54N|WGS 84|'] to geotiff coordinate tag [WGS 84 / UTM zone 54N]\n",
      "[io][geotiff][GeoCorrd] Comprehense [* 34737 geo_ascii_params (30s) b'WGS 84 / UTM zone 54N|WGS 84|'] to geotiff coordinate tag [WGS 84 / UTM zone 54N]\n",
      "[io][geotiff][GeoCorrd] Comprehense [* 34737 geo_ascii_params (30s) b'WGS 84 / UTM zone 54N|WGS 84|'] to geotiff coordinate tag [WGS 84 / UTM zone 54N]\n",
      "[io][geotiff][GeoCorrd] Comprehense [* 34737 geo_ascii_params (30s) b'WGS 84 / UTM zone 54N|WGS 84|'] to geotiff coordinate tag [WGS 84 / UTM zone 54N]\n",
      "[io][geotiff][GeoCorrd] Comprehense [* 34737 geo_ascii_params (30s) b'WGS 84 / UTM zone 54N|WGS 84|'] to geotiff coordinate tag [WGS 84 / UTM zone 54N]\n",
      "[io][geotiff][GeoCorrd] Comprehense [* 34737 geo_ascii_params (30s) b'WGS 84 / UTM zone 54N|WGS 84|'] to geotiff coordinate tag [WGS 84 / UTM zone 54N]\n",
      "[io][geotiff][GeoCorrd] Comprehense [* 34737 geo_ascii_params (30s) b'WGS 84 / UTM zone 54N|WGS 84|'] to geotiff coordinate tag [WGS 84 / UTM zone 54N]\n",
      "[io][geotiff][GeoCorrd] Comprehense [* 34737 geo_ascii_params (30s) b'WGS 84 / UTM zone 54N|WGS 84|'] to geotiff coordinate tag [WGS 84 / UTM zone 54N]\n",
      "[io][geotiff][GeoCorrd] Comprehense [* 34737 geo_ascii_params (30s) b'WGS 84 / UTM zone 54N|WGS 84|'] to geotiff coordinate tag [WGS 84 / UTM zone 54N]\n",
      "[io][geotiff][GeoCorrd] Comprehense [* 34737 geo_ascii_params (30s) b'WGS 84 / UTM zone 54N|WGS 84|'] to geotiff coordinate tag [WGS 84 / UTM zone 54N]\n",
      "[io][geotiff][GeoCorrd] Comprehense [* 34737 geo_ascii_params (30s) b'WGS 84 / UTM zone 54N|WGS 84|'] to geotiff coordinate tag [WGS 84 / UTM zone 54N]\n"
     ]
    }
   ],
   "source": [
    "scale_dict = {}\n",
    "for tp in todo_pool20:\n",
    "    p2 = Paths(tp)\n",
    "\n",
    "    p4d = Pix4D(project_path=p2.pix4d_project, \n",
    "                raw_img_path=p2.raw_img, \n",
    "                project_name=p2.project_name,\n",
    "                param_folder=p2.pix4d_param)\n",
    "    \n",
    "    scale_dict[tp] = p4d.dom_header['scale'][0]\n",
    "    \n",
    "for tp in todo_pool21:\n",
    "    p2 = Paths(tp, year=2021)\n",
    "\n",
    "    p4d = Pix4D(project_path=p2.pix4d_project, \n",
    "                raw_img_path=p2.raw_img, \n",
    "                project_name=p2.project_name,\n",
    "                param_folder=p2.pix4d_param)\n",
    "    \n",
    "    scale_dict[tp] = p4d.dom_header['scale'][0]"
   ]
  },
  {
   "cell_type": "code",
   "execution_count": 5,
   "id": "e94b7a1c",
   "metadata": {},
   "outputs": [
    {
     "data": {
      "text/plain": [
       "{'width': 25684,\n",
       " 'length': 30161,\n",
       " 'scale': (0.00223, 0.00223),\n",
       " 'tie_point': (368054.69581, 3956071.1585500003),\n",
       " 'nodata': -10000,\n",
       " 'proj': <Projected CRS: EPSG:32654>\n",
       " Name: WGS 84 / UTM zone 54N\n",
       " Axis Info [cartesian]:\n",
       " - E[east]: Easting (metre)\n",
       " - N[north]: Northing (metre)\n",
       " Area of Use:\n",
       " - name: Between 138°E and 144°E, northern hemisphere between equator and 84°N, onshore and offshore. Japan. Russian Federation.\n",
       " - bounds: (138.0, 0.0, 144.0, 84.0)\n",
       " Coordinate Operation:\n",
       " - name: UTM zone 54N\n",
       " - method: Transverse Mercator\n",
       " Datum: World Geodetic System 1984\n",
       " - Ellipsoid: WGS 84\n",
       " - Prime Meridian: Greenwich}"
      ]
     },
     "execution_count": 5,
     "metadata": {},
     "output_type": "execute_result"
    }
   ],
   "source": [
    "p4d.dom_header"
   ]
  },
  {
   "cell_type": "code",
   "execution_count": 8,
   "id": "5159f248",
   "metadata": {},
   "outputs": [
    {
     "data": {
      "text/plain": [
       "{'0520_p': 0.00223,\n",
       " '0522_p': 0.00283,\n",
       " '0525_p': 0.00299,\n",
       " '0526_p': 0.00267,\n",
       " '0528_p': 0.00269,\n",
       " '210512': 0.00408,\n",
       " '210514': 0.004070000000000001,\n",
       " '210515': 0.004050000000000001,\n",
       " '210519': 0.00408,\n",
       " '210520': 0.00406,\n",
       " '210526': 0.004070000000000001}"
      ]
     },
     "execution_count": 8,
     "metadata": {},
     "output_type": "execute_result"
    }
   ],
   "source": [
    "scale_dict"
   ]
  },
  {
   "cell_type": "code",
   "execution_count": null,
   "id": "06739104",
   "metadata": {},
   "outputs": [],
   "source": []
  }
 ],
 "metadata": {
  "kernelspec": {
   "display_name": "Python 3",
   "language": "python",
   "name": "python3"
  },
  "language_info": {
   "codemirror_mode": {
    "name": "ipython",
    "version": 3
   },
   "file_extension": ".py",
   "mimetype": "text/x-python",
   "name": "python",
   "nbconvert_exporter": "python",
   "pygments_lexer": "ipython3",
   "version": "3.8.8"
  }
 },
 "nbformat": 4,
 "nbformat_minor": 5
}
