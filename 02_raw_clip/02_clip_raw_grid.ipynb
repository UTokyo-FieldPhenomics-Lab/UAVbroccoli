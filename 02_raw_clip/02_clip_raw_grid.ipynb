{
 "cells": [
  {
   "cell_type": "code",
   "execution_count": 1,
   "id": "2f03076f",
   "metadata": {},
   "outputs": [
    {
     "name": "stdout",
     "output_type": "stream",
     "text": [
      "from easyric.caas_lite import TiffSpliter\n",
      "from easyric.objects import Pix4D\n",
      "from easyric.io import shp, geotiff, plot\n",
      "from easyric.calculate import geo2raw, geo2tiff\n",
      "\n",
      "import os\n",
      "import shapefile\n",
      "import numpy as np\n",
      "import matplotlib.pyplot as plt\n",
      "import pandas as pd\n",
      "import shapely\n",
      "import tifffile\n",
      "\n"
     ]
    }
   ],
   "source": [
    "from config import *"
   ]
  },
  {
   "cell_type": "code",
   "execution_count": 3,
   "id": "99041507",
   "metadata": {},
   "outputs": [
    {
     "name": "stdout",
     "output_type": "stream",
     "text": [
      "[Init][Pix4D] No ply given, however find 'broccoli_tanashi_5_20200518_P4M_10m_group1_densified_point_cloud.ply' at current project folder\n",
      "[Init][Pix4D] No dom given, however find 'broccoli_tanashi_5_20200518_P4M_10m_transparent_mosaic_group1.tif' at current project folder\n",
      "[Init][Pix4D] No dsm given, however find 'broccoli_tanashi_5_20200518_P4M_10m_dsm.tif' at current project folder\n",
      "[io][geotiff][GeoCorrd] Comprehense [* 34737 geo_ascii_params (30s) b'WGS 84 / UTM zone 54N|WGS 84|'] to geotiff coordinate tag [WGS 84 / UTM zone 54N]\n",
      "[io][geotiff][GeoCorrd] Comprehense [* 34737 geo_ascii_params (30s) b'WGS 84 / UTM zone 54N|WGS 84|'] to geotiff coordinate tag [WGS 84 / UTM zone 54N]\n",
      "[io][geotiff][GeoCorrd] Comprehense [* 34737 geo_ascii_params (30s) b'WGS 84 / UTM zone 54N|WGS 84|'] to geotiff coordinate tag [WGS 84 / UTM zone 54N]\n",
      "[io][shp][fields] Shp fields: {'id': 0, 'left': 1, 'top': 2, 'right': 3, 'bottom': 4}\n",
      "[io][shp][proj] find ESRI projection file Y:\\hwang_Pro\\data\\2020_tanashi_broccoli\\02_GIS\\rotate_grids\\split_grid_2.5m.prj, and successfully obtain projection cartesian\n"
     ]
    }
   ],
   "source": [
    "p2 = Paths(\"0518_p\")\n",
    "\n",
    "p4d = Pix4D(project_path=p2.pix4d_project, \n",
    "            raw_img_path=p2.raw_img, \n",
    "            project_name=p2.project_name,\n",
    "            param_folder=p2.pix4d_param)\n",
    "\n",
    "shp_file = r\"Y:\\hwang_Pro\\data\\2020_tanashi_broccoli\\02_GIS\\rotate_grids\\split_grid_2.5m.shp\"\n",
    "\n",
    "process_area = shp.read_shp3d(shp_file, dsm_path=p4d.dsm_file, geotiff_proj=p4d.dsm_header['proj'], name_field=\"id\", get_z_by=\"mean\")"
   ]
  },
  {
   "cell_type": "code",
   "execution_count": null,
   "id": "39ea4c2e",
   "metadata": {},
   "outputs": [],
   "source": [
    "###############  \n",
    "# 01_clip_raw #\n",
    "###############\n",
    "\n",
    "# please refer to 01_slice/09_project2raw.ipynb\n",
    "# calculate the distance\n",
    "def calculate_dist2center(p4d, geo2raw_out_dict, id_name):\n",
    "    dist_container = pd.DataFrame(columns=['id', 'image', 'xc', 'yc', 'dist', 'angle', #'direction', \n",
    "                                           \"select\", 'roi'])\n",
    "    for i, c in geo2raw_out_dict.items():\n",
    "        c = np.asarray(c)\n",
    "        #x0, y0 = c.mean(axis=0)\n",
    "        xmin, ymin = c.min(axis=0)\n",
    "        xmax, ymax = c.max(axis=0)\n",
    "        roi_w = xmax - xmin\n",
    "        roi_h = ymax - ymin\n",
    "        x0 = (xmax+xmin)/2\n",
    "        y0 = (ymax+ymin)/2\n",
    "                \n",
    "        if roi_w > 1500 or roi_h > 1500:\n",
    "            print(f\"[Warning]: plot [{id_name}] on img [{i}], roi size ({roi_w},{roi_h}) exceed (1500, 1500)\")\n",
    "        \n",
    "\n",
    "        x1, y1 = 0.5 * p4d.img[i].w, 0.5 * p4d.img[i].h\n",
    "        d = np.sqrt((x1-x0) ** 2 + (y1 - y0) ** 2)\n",
    "        \n",
    "        v1 = np.asarray([x0-x1, y0-y1])\n",
    "        v0 = np.asarray([0, 1])\n",
    "        \n",
    "        # https://blog.csdn.net/qq_32424059/article/details/100874358\n",
    "        angle = calc_angle_2(v0, v1)\n",
    "        \"\"\"\n",
    "        if angle > 45 and angle <= 135:\n",
    "            direction = 'Right'\n",
    "        elif angle > 135 and angle <= 225:\n",
    "            direction = \"Down\"\n",
    "        elif angle > 225 and angle <= 315:\n",
    "            direction = \"Left\"\n",
    "        else:\n",
    "            direction = \"Up\"\n",
    "        \"\"\"\n",
    "        \n",
    "        dist_container.loc[len(dist_container)] = {\"id\":id_name, \"image\":i, \"xc\":x0, \"yc\":y0, \"dist\":d, \n",
    "                                                   \"angle\":angle, #\"direction\":direction,\n",
    "                                                   \"select\":False, \"roi\":c}\n",
    "        dist_container['dist'] = dist_container['dist'].astype(float)\n",
    "\n",
    "    return dist_container\n",
    "\n",
    "def calc_angle_2(v1, v2):\n",
    "    '''\n",
    "    支持大于180度计算\n",
    "    https://www.pythonf.cn/read/131921\n",
    "    '''\n",
    "    r = np.arccos(np.dot(v1, v2) / (np.linalg.norm(v1, 2) * np.linalg.norm(v2, 2)))\n",
    "    deg = r * 180 / np.pi\n",
    "\n",
    "    a1 = np.array([*v1, 0])\n",
    "    a2 = np.array([*v2, 0])\n",
    "\n",
    "    a3 = np.cross(a1, a2)\n",
    "\n",
    "    if np.sign(a3[2]) > 0:\n",
    "        deg = 360 - deg\n",
    "\n",
    "    return deg\n",
    "\n",
    "def select_best(dist_container, strategy=\"min_dist\"):\n",
    "    if strategy == \"min_dist\":\n",
    "        dist_container = dist_container.sort_values(by=['dist'], axis=0, ascending=True)\n",
    "        dist_container = dist_container.reset_index()\n",
    "    \n",
    "        return dist_container.iloc[0:10, :]\n",
    "    else:\n",
    "        dist_container = dist_container.sort_values(by=['direction', 'dist'], axis=0, ascending=True)\n",
    "        \n",
    "        direct = ['Up', 'Right', 'Down', 'Left']\n",
    "\n",
    "        for i, d in enumerate(direct):\n",
    "            t_all = reverse_dist[reverse_dist.direction == d]\n",
    "            t = t_all.iloc[0,:]\n",
    "            ax.scatter(t.xc, t.yc, c=color[i])"
   ]
  },
  {
   "cell_type": "code",
   "execution_count": null,
   "id": "545ac68b",
   "metadata": {},
   "outputs": [],
   "source": [
    "result_container = pd.DataFrame(columns=['id', 'image', 'xc', 'yc', 'dist', 'angle', \n",
    "                                          \"select\", 'roi'])\n",
    "for plot_id, roi in process_area.items():\n",
    "    img_dict = geo2raw.get_img_coords_dict(p4d, roi-p4d.offset.np, method=\"pmat\")\n",
    "    \n",
    "    reverse_dist = calculate_dist2center(p4d, img_dict, id_name=plot_id)\n",
    "    \n",
    "    selected_idx = reverse_dist.copy().sort_values(by=['dist'], axis=0, ascending=True).index[0:3]\n",
    "    reverse_dist.loc[selected_idx, 'select'] = True\n",
    "    \n",
    "    result_container = pd.concat([result_container, reverse_dist])\n",
    "    \n",
    "result_container['offset_x'] = round(result_container.xc - 750).astype(np.int32)\n",
    "result_container['offset_y'] = round(result_container.yc - 750).astype(np.int32)"
   ]
  },
  {
   "cell_type": "code",
   "execution_count": null,
   "id": "2e175b32",
   "metadata": {},
   "outputs": [],
   "source": [
    "result_container"
   ]
  },
  {
   "cell_type": "code",
   "execution_count": null,
   "id": "8f539144",
   "metadata": {},
   "outputs": [],
   "source": [
    "csv_folder = f\"{p2.root}/13_roi_on_raw/{p2.project_name}\"\n",
    "if not os.path.exists(csv_folder):\n",
    "    os.mkdir(csv_folder)\n",
    "    \n",
    "result_container.to_csv(f\"{csv_folder}.csv\", index=False)"
   ]
  },
  {
   "cell_type": "markdown",
   "id": "9693c7b0",
   "metadata": {},
   "source": [
    "# read broccoli root"
   ]
  },
  {
   "cell_type": "code",
   "execution_count": null,
   "id": "ef09e2c5",
   "metadata": {},
   "outputs": [],
   "source": [
    "root = shapefile.Reader(f\"{p2.root}/10_locate_by_cv/color_label_0417_mavic/keep_points_manual.shp\")"
   ]
  },
  {
   "cell_type": "code",
   "execution_count": null,
   "id": "a1a491fd",
   "metadata": {},
   "outputs": [],
   "source": [
    "points_np = np.zeros((0,2))\n",
    "for i, point in enumerate(root.shapes()):\n",
    "    points_np = np.vstack([points_np, np.asarray(point.points)])"
   ]
  },
  {
   "cell_type": "code",
   "execution_count": null,
   "id": "ebc93b4f",
   "metadata": {},
   "outputs": [],
   "source": [
    "points_np"
   ]
  },
  {
   "cell_type": "markdown",
   "id": "ecf30f55",
   "metadata": {},
   "source": [
    "ht = current polygon height `process_area[i]`"
   ]
  },
  {
   "cell_type": "code",
   "execution_count": null,
   "id": "c155051b",
   "metadata": {},
   "outputs": [],
   "source": [
    "process_area['1'][0,2]"
   ]
  },
  {
   "cell_type": "code",
   "execution_count": null,
   "id": "ad11d1ad",
   "metadata": {},
   "outputs": [],
   "source": [
    "points_np3d = np.insert(points_np, 2, process_area['1'][0,2], axis=1)\n",
    "points_np3d"
   ]
  },
  {
   "cell_type": "code",
   "execution_count": null,
   "id": "293e5a92",
   "metadata": {},
   "outputs": [],
   "source": [
    "points_raw = geo2raw.pmatrix_calc(p4d, points_np3d-p4d.offset.np, \"DJI_0482.JPG\", distort_correct=True)\n",
    "points_raw"
   ]
  },
  {
   "cell_type": "code",
   "execution_count": null,
   "id": "1015dab0",
   "metadata": {},
   "outputs": [],
   "source": [
    "from PIL import Image"
   ]
  },
  {
   "cell_type": "code",
   "execution_count": null,
   "id": "6be03ac1",
   "metadata": {},
   "outputs": [],
   "source": [
    "deeplab_dict = {}\n",
    "for idx, row in result_container[result_container.select].iterrows():\n",
    "    original = Image.open(p4d.img[row.image].path)\n",
    "    cropped = original.crop([row.offset_x, row.offset_y, row.offset_x+1500, row.offset_y+1500])\n",
    "    \n",
    "    points_np3d = np.insert(points_np, 2, process_area[row.id][0,2], axis=1)\n",
    "    points_raw = geo2raw.pmatrix_calc(p4d, points_np3d-p4d.offset.np, row.image, distort_correct=True)\n",
    "    \n",
    "    points_left = points_raw[(points_raw[:,0] > row.offset_x) & (points_raw[:,0] < row.offset_x+1500) & \n",
    "                             (points_raw[:,1] > row.offset_y) & (points_raw[:,1] < row.offset_y+1500), :]\n",
    "    \n",
    "    print(row.image, row.id, len(points_left), end='\\r')\n",
    "    points_left_offset = points_left - np.asarray([[row.offset_x, row.offset_y]])\n",
    "    \n",
    "    #cropped.save(f\"{csv_folder}/{row.id}_{row.image}\")\n",
    "    break"
   ]
  },
  {
   "cell_type": "code",
   "execution_count": null,
   "id": "ec4b4cf2",
   "metadata": {},
   "outputs": [],
   "source": [
    "points_left_offset"
   ]
  },
  {
   "cell_type": "code",
   "execution_count": null,
   "id": "b027abc2",
   "metadata": {},
   "outputs": [],
   "source": [
    "points_left_offset.tolist()"
   ]
  },
  {
   "cell_type": "code",
   "execution_count": null,
   "id": "eaf6338f",
   "metadata": {},
   "outputs": [],
   "source": [
    "roi_grid = row.roi - np.asarray([row.offset_x, row.offset_y])\n",
    "roi_grid"
   ]
  },
  {
   "cell_type": "code",
   "execution_count": null,
   "id": "7f1508b3",
   "metadata": {},
   "outputs": [],
   "source": [
    "plt.imshow(np.asarray(cropped))\n",
    "plt.plot(*roi_grid.T, color='r')\n",
    "plt.scatter(*points_left_offset.T, color='r')"
   ]
  },
  {
   "cell_type": "code",
   "execution_count": null,
   "id": "d842ae9d",
   "metadata": {},
   "outputs": [],
   "source": [
    "deeplab_dict = {}\n",
    "for idx, row in result_container[result_container.select].iterrows():\n",
    "    original = Image.open(p4d.img[row.image].path)\n",
    "    cropped = original.crop([row.offset_x, row.offset_y, row.offset_x+1500, row.offset_y+1500])\n",
    "    \n",
    "    points_np3d = np.insert(points_np, 2, process_area[row.id][0,2], axis=1)\n",
    "    points_raw = geo2raw.pmatrix_calc(p4d, points_np3d-p4d.offset.np, row.image, distort_correct=True)\n",
    "    \n",
    "    points_left = points_raw[(points_raw[:,0] > row.offset_x) & (points_raw[:,0] < row.offset_x+1500) & \n",
    "                             (points_raw[:,1] > row.offset_y) & (points_raw[:,1] < row.offset_y+1500), :]\n",
    "    \n",
    "    print(row.image, row.id, len(points_left), end='\\r')\n",
    "    points_left_offset = points_left - np.asarray([[row.offset_x, row.offset_y]])\n",
    "    \n",
    "    img_name= f\"{row.id}_{row.image}\"\n",
    "    \n",
    "    deeplab_dict[img_name] = {\"imagePath\": f\"./{p2.project_name}/{img_name}\",\n",
    "                              \"points\": points_left_offset.tolist()}\n",
    "    \n",
    "    cropped.save(f\"{csv_folder}/{row.id}_{row.image}\")\n",
    "    break"
   ]
  },
  {
   "cell_type": "code",
   "execution_count": null,
   "id": "e9d540e7",
   "metadata": {},
   "outputs": [],
   "source": [
    "deeplab_dict"
   ]
  },
  {
   "cell_type": "code",
   "execution_count": null,
   "id": "a3ac1631",
   "metadata": {},
   "outputs": [],
   "source": [
    "from easyric.io.json import dict2json"
   ]
  },
  {
   "cell_type": "code",
   "execution_count": null,
   "id": "dc869a43",
   "metadata": {},
   "outputs": [],
   "source": [
    "dict2json(deeplab_dict, f\"{p2.root}/13_roi_on_raw/{p2.project_name}.json\")"
   ]
  },
  {
   "cell_type": "markdown",
   "id": "e6f283d8",
   "metadata": {},
   "source": [
    "# run batch"
   ]
  },
  {
   "cell_type": "code",
   "execution_count": null,
   "id": "ce4fcbf2",
   "metadata": {},
   "outputs": [],
   "source": [
    "deeplab_dict = {}\n",
    "for idx, row in result_container[result_container.select].iterrows():\n",
    "    original = Image.open(p4d.img[row.image].path)\n",
    "    cropped = original.crop([row.offset_x, row.offset_y, row.offset_x+1500, row.offset_y+1500])\n",
    "    \n",
    "    points_np3d = np.insert(points_np, 2, process_area[row.id][0,2], axis=1)\n",
    "    points_raw = geo2raw.pmatrix_calc(p4d, points_np3d-p4d.offset.np, row.image, distort_correct=True)\n",
    "    \n",
    "    points_left = points_raw[(points_raw[:,0] > row.offset_x) & (points_raw[:,0] < row.offset_x+1500) & \n",
    "                             (points_raw[:,1] > row.offset_y) & (points_raw[:,1] < row.offset_y+1500), :]\n",
    "    \n",
    "    print(row.image, row.id, len(points_left), end='\\r')\n",
    "    points_left_offset = points_left - np.asarray([[row.offset_x, row.offset_y]])\n",
    "    \n",
    "    img_name= f\"{row.id}_{row.image}\"\n",
    "    \n",
    "    deeplab_dict[img_name] = {\"imagePath\": f\"./{p2.project_name}/{img_name}\",\n",
    "                              \"points\": points_left_offset.tolist()}\n",
    "    \n",
    "    cropped.save(f\"{csv_folder}/{row.id}_{row.image}\")\n",
    "\n",
    "dict2json(deeplab_dict, f\"{p2.root}/13_roi_on_raw/{p2.project_name}.json\")"
   ]
  },
  {
   "cell_type": "code",
   "execution_count": null,
   "id": "480d453e",
   "metadata": {},
   "outputs": [],
   "source": []
  }
 ],
 "metadata": {
  "kernelspec": {
   "display_name": "Python 3",
   "language": "python",
   "name": "python3"
  },
  "language_info": {
   "codemirror_mode": {
    "name": "ipython",
    "version": 3
   },
   "file_extension": ".py",
   "mimetype": "text/x-python",
   "name": "python",
   "nbconvert_exporter": "python",
   "pygments_lexer": "ipython3",
   "version": "3.8.8"
  }
 },
 "nbformat": 4,
 "nbformat_minor": 5
}
