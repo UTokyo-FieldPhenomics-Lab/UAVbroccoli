{
 "cells": [
  {
   "cell_type": "code",
   "execution_count": 1,
   "id": "e83772d9",
   "metadata": {},
   "outputs": [
    {
     "name": "stdout",
     "output_type": "stream",
     "text": [
      "from easyric.caas_lite import TiffSpliter\n",
      "from easyric.objects import Pix4D\n",
      "from easyric.io import shp, geotiff, plot\n",
      "from easyric.calculate import geo2raw, geo2tiff\n",
      "\n",
      "import os\n",
      "import shapefile\n",
      "import numpy as np\n",
      "import matplotlib.pyplot as plt\n",
      "import pandas as pd\n",
      "import shapely\n",
      "import tifffile\n",
      "\n"
     ]
    }
   ],
   "source": [
    "from config import *"
   ]
  },
  {
   "cell_type": "code",
   "execution_count": 4,
   "id": "c4cb0a01",
   "metadata": {},
   "outputs": [],
   "source": [
    "def slice_one_plot(project_name, format='jpg', year=2021):\n",
    "    #project_path = f\"{drive}:/共享云端硬盘/broccoliProject/01_tanashi_broccoli2020_RGB_AP/{project_name}\"\n",
    "    #raw_img_folder = f\"{drive}:/共享云端硬盘/broccoliProject/00_rgb_raw/{project_name}\"\n",
    "    #param_folder = f\"{project_path}/params\"\n",
    "    #out_folder = f\"{drive}:/共享云端硬盘/broccoliProject/10_anotation_use/{format}/{project_name}\"\n",
    "    #json_name = f\"{out_folder}.json\"\n",
    "    cp = Paths(project_name, year)\n",
    "    \n",
    "    project_path = cp.pix4d_project\n",
    "    raw_img_folder = cp.raw_img\n",
    "    param_folder = cp.pix4d_param\n",
    "    if format=='tif':\n",
    "        out_folder = f\"{cp.root}/10_annotation_use/geotiff/{cp.project_name}\"\n",
    "    else:\n",
    "        out_folder = f\"{cp.root}/10_annotation_use/{format}/{cp.project_name}\"\n",
    "    json_name = f\"{out_folder}.json\"\n",
    "    \n",
    "    \n",
    "    if not os.path.exists(out_folder):\n",
    "        os.mkdir(out_folder)\n",
    "\n",
    "    p4d = Pix4D(project_path=project_path, \n",
    "                raw_img_path=raw_img_folder, \n",
    "                project_name=cp.project_name,\n",
    "                param_folder=param_folder)\n",
    "    \n",
    "    ts = TiffSpliter(tif_path=p4d.dom_file, grid_h=1500, grid_w=1500, grid_buffer=200)\n",
    "    \n",
    "    offset_json = {}\n",
    "    for w_id, w_st in enumerate(ts.wgrid_st):\n",
    "        for h_id, h_st in enumerate(ts.hgrid_st):\n",
    "            tiff_name = ts.id2name(w_id=w_id, h_id=h_id)\n",
    "            offset_json[tiff_name] = {'x':ts.wgrid_st[w_id], \n",
    "                                      'y':ts.hgrid_st[h_id]}\n",
    "    ts.dict2json(offset_json, json_name)\n",
    "    \n",
    "    ts.save_all_grids(save_folder=out_folder, extend=True, skip_empty=True, format=format)"
   ]
  },
  {
   "cell_type": "code",
   "execution_count": 7,
   "id": "c5778d3f",
   "metadata": {},
   "outputs": [
    {
     "name": "stdout",
     "output_type": "stream",
     "text": [
      "[io][geotiff][GeoCorrd] Comprehense [* 34737 geo_ascii_params (30s) b'WGS 84 / UTM zone 54N|WGS 84|'] to geotiff coordinate tag [WGS 84 / UTM zone 54N]\n",
      "[io][geotiff][GeoCorrd] Comprehense [* 34737 geo_ascii_params (30s) b'WGS 84 / UTM zone 54N|WGS 84|'] to geotiff coordinate tag [WGS 84 / UTM zone 54N]\n",
      "grid_x8_y13.jpg | 100.0 % done | 72 s passed, 0 s left    \n",
      "Cost 72 s in total\n"
     ]
    }
   ],
   "source": [
    "slice_one_plot(\"210412\")"
   ]
  },
  {
   "cell_type": "code",
   "execution_count": 6,
   "id": "7871dadd",
   "metadata": {},
   "outputs": [
    {
     "name": "stdout",
     "output_type": "stream",
     "text": [
      "[io][geotiff][GeoCorrd] Comprehense [* 34737 geo_ascii_params (30s) b'WGS 84 / UTM zone 54N|WGS 84|'] to geotiff coordinate tag [WGS 84 / UTM zone 54N]\n",
      "[io][geotiff][GeoCorrd] Comprehense [* 34737 geo_ascii_params (30s) b'WGS 84 / UTM zone 54N|WGS 84|'] to geotiff coordinate tag [WGS 84 / UTM zone 54N]\n",
      "grid_x7_y11.jpg | 100.0 % done | 41 s passed, 0 s left    \n",
      "Cost 41 s in total\n"
     ]
    }
   ],
   "source": [
    "slice_one_plot(\"191001\", year=2019)"
   ]
  },
  {
   "cell_type": "code",
   "execution_count": null,
   "id": "f28ed6bf",
   "metadata": {},
   "outputs": [],
   "source": []
  }
 ],
 "metadata": {
  "kernelspec": {
   "display_name": "Python 3",
   "language": "python",
   "name": "python3"
  },
  "language_info": {
   "codemirror_mode": {
    "name": "ipython",
    "version": 3
   },
   "file_extension": ".py",
   "mimetype": "text/x-python",
   "name": "python",
   "nbconvert_exporter": "python",
   "pygments_lexer": "ipython3",
   "version": "3.8.8"
  }
 },
 "nbformat": 4,
 "nbformat_minor": 5
}
