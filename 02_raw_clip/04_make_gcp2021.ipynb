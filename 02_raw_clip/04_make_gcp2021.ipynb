{
 "cells": [
  {
   "cell_type": "code",
   "execution_count": 1,
   "id": "6965e09c",
   "metadata": {},
   "outputs": [
    {
     "name": "stdout",
     "output_type": "stream",
     "text": [
      "from easyric.caas_lite import TiffSpliter\n",
      "from easyric.objects import Pix4D\n",
      "from easyric.io import shp, geotiff, plot\n",
      "from easyric.calculate import geo2raw, geo2tiff\n",
      "\n",
      "import os\n",
      "import shapefile\n",
      "import numpy as np\n",
      "import matplotlib.pyplot as plt\n",
      "import pandas as pd\n",
      "import shapely\n",
      "import tifffile\n",
      "\n"
     ]
    }
   ],
   "source": [
    "from config import *"
   ]
  },
  {
   "cell_type": "code",
   "execution_count": 3,
   "id": "9fae2620",
   "metadata": {},
   "outputs": [
    {
     "name": "stdout",
     "output_type": "stream",
     "text": [
      "[io][geotiff][GeoCorrd] Comprehense [* 34737 geo_ascii_params (30s) b'WGS 84 / UTM zone 54N|WGS 84|'] to geotiff coordinate tag [WGS 84 / UTM zone 54N]\n",
      "[io][geotiff][GeoCorrd] Comprehense [* 34737 geo_ascii_params (30s) b'WGS 84 / UTM zone 54N|WGS 84|'] to geotiff coordinate tag [WGS 84 / UTM zone 54N]\n"
     ]
    }
   ],
   "source": [
    "p = Paths(\"210412\", year=2021)\n",
    "\n",
    "p4d = Pix4D(project_path=p.pix4d_project, \n",
    "            raw_img_path=p.raw_img, \n",
    "            project_name=p.project_name,\n",
    "            param_folder=p.pix4d_param)"
   ]
  },
  {
   "cell_type": "code",
   "execution_count": 4,
   "id": "011fce65",
   "metadata": {},
   "outputs": [],
   "source": [
    "gcp_shp = shapefile.Reader(f\"{p.root}/02_GIS/gcp.shp\")"
   ]
  },
  {
   "cell_type": "code",
   "execution_count": 14,
   "id": "8896c0ba",
   "metadata": {},
   "outputs": [
    {
     "data": {
      "text/plain": [
       "5"
      ]
     },
     "execution_count": 14,
     "metadata": {},
     "output_type": "execute_result"
    }
   ],
   "source": [
    "gcp_shp.records()[0][\"id\"]"
   ]
  },
  {
   "cell_type": "code",
   "execution_count": 15,
   "id": "61198d85",
   "metadata": {},
   "outputs": [],
   "source": [
    "gcp_2d = np.zeros((0,2))\n",
    "id_list = []\n",
    "for i, point in enumerate(gcp_shp.shapes()):\n",
    "    id_list.append(gcp_shp.records()[i][\"id\"])\n",
    "    gcp_2d = np.vstack([gcp_2d, np.asarray(point.points)])"
   ]
  },
  {
   "cell_type": "code",
   "execution_count": 16,
   "id": "b413d521",
   "metadata": {},
   "outputs": [
    {
     "data": {
      "text/plain": [
       "array([[ 368097.35686395, 3956068.1734115 ],\n",
       "       [ 368118.01213111, 3956072.17427087],\n",
       "       [ 368117.16281048, 3956053.47015926],\n",
       "       [ 368112.93501424, 3956044.32447808],\n",
       "       [ 368101.87478832, 3956044.76305552],\n",
       "       [ 368126.63773818, 3956039.17313655],\n",
       "       [ 368109.05151006, 3956033.93478165],\n",
       "       [ 368129.31433944, 3956020.34916215],\n",
       "       [ 368108.04195444, 3956015.87963425]])"
      ]
     },
     "execution_count": 16,
     "metadata": {},
     "output_type": "execute_result"
    }
   ],
   "source": [
    "gcp_2d"
   ]
  },
  {
   "cell_type": "code",
   "execution_count": 17,
   "id": "ffcb87cb",
   "metadata": {},
   "outputs": [
    {
     "data": {
      "text/plain": [
       "[5, 11, 4, 66, 7, 13, 17, 3, 1]"
      ]
     },
     "execution_count": 17,
     "metadata": {},
     "output_type": "execute_result"
    }
   ],
   "source": [
    "id_list"
   ]
  },
  {
   "cell_type": "code",
   "execution_count": 19,
   "id": "a68b34f5",
   "metadata": {},
   "outputs": [
    {
     "name": "stdout",
     "output_type": "stream",
     "text": [
      "[io][geotiff][GeoCorrd] Comprehense [* 34737 geo_ascii_params (30s) b'WGS 84 / UTM zone 54N|WGS 84|'] to geotiff coordinate tag [WGS 84 / UTM zone 54N]\n"
     ]
    },
    {
     "data": {
      "text/plain": [
       "array([96.31834412, 96.35895538, 96.30702972, 96.37060547, 96.4148407 ,\n",
       "       96.46572876, 96.39712524, 96.55265045, 96.50708771])"
      ]
     },
     "execution_count": 19,
     "metadata": {},
     "output_type": "execute_result"
    }
   ],
   "source": [
    "ht = geotiff.point_query(p4d.dsm_file, gcp_2d)\n",
    "ht"
   ]
  },
  {
   "cell_type": "code",
   "execution_count": 21,
   "id": "4066f50e",
   "metadata": {},
   "outputs": [],
   "source": [
    "csv_str = \"\"\n",
    "\n",
    "for n, lonlat, h in zip(id_list, gcp_2d, ht):\n",
    "    csv_str += f\"{n}, {lonlat[0]}, {lonlat[1]}, {h}\\n\""
   ]
  },
  {
   "cell_type": "code",
   "execution_count": 22,
   "id": "8ebf2704",
   "metadata": {},
   "outputs": [
    {
     "data": {
      "text/plain": [
       "'5, 368097.35686394863, 3956068.1734114955, 96.31834411621094\\n11, 368118.0121311137, 3956072.1742708697, 96.35895538330078\\n4, 368117.16281048016, 3956053.4701592554, 96.3070297241211\\n66, 368112.9350142363, 3956044.324478082, 96.37060546875\\n7, 368101.87478832126, 3956044.763055521, 96.41484069824219\\n13, 368126.6377381831, 3956039.173136548, 96.46572875976562\\n17, 368109.05151005916, 3956033.9347816524, 96.39712524414062\\n3, 368129.314339435, 3956020.3491621455, 96.55265045166016\\n1, 368108.04195444356, 3956015.8796342537, 96.50708770751953\\n'"
      ]
     },
     "execution_count": 22,
     "metadata": {},
     "output_type": "execute_result"
    }
   ],
   "source": [
    "csv_str"
   ]
  },
  {
   "cell_type": "code",
   "execution_count": 23,
   "id": "b786fa3a",
   "metadata": {},
   "outputs": [],
   "source": [
    "with open(f\"{p.root}/02_GIS/qgis_gcp_utm54n.csv\", \"w\") as f:\n",
    "    f.write(csv_str)"
   ]
  },
  {
   "cell_type": "code",
   "execution_count": null,
   "id": "54b04c8c",
   "metadata": {},
   "outputs": [],
   "source": []
  }
 ],
 "metadata": {
  "kernelspec": {
   "display_name": "Python 3",
   "language": "python",
   "name": "python3"
  },
  "language_info": {
   "codemirror_mode": {
    "name": "ipython",
    "version": 3
   },
   "file_extension": ".py",
   "mimetype": "text/x-python",
   "name": "python",
   "nbconvert_exporter": "python",
   "pygments_lexer": "ipython3",
   "version": "3.8.8"
  }
 },
 "nbformat": 4,
 "nbformat_minor": 5
}
